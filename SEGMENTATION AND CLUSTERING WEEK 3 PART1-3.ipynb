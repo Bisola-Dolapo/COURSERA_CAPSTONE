{
 "cells": [
  {
   "cell_type": "markdown",
   "metadata": {},
   "source": [
    "# Coursera \"Applied Data Science Capstone\" Project -- Week 3 -- Part 1\n",
    "\n"
   ]
  },
  {
   "cell_type": "markdown",
   "metadata": {},
   "source": [
    "### Segmenting and Clustering Neighborhoods in Toronto"
   ]
  },
  {
   "cell_type": "markdown",
   "metadata": {},
   "source": [
    "#### Firstly, installing required libraries"
   ]
  },
  {
   "cell_type": "code",
   "execution_count": 94,
   "metadata": {},
   "outputs": [
    {
     "name": "stdout",
     "output_type": "stream",
     "text": [
      "Requirement already satisfied: beautifulsoup4 in c:\\users\\arc sogo\\anaconda3\\new folder\\lib\\site-packages (4.9.3)\n",
      "Requirement already satisfied: soupsieve>1.2; python_version >= \"3.0\" in c:\\users\\arc sogo\\anaconda3\\new folder\\lib\\site-packages (from beautifulsoup4) (2.0.1)\n"
     ]
    }
   ],
   "source": [
    "!pip install beautifulsoup4"
   ]
  },
  {
   "cell_type": "code",
   "execution_count": 15,
   "metadata": {},
   "outputs": [
    {
     "name": "stdout",
     "output_type": "stream",
     "text": [
      "Requirement already satisfied: requests in c:\\users\\arc sogo\\anaconda3\\new folder\\lib\\site-packages (2.24.0)\n",
      "Requirement already satisfied: idna<3,>=2.5 in c:\\users\\arc sogo\\anaconda3\\new folder\\lib\\site-packages (from requests) (2.10)\n",
      "Requirement already satisfied: urllib3!=1.25.0,!=1.25.1,<1.26,>=1.21.1 in c:\\users\\arc sogo\\anaconda3\\new folder\\lib\\site-packages (from requests) (1.25.11)\n",
      "Requirement already satisfied: chardet<4,>=3.0.2 in c:\\users\\arc sogo\\anaconda3\\new folder\\lib\\site-packages (from requests) (3.0.4)\n",
      "Requirement already satisfied: certifi>=2017.4.17 in c:\\users\\arc sogo\\anaconda3\\new folder\\lib\\site-packages (from requests) (2020.6.20)\n"
     ]
    }
   ],
   "source": [
    "!pip install requests"
   ]
  },
  {
   "cell_type": "code",
   "execution_count": 16,
   "metadata": {},
   "outputs": [
    {
     "name": "stdout",
     "output_type": "stream",
     "text": [
      "Requirement already satisfied: pandas in c:\\users\\arc sogo\\anaconda3\\new folder\\lib\\site-packages (1.0.3)\n",
      "Requirement already satisfied: python-dateutil>=2.6.1 in c:\\users\\arc sogo\\anaconda3\\new folder\\lib\\site-packages (from pandas) (2.8.1)\n",
      "Requirement already satisfied: pytz>=2017.2 in c:\\users\\arc sogo\\anaconda3\\new folder\\lib\\site-packages (from pandas) (2020.1)\n",
      "Requirement already satisfied: numpy>=1.13.3 in c:\\users\\arc sogo\\anaconda3\\new folder\\lib\\site-packages (from pandas) (1.19.2)\n",
      "Requirement already satisfied: six>=1.5 in c:\\users\\arc sogo\\anaconda3\\new folder\\lib\\site-packages (from python-dateutil>=2.6.1->pandas) (1.15.0)\n"
     ]
    }
   ],
   "source": [
    "!pip install pandas"
   ]
  },
  {
   "cell_type": "code",
   "execution_count": 19,
   "metadata": {},
   "outputs": [
    {
     "name": "stdout",
     "output_type": "stream",
     "text": [
      "Requirement already satisfied: folium in c:\\users\\arc sogo\\anaconda3\\new folder\\lib\\site-packages (0.12.1)\n",
      "Requirement already satisfied: requests in c:\\users\\arc sogo\\anaconda3\\new folder\\lib\\site-packages (from folium) (2.24.0)\n",
      "Requirement already satisfied: numpy in c:\\users\\arc sogo\\anaconda3\\new folder\\lib\\site-packages (from folium) (1.19.2)\n",
      "Requirement already satisfied: branca>=0.3.0 in c:\\users\\arc sogo\\anaconda3\\new folder\\lib\\site-packages (from folium) (0.4.2)\n",
      "Requirement already satisfied: jinja2>=2.9 in c:\\users\\arc sogo\\anaconda3\\new folder\\lib\\site-packages (from folium) (2.11.2)\n",
      "Requirement already satisfied: urllib3!=1.25.0,!=1.25.1,<1.26,>=1.21.1 in c:\\users\\arc sogo\\anaconda3\\new folder\\lib\\site-packages (from requests->folium) (1.25.11)\n",
      "Requirement already satisfied: idna<3,>=2.5 in c:\\users\\arc sogo\\anaconda3\\new folder\\lib\\site-packages (from requests->folium) (2.10)\n",
      "Requirement already satisfied: chardet<4,>=3.0.2 in c:\\users\\arc sogo\\anaconda3\\new folder\\lib\\site-packages (from requests->folium) (3.0.4)\n",
      "Requirement already satisfied: certifi>=2017.4.17 in c:\\users\\arc sogo\\anaconda3\\new folder\\lib\\site-packages (from requests->folium) (2020.6.20)\n",
      "Requirement already satisfied: MarkupSafe>=0.23 in c:\\users\\arc sogo\\anaconda3\\new folder\\lib\\site-packages (from jinja2>=2.9->folium) (1.1.1)\n"
     ]
    }
   ],
   "source": [
    "!pip install folium"
   ]
  },
  {
   "cell_type": "code",
   "execution_count": 21,
   "metadata": {},
   "outputs": [
    {
     "name": "stdout",
     "output_type": "stream",
     "text": [
      "Requirement already satisfied: numpy in c:\\users\\arc sogo\\anaconda3\\new folder\\lib\\site-packages (1.19.2)\n"
     ]
    }
   ],
   "source": [
    "!pip install numpy"
   ]
  },
  {
   "cell_type": "code",
   "execution_count": 20,
   "metadata": {},
   "outputs": [
    {
     "name": "stdout",
     "output_type": "stream",
     "text": [
      "Requirement already satisfied: geopy in c:\\users\\arc sogo\\anaconda3\\new folder\\lib\\site-packages (2.1.0)\n",
      "Requirement already satisfied: geographiclib<2,>=1.49 in c:\\users\\arc sogo\\anaconda3\\new folder\\lib\\site-packages (from geopy) (1.50)\n"
     ]
    }
   ],
   "source": [
    "!pip install geopy"
   ]
  },
  {
   "cell_type": "code",
   "execution_count": 42,
   "metadata": {},
   "outputs": [
    {
     "name": "stdout",
     "output_type": "stream",
     "text": [
      "Requirement already satisfied: geocoder in c:\\users\\arc sogo\\anaconda3\\new folder\\lib\\site-packages (1.38.1)\n",
      "Requirement already satisfied: requests in c:\\users\\arc sogo\\anaconda3\\new folder\\lib\\site-packages (from geocoder) (2.24.0)\n",
      "Requirement already satisfied: click in c:\\users\\arc sogo\\anaconda3\\new folder\\lib\\site-packages (from geocoder) (7.1.2)\n",
      "Requirement already satisfied: ratelim in c:\\users\\arc sogo\\anaconda3\\new folder\\lib\\site-packages (from geocoder) (0.1.6)\n",
      "Requirement already satisfied: six in c:\\users\\arc sogo\\anaconda3\\new folder\\lib\\site-packages (from geocoder) (1.15.0)\n",
      "Requirement already satisfied: future in c:\\users\\arc sogo\\anaconda3\\new folder\\lib\\site-packages (from geocoder) (0.18.2)\n",
      "Requirement already satisfied: certifi>=2017.4.17 in c:\\users\\arc sogo\\anaconda3\\new folder\\lib\\site-packages (from requests->geocoder) (2020.6.20)\n",
      "Requirement already satisfied: idna<3,>=2.5 in c:\\users\\arc sogo\\anaconda3\\new folder\\lib\\site-packages (from requests->geocoder) (2.10)\n",
      "Requirement already satisfied: urllib3!=1.25.0,!=1.25.1,<1.26,>=1.21.1 in c:\\users\\arc sogo\\anaconda3\\new folder\\lib\\site-packages (from requests->geocoder) (1.25.11)\n",
      "Requirement already satisfied: chardet<4,>=3.0.2 in c:\\users\\arc sogo\\anaconda3\\new folder\\lib\\site-packages (from requests->geocoder) (3.0.4)\n",
      "Requirement already satisfied: decorator in c:\\users\\arc sogo\\anaconda3\\new folder\\lib\\site-packages (from ratelim->geocoder) (4.4.2)\n"
     ]
    }
   ],
   "source": [
    "!pip install geocoder"
   ]
  },
  {
   "cell_type": "code",
   "execution_count": 22,
   "metadata": {},
   "outputs": [
    {
     "name": "stdout",
     "output_type": "stream",
     "text": [
      "Requirement already satisfied: matplotlib in c:\\users\\arc sogo\\anaconda3\\new folder\\lib\\site-packages (3.3.2)\n",
      "Requirement already satisfied: python-dateutil>=2.1 in c:\\users\\arc sogo\\anaconda3\\new folder\\lib\\site-packages (from matplotlib) (2.8.1)\n",
      "Requirement already satisfied: numpy>=1.15 in c:\\users\\arc sogo\\anaconda3\\new folder\\lib\\site-packages (from matplotlib) (1.19.2)\n",
      "Requirement already satisfied: certifi>=2020.06.20 in c:\\users\\arc sogo\\anaconda3\\new folder\\lib\\site-packages (from matplotlib) (2020.6.20)\n",
      "Requirement already satisfied: cycler>=0.10 in c:\\users\\arc sogo\\anaconda3\\new folder\\lib\\site-packages (from matplotlib) (0.10.0)\n",
      "Requirement already satisfied: pyparsing!=2.0.4,!=2.1.2,!=2.1.6,>=2.0.3 in c:\\users\\arc sogo\\anaconda3\\new folder\\lib\\site-packages (from matplotlib) (2.4.7)\n",
      "Requirement already satisfied: kiwisolver>=1.0.1 in c:\\users\\arc sogo\\anaconda3\\new folder\\lib\\site-packages (from matplotlib) (1.3.0)\n",
      "Requirement already satisfied: pillow>=6.2.0 in c:\\users\\arc sogo\\anaconda3\\new folder\\lib\\site-packages (from matplotlib) (8.0.1)\n",
      "Requirement already satisfied: six>=1.5 in c:\\users\\arc sogo\\anaconda3\\new folder\\lib\\site-packages (from python-dateutil>=2.1->matplotlib) (1.15.0)\n"
     ]
    }
   ],
   "source": [
    "!pip install matplotlib"
   ]
  },
  {
   "cell_type": "code",
   "execution_count": 17,
   "metadata": {},
   "outputs": [
    {
     "name": "stdout",
     "output_type": "stream",
     "text": [
      "Requirement already satisfied: Wikipedia-API in c:\\users\\arc sogo\\anaconda3\\new folder\\lib\\site-packages (0.5.4)\n",
      "Requirement already satisfied: requests in c:\\users\\arc sogo\\anaconda3\\new folder\\lib\\site-packages (from Wikipedia-API) (2.24.0)\n",
      "Requirement already satisfied: certifi>=2017.4.17 in c:\\users\\arc sogo\\anaconda3\\new folder\\lib\\site-packages (from requests->Wikipedia-API) (2020.6.20)\n",
      "Requirement already satisfied: chardet<4,>=3.0.2 in c:\\users\\arc sogo\\anaconda3\\new folder\\lib\\site-packages (from requests->Wikipedia-API) (3.0.4)\n",
      "Requirement already satisfied: idna<3,>=2.5 in c:\\users\\arc sogo\\anaconda3\\new folder\\lib\\site-packages (from requests->Wikipedia-API) (2.10)\n",
      "Requirement already satisfied: urllib3!=1.25.0,!=1.25.1,<1.26,>=1.21.1 in c:\\users\\arc sogo\\anaconda3\\new folder\\lib\\site-packages (from requests->Wikipedia-API) (1.25.11)\n"
     ]
    }
   ],
   "source": [
    "!pip install Wikipedia-API"
   ]
  },
  {
   "cell_type": "code",
   "execution_count": 80,
   "metadata": {},
   "outputs": [],
   "source": [
    "from bs4 import BeautifulSoup\n",
    "import requests\n",
    "import pandas as pd\n",
    "import pandas as pd\n",
    "import numpy as np\n",
    "from geopy.geocoders import Nominatim\n",
    "import folium\n",
    "import matplotlib.cm as cm\n",
    "import matplotlib.colors as colors\n",
    "import geocoder"
   ]
  },
  {
   "cell_type": "markdown",
   "metadata": {},
   "source": [
    "#### Secondly, scrape data set from Wikipedia website"
   ]
  },
  {
   "cell_type": "code",
   "execution_count": 66,
   "metadata": {},
   "outputs": [
    {
     "data": {
      "text/html": [
       "<div>\n",
       "<style scoped>\n",
       "    .dataframe tbody tr th:only-of-type {\n",
       "        vertical-align: middle;\n",
       "    }\n",
       "\n",
       "    .dataframe tbody tr th {\n",
       "        vertical-align: top;\n",
       "    }\n",
       "\n",
       "    .dataframe thead th {\n",
       "        text-align: right;\n",
       "    }\n",
       "</style>\n",
       "<table border=\"1\" class=\"dataframe\">\n",
       "  <thead>\n",
       "    <tr style=\"text-align: right;\">\n",
       "      <th></th>\n",
       "      <th>Postcode</th>\n",
       "      <th>Borough</th>\n",
       "      <th>Neighbourhood</th>\n",
       "    </tr>\n",
       "  </thead>\n",
       "  <tbody>\n",
       "    <tr>\n",
       "      <th>0</th>\n",
       "      <td>M1A</td>\n",
       "      <td>Not assigned</td>\n",
       "      <td>Not assigned</td>\n",
       "    </tr>\n",
       "    <tr>\n",
       "      <th>1</th>\n",
       "      <td>M2A</td>\n",
       "      <td>Not assigned</td>\n",
       "      <td>Not assigned</td>\n",
       "    </tr>\n",
       "    <tr>\n",
       "      <th>2</th>\n",
       "      <td>M3A</td>\n",
       "      <td>North York</td>\n",
       "      <td>Parkwoods</td>\n",
       "    </tr>\n",
       "    <tr>\n",
       "      <th>3</th>\n",
       "      <td>M4A</td>\n",
       "      <td>North York</td>\n",
       "      <td>Victoria Village</td>\n",
       "    </tr>\n",
       "    <tr>\n",
       "      <th>4</th>\n",
       "      <td>M5A</td>\n",
       "      <td>Downtown Toronto</td>\n",
       "      <td>Harbourfront</td>\n",
       "    </tr>\n",
       "  </tbody>\n",
       "</table>\n",
       "</div>"
      ],
      "text/plain": [
       "  Postcode           Borough     Neighbourhood\n",
       "0      M1A      Not assigned      Not assigned\n",
       "1      M2A      Not assigned      Not assigned\n",
       "2      M3A        North York         Parkwoods\n",
       "3      M4A        North York  Victoria Village\n",
       "4      M5A  Downtown Toronto      Harbourfront"
      ]
     },
     "execution_count": 66,
     "metadata": {},
     "output_type": "execute_result"
    }
   ],
   "source": [
    "# read the webpage from the wiki\n",
    "url=\"https://en.wikipedia.org/w/index.php?title=List_of_postal_codes_of_Canada:_M&oldid=890001695\"\n",
    "response = requests.get(url)\n",
    "#Process and convert html data\n",
    "data = response.text\n",
    "soup = BeautifulSoup(data,'html.parser')\n",
    "wiki_table=soup.find('table')\n",
    "#develop dataframe\n",
    "df = pd.read_html(str(wiki_table))[0]\n",
    "df.head()\n"
   ]
  },
  {
   "cell_type": "markdown",
   "metadata": {},
   "source": [
    "#### Thirdly, prepare the dataframe in pursuant of instructions"
   ]
  },
  {
   "cell_type": "code",
   "execution_count": 67,
   "metadata": {},
   "outputs": [
    {
     "data": {
      "text/html": [
       "<div>\n",
       "<style scoped>\n",
       "    .dataframe tbody tr th:only-of-type {\n",
       "        vertical-align: middle;\n",
       "    }\n",
       "\n",
       "    .dataframe tbody tr th {\n",
       "        vertical-align: top;\n",
       "    }\n",
       "\n",
       "    .dataframe thead th {\n",
       "        text-align: right;\n",
       "    }\n",
       "</style>\n",
       "<table border=\"1\" class=\"dataframe\">\n",
       "  <thead>\n",
       "    <tr style=\"text-align: right;\">\n",
       "      <th></th>\n",
       "      <th>PostalCode</th>\n",
       "      <th>Borough</th>\n",
       "      <th>Neighborhood</th>\n",
       "    </tr>\n",
       "  </thead>\n",
       "  <tbody>\n",
       "    <tr>\n",
       "      <th>1</th>\n",
       "      <td>M2A</td>\n",
       "      <td>Not assigned</td>\n",
       "      <td>Not assigned</td>\n",
       "    </tr>\n",
       "    <tr>\n",
       "      <th>2</th>\n",
       "      <td>M3A</td>\n",
       "      <td>North York</td>\n",
       "      <td>Parkwoods</td>\n",
       "    </tr>\n",
       "    <tr>\n",
       "      <th>3</th>\n",
       "      <td>M4A</td>\n",
       "      <td>North York</td>\n",
       "      <td>Victoria Village</td>\n",
       "    </tr>\n",
       "    <tr>\n",
       "      <th>4</th>\n",
       "      <td>M5A</td>\n",
       "      <td>Downtown Toronto</td>\n",
       "      <td>Harbourfront</td>\n",
       "    </tr>\n",
       "    <tr>\n",
       "      <th>5</th>\n",
       "      <td>M5A</td>\n",
       "      <td>Downtown Toronto</td>\n",
       "      <td>Regent Park</td>\n",
       "    </tr>\n",
       "  </tbody>\n",
       "</table>\n",
       "</div>"
      ],
      "text/plain": [
       "  PostalCode           Borough      Neighborhood\n",
       "1        M2A      Not assigned      Not assigned\n",
       "2        M3A        North York         Parkwoods\n",
       "3        M4A        North York  Victoria Village\n",
       "4        M5A  Downtown Toronto      Harbourfront\n",
       "5        M5A  Downtown Toronto       Regent Park"
      ]
     },
     "execution_count": 67,
     "metadata": {},
     "output_type": "execute_result"
    }
   ],
   "source": [
    "# Drop the first column\n",
    "df.drop(0,inplace=True)\n",
    "#Rename the columns names\n",
    "df.columns = ['PostalCode','Borough','Neighborhood']\n",
    "df.head()"
   ]
  },
  {
   "cell_type": "markdown",
   "metadata": {},
   "source": [
    "#### Cleaning data as ignoring the rows which the \"Borough\" contains 'Not assigned'"
   ]
  },
  {
   "cell_type": "code",
   "execution_count": 68,
   "metadata": {},
   "outputs": [
    {
     "data": {
      "text/html": [
       "<div>\n",
       "<style scoped>\n",
       "    .dataframe tbody tr th:only-of-type {\n",
       "        vertical-align: middle;\n",
       "    }\n",
       "\n",
       "    .dataframe tbody tr th {\n",
       "        vertical-align: top;\n",
       "    }\n",
       "\n",
       "    .dataframe thead th {\n",
       "        text-align: right;\n",
       "    }\n",
       "</style>\n",
       "<table border=\"1\" class=\"dataframe\">\n",
       "  <thead>\n",
       "    <tr style=\"text-align: right;\">\n",
       "      <th></th>\n",
       "      <th>index</th>\n",
       "      <th>PostalCode</th>\n",
       "      <th>Borough</th>\n",
       "      <th>Neighborhood</th>\n",
       "    </tr>\n",
       "  </thead>\n",
       "  <tbody>\n",
       "    <tr>\n",
       "      <th>0</th>\n",
       "      <td>2</td>\n",
       "      <td>M3A</td>\n",
       "      <td>North York</td>\n",
       "      <td>Parkwoods</td>\n",
       "    </tr>\n",
       "    <tr>\n",
       "      <th>1</th>\n",
       "      <td>3</td>\n",
       "      <td>M4A</td>\n",
       "      <td>North York</td>\n",
       "      <td>Victoria Village</td>\n",
       "    </tr>\n",
       "    <tr>\n",
       "      <th>2</th>\n",
       "      <td>4</td>\n",
       "      <td>M5A</td>\n",
       "      <td>Downtown Toronto</td>\n",
       "      <td>Harbourfront</td>\n",
       "    </tr>\n",
       "    <tr>\n",
       "      <th>3</th>\n",
       "      <td>5</td>\n",
       "      <td>M5A</td>\n",
       "      <td>Downtown Toronto</td>\n",
       "      <td>Regent Park</td>\n",
       "    </tr>\n",
       "    <tr>\n",
       "      <th>4</th>\n",
       "      <td>6</td>\n",
       "      <td>M6A</td>\n",
       "      <td>North York</td>\n",
       "      <td>Lawrence Heights</td>\n",
       "    </tr>\n",
       "  </tbody>\n",
       "</table>\n",
       "</div>"
      ],
      "text/plain": [
       "   index PostalCode           Borough      Neighborhood\n",
       "0      2        M3A        North York         Parkwoods\n",
       "1      3        M4A        North York  Victoria Village\n",
       "2      4        M5A  Downtown Toronto      Harbourfront\n",
       "3      5        M5A  Downtown Toronto       Regent Park\n",
       "4      6        M6A        North York  Lawrence Heights"
      ]
     },
     "execution_count": 68,
     "metadata": {},
     "output_type": "execute_result"
    }
   ],
   "source": [
    "# Remove \"Borough\" with 'Not assigned' values\n",
    "df2=df[df['Borough'].str.contains(\"Not assigned\") == False].reset_index()\n",
    "df2.head()"
   ]
  },
  {
   "cell_type": "markdown",
   "metadata": {},
   "source": [
    "#### Combine the rows into one row (and seperate with comma) which PostalCode and Borough as same value"
   ]
  },
  {
   "cell_type": "code",
   "execution_count": 70,
   "metadata": {},
   "outputs": [
    {
     "data": {
      "text/html": [
       "<div>\n",
       "<style scoped>\n",
       "    .dataframe tbody tr th:only-of-type {\n",
       "        vertical-align: middle;\n",
       "    }\n",
       "\n",
       "    .dataframe tbody tr th {\n",
       "        vertical-align: top;\n",
       "    }\n",
       "\n",
       "    .dataframe thead th {\n",
       "        text-align: right;\n",
       "    }\n",
       "</style>\n",
       "<table border=\"1\" class=\"dataframe\">\n",
       "  <thead>\n",
       "    <tr style=\"text-align: right;\">\n",
       "      <th></th>\n",
       "      <th>PostalCode</th>\n",
       "      <th>Borough</th>\n",
       "      <th>Neighborhood</th>\n",
       "    </tr>\n",
       "  </thead>\n",
       "  <tbody>\n",
       "    <tr>\n",
       "      <th>0</th>\n",
       "      <td>M1B</td>\n",
       "      <td>Scarborough</td>\n",
       "      <td>Rouge, Malvern</td>\n",
       "    </tr>\n",
       "    <tr>\n",
       "      <th>1</th>\n",
       "      <td>M1C</td>\n",
       "      <td>Scarborough</td>\n",
       "      <td>Highland Creek, Rouge Hill, Port Union</td>\n",
       "    </tr>\n",
       "    <tr>\n",
       "      <th>2</th>\n",
       "      <td>M1E</td>\n",
       "      <td>Scarborough</td>\n",
       "      <td>Guildwood, Morningside, West Hill</td>\n",
       "    </tr>\n",
       "    <tr>\n",
       "      <th>3</th>\n",
       "      <td>M1G</td>\n",
       "      <td>Scarborough</td>\n",
       "      <td>Woburn</td>\n",
       "    </tr>\n",
       "    <tr>\n",
       "      <th>4</th>\n",
       "      <td>M1H</td>\n",
       "      <td>Scarborough</td>\n",
       "      <td>Cedarbrae</td>\n",
       "    </tr>\n",
       "  </tbody>\n",
       "</table>\n",
       "</div>"
      ],
      "text/plain": [
       "  PostalCode      Borough                            Neighborhood\n",
       "0        M1B  Scarborough                          Rouge, Malvern\n",
       "1        M1C  Scarborough  Highland Creek, Rouge Hill, Port Union\n",
       "2        M1E  Scarborough       Guildwood, Morningside, West Hill\n",
       "3        M1G  Scarborough                                  Woburn\n",
       "4        M1H  Scarborough                               Cedarbrae"
      ]
     },
     "execution_count": 70,
     "metadata": {},
     "output_type": "execute_result"
    }
   ],
   "source": [
    "df3= df2.groupby(['PostalCode','Borough'])['Neighborhood'].apply(', '.join).reset_index()\n",
    "df3.head()"
   ]
  },
  {
   "cell_type": "markdown",
   "metadata": {},
   "source": [
    "#### Get the number of rows of dataframe"
   ]
  },
  {
   "cell_type": "code",
   "execution_count": 98,
   "metadata": {},
   "outputs": [
    {
     "data": {
      "text/plain": [
       "(103, 6)"
      ]
     },
     "execution_count": 98,
     "metadata": {},
     "output_type": "execute_result"
    }
   ],
   "source": [
    "df3.shape"
   ]
  },
  {
   "cell_type": "markdown",
   "metadata": {},
   "source": [
    "#### we get 103 unique data"
   ]
  },
  {
   "cell_type": "markdown",
   "metadata": {},
   "source": [
    "#### Save the file as csv file for using in part 2"
   ]
  },
  {
   "cell_type": "code",
   "execution_count": 72,
   "metadata": {},
   "outputs": [
    {
     "name": "stdout",
     "output_type": "stream",
     "text": [
      "Successfully Saved!\n"
     ]
    }
   ],
   "source": [
    "#Save data as'Capstone_part1.csv'\n",
    "df3.to_csv('Capstone_part1.csv')\n",
    "print('Successfully Saved!')"
   ]
  },
  {
   "cell_type": "markdown",
   "metadata": {},
   "source": [
    "# Coursera \"Applied Data Science Capstone\" Project -- Week 3 -- Part 2"
   ]
  },
  {
   "cell_type": "markdown",
   "metadata": {},
   "source": [
    "## Segmenting and Clustering Neighborhoods in Toronto"
   ]
  },
  {
   "cell_type": "markdown",
   "metadata": {},
   "source": [
    "####  Get the geospatial Coordinates Data from https://cocl.us/Geospatial_data"
   ]
  },
  {
   "cell_type": "code",
   "execution_count": 73,
   "metadata": {},
   "outputs": [
    {
     "data": {
      "text/html": [
       "<div>\n",
       "<style scoped>\n",
       "    .dataframe tbody tr th:only-of-type {\n",
       "        vertical-align: middle;\n",
       "    }\n",
       "\n",
       "    .dataframe tbody tr th {\n",
       "        vertical-align: top;\n",
       "    }\n",
       "\n",
       "    .dataframe thead th {\n",
       "        text-align: right;\n",
       "    }\n",
       "</style>\n",
       "<table border=\"1\" class=\"dataframe\">\n",
       "  <thead>\n",
       "    <tr style=\"text-align: right;\">\n",
       "      <th></th>\n",
       "      <th>Postal Code</th>\n",
       "      <th>Latitude</th>\n",
       "      <th>Longitude</th>\n",
       "    </tr>\n",
       "  </thead>\n",
       "  <tbody>\n",
       "    <tr>\n",
       "      <th>0</th>\n",
       "      <td>M1B</td>\n",
       "      <td>43.806686</td>\n",
       "      <td>-79.194353</td>\n",
       "    </tr>\n",
       "    <tr>\n",
       "      <th>1</th>\n",
       "      <td>M1C</td>\n",
       "      <td>43.784535</td>\n",
       "      <td>-79.160497</td>\n",
       "    </tr>\n",
       "    <tr>\n",
       "      <th>2</th>\n",
       "      <td>M1E</td>\n",
       "      <td>43.763573</td>\n",
       "      <td>-79.188711</td>\n",
       "    </tr>\n",
       "    <tr>\n",
       "      <th>3</th>\n",
       "      <td>M1G</td>\n",
       "      <td>43.770992</td>\n",
       "      <td>-79.216917</td>\n",
       "    </tr>\n",
       "    <tr>\n",
       "      <th>4</th>\n",
       "      <td>M1H</td>\n",
       "      <td>43.773136</td>\n",
       "      <td>-79.239476</td>\n",
       "    </tr>\n",
       "  </tbody>\n",
       "</table>\n",
       "</div>"
      ],
      "text/plain": [
       "  Postal Code   Latitude  Longitude\n",
       "0         M1B  43.806686 -79.194353\n",
       "1         M1C  43.784535 -79.160497\n",
       "2         M1E  43.763573 -79.188711\n",
       "3         M1G  43.770992 -79.216917\n",
       "4         M1H  43.773136 -79.239476"
      ]
     },
     "execution_count": 73,
     "metadata": {},
     "output_type": "execute_result"
    }
   ],
   "source": [
    "# get the data and create the dataframe\n",
    "url='https://cocl.us/Geospatial_data/Geospatial_Coordinates.csv'\n",
    "df_geo=pd.read_csv(url)\n",
    "df_geo.head()"
   ]
  },
  {
   "cell_type": "markdown",
   "metadata": {},
   "source": [
    "#### Adjust the column name same as the first dataset"
   ]
  },
  {
   "cell_type": "code",
   "execution_count": 75,
   "metadata": {},
   "outputs": [
    {
     "data": {
      "text/html": [
       "<div>\n",
       "<style scoped>\n",
       "    .dataframe tbody tr th:only-of-type {\n",
       "        vertical-align: middle;\n",
       "    }\n",
       "\n",
       "    .dataframe tbody tr th {\n",
       "        vertical-align: top;\n",
       "    }\n",
       "\n",
       "    .dataframe thead th {\n",
       "        text-align: right;\n",
       "    }\n",
       "</style>\n",
       "<table border=\"1\" class=\"dataframe\">\n",
       "  <thead>\n",
       "    <tr style=\"text-align: right;\">\n",
       "      <th></th>\n",
       "      <th>PostalCode</th>\n",
       "      <th>Latitude</th>\n",
       "      <th>Longitude</th>\n",
       "    </tr>\n",
       "  </thead>\n",
       "  <tbody>\n",
       "    <tr>\n",
       "      <th>0</th>\n",
       "      <td>M1B</td>\n",
       "      <td>43.806686</td>\n",
       "      <td>-79.194353</td>\n",
       "    </tr>\n",
       "    <tr>\n",
       "      <th>1</th>\n",
       "      <td>M1C</td>\n",
       "      <td>43.784535</td>\n",
       "      <td>-79.160497</td>\n",
       "    </tr>\n",
       "    <tr>\n",
       "      <th>2</th>\n",
       "      <td>M1E</td>\n",
       "      <td>43.763573</td>\n",
       "      <td>-79.188711</td>\n",
       "    </tr>\n",
       "    <tr>\n",
       "      <th>3</th>\n",
       "      <td>M1G</td>\n",
       "      <td>43.770992</td>\n",
       "      <td>-79.216917</td>\n",
       "    </tr>\n",
       "    <tr>\n",
       "      <th>4</th>\n",
       "      <td>M1H</td>\n",
       "      <td>43.773136</td>\n",
       "      <td>-79.239476</td>\n",
       "    </tr>\n",
       "  </tbody>\n",
       "</table>\n",
       "</div>"
      ],
      "text/plain": [
       "  PostalCode   Latitude  Longitude\n",
       "0        M1B  43.806686 -79.194353\n",
       "1        M1C  43.784535 -79.160497\n",
       "2        M1E  43.763573 -79.188711\n",
       "3        M1G  43.770992 -79.216917\n",
       "4        M1H  43.773136 -79.239476"
      ]
     },
     "execution_count": 75,
     "metadata": {},
     "output_type": "execute_result"
    }
   ],
   "source": [
    "df_geo = df_geo.rename(columns = {'Postal Code':'PostalCode'}) \n",
    "df_geo.head()"
   ]
  },
  {
   "cell_type": "markdown",
   "metadata": {},
   "source": [
    "#### Upload the first dataset"
   ]
  },
  {
   "cell_type": "code",
   "execution_count": 76,
   "metadata": {},
   "outputs": [
    {
     "data": {
      "text/html": [
       "<div>\n",
       "<style scoped>\n",
       "    .dataframe tbody tr th:only-of-type {\n",
       "        vertical-align: middle;\n",
       "    }\n",
       "\n",
       "    .dataframe tbody tr th {\n",
       "        vertical-align: top;\n",
       "    }\n",
       "\n",
       "    .dataframe thead th {\n",
       "        text-align: right;\n",
       "    }\n",
       "</style>\n",
       "<table border=\"1\" class=\"dataframe\">\n",
       "  <thead>\n",
       "    <tr style=\"text-align: right;\">\n",
       "      <th></th>\n",
       "      <th>Unnamed: 0</th>\n",
       "      <th>PostalCode</th>\n",
       "      <th>Borough</th>\n",
       "      <th>Neighborhood</th>\n",
       "    </tr>\n",
       "  </thead>\n",
       "  <tbody>\n",
       "    <tr>\n",
       "      <th>0</th>\n",
       "      <td>0</td>\n",
       "      <td>M1B</td>\n",
       "      <td>Scarborough</td>\n",
       "      <td>Rouge, Malvern</td>\n",
       "    </tr>\n",
       "    <tr>\n",
       "      <th>1</th>\n",
       "      <td>1</td>\n",
       "      <td>M1C</td>\n",
       "      <td>Scarborough</td>\n",
       "      <td>Highland Creek, Rouge Hill, Port Union</td>\n",
       "    </tr>\n",
       "    <tr>\n",
       "      <th>2</th>\n",
       "      <td>2</td>\n",
       "      <td>M1E</td>\n",
       "      <td>Scarborough</td>\n",
       "      <td>Guildwood, Morningside, West Hill</td>\n",
       "    </tr>\n",
       "    <tr>\n",
       "      <th>3</th>\n",
       "      <td>3</td>\n",
       "      <td>M1G</td>\n",
       "      <td>Scarborough</td>\n",
       "      <td>Woburn</td>\n",
       "    </tr>\n",
       "    <tr>\n",
       "      <th>4</th>\n",
       "      <td>4</td>\n",
       "      <td>M1H</td>\n",
       "      <td>Scarborough</td>\n",
       "      <td>Cedarbrae</td>\n",
       "    </tr>\n",
       "  </tbody>\n",
       "</table>\n",
       "</div>"
      ],
      "text/plain": [
       "   Unnamed: 0 PostalCode      Borough                            Neighborhood\n",
       "0           0        M1B  Scarborough                          Rouge, Malvern\n",
       "1           1        M1C  Scarborough  Highland Creek, Rouge Hill, Port Union\n",
       "2           2        M1E  Scarborough       Guildwood, Morningside, West Hill\n",
       "3           3        M1G  Scarborough                                  Woburn\n",
       "4           4        M1H  Scarborough                               Cedarbrae"
      ]
     },
     "execution_count": 76,
     "metadata": {},
     "output_type": "execute_result"
    }
   ],
   "source": [
    "#We upload the first dataset where we save it as csv file in part 1\n",
    "df3=pd.read_csv('Capstone_part1.csv')\n",
    "df3.head()"
   ]
  },
  {
   "cell_type": "markdown",
   "metadata": {},
   "source": [
    "#### Merge two dataframes based on the 'PostalCode' column"
   ]
  },
  {
   "cell_type": "code",
   "execution_count": 77,
   "metadata": {},
   "outputs": [
    {
     "data": {
      "text/html": [
       "<div>\n",
       "<style scoped>\n",
       "    .dataframe tbody tr th:only-of-type {\n",
       "        vertical-align: middle;\n",
       "    }\n",
       "\n",
       "    .dataframe tbody tr th {\n",
       "        vertical-align: top;\n",
       "    }\n",
       "\n",
       "    .dataframe thead th {\n",
       "        text-align: right;\n",
       "    }\n",
       "</style>\n",
       "<table border=\"1\" class=\"dataframe\">\n",
       "  <thead>\n",
       "    <tr style=\"text-align: right;\">\n",
       "      <th></th>\n",
       "      <th>Unnamed: 0</th>\n",
       "      <th>PostalCode</th>\n",
       "      <th>Borough</th>\n",
       "      <th>Neighborhood</th>\n",
       "      <th>Latitude</th>\n",
       "      <th>Longitude</th>\n",
       "    </tr>\n",
       "  </thead>\n",
       "  <tbody>\n",
       "    <tr>\n",
       "      <th>0</th>\n",
       "      <td>0</td>\n",
       "      <td>M1B</td>\n",
       "      <td>Scarborough</td>\n",
       "      <td>Rouge, Malvern</td>\n",
       "      <td>43.806686</td>\n",
       "      <td>-79.194353</td>\n",
       "    </tr>\n",
       "    <tr>\n",
       "      <th>1</th>\n",
       "      <td>1</td>\n",
       "      <td>M1C</td>\n",
       "      <td>Scarborough</td>\n",
       "      <td>Highland Creek, Rouge Hill, Port Union</td>\n",
       "      <td>43.784535</td>\n",
       "      <td>-79.160497</td>\n",
       "    </tr>\n",
       "    <tr>\n",
       "      <th>2</th>\n",
       "      <td>2</td>\n",
       "      <td>M1E</td>\n",
       "      <td>Scarborough</td>\n",
       "      <td>Guildwood, Morningside, West Hill</td>\n",
       "      <td>43.763573</td>\n",
       "      <td>-79.188711</td>\n",
       "    </tr>\n",
       "    <tr>\n",
       "      <th>3</th>\n",
       "      <td>3</td>\n",
       "      <td>M1G</td>\n",
       "      <td>Scarborough</td>\n",
       "      <td>Woburn</td>\n",
       "      <td>43.770992</td>\n",
       "      <td>-79.216917</td>\n",
       "    </tr>\n",
       "    <tr>\n",
       "      <th>4</th>\n",
       "      <td>4</td>\n",
       "      <td>M1H</td>\n",
       "      <td>Scarborough</td>\n",
       "      <td>Cedarbrae</td>\n",
       "      <td>43.773136</td>\n",
       "      <td>-79.239476</td>\n",
       "    </tr>\n",
       "  </tbody>\n",
       "</table>\n",
       "</div>"
      ],
      "text/plain": [
       "   Unnamed: 0 PostalCode      Borough                            Neighborhood  \\\n",
       "0           0        M1B  Scarborough                          Rouge, Malvern   \n",
       "1           1        M1C  Scarborough  Highland Creek, Rouge Hill, Port Union   \n",
       "2           2        M1E  Scarborough       Guildwood, Morningside, West Hill   \n",
       "3           3        M1G  Scarborough                                  Woburn   \n",
       "4           4        M1H  Scarborough                               Cedarbrae   \n",
       "\n",
       "    Latitude  Longitude  \n",
       "0  43.806686 -79.194353  \n",
       "1  43.784535 -79.160497  \n",
       "2  43.763573 -79.188711  \n",
       "3  43.770992 -79.216917  \n",
       "4  43.773136 -79.239476  "
      ]
     },
     "execution_count": 77,
     "metadata": {},
     "output_type": "execute_result"
    }
   ],
   "source": [
    "df3 = pd.merge(df3, df_geo, on = 'PostalCode')\n",
    "df3.head()"
   ]
  },
  {
   "cell_type": "code",
   "execution_count": 99,
   "metadata": {},
   "outputs": [
    {
     "data": {
      "text/plain": [
       "(103, 6)"
      ]
     },
     "execution_count": 99,
     "metadata": {},
     "output_type": "execute_result"
    }
   ],
   "source": [
    "df3.shape"
   ]
  },
  {
   "cell_type": "markdown",
   "metadata": {},
   "source": [
    "# Coursera \"Applied Data Science Capstone\" Project -- Week 3 -- Part 3\n",
    "### Segmenting and Clustering Neighborhoods in Toronto"
   ]
  },
  {
   "cell_type": "markdown",
   "metadata": {},
   "source": [
    "#### Borough which contain the word \"TORONTO\""
   ]
  },
  {
   "cell_type": "code",
   "execution_count": 82,
   "metadata": {},
   "outputs": [
    {
     "data": {
      "text/html": [
       "<div>\n",
       "<style scoped>\n",
       "    .dataframe tbody tr th:only-of-type {\n",
       "        vertical-align: middle;\n",
       "    }\n",
       "\n",
       "    .dataframe tbody tr th {\n",
       "        vertical-align: top;\n",
       "    }\n",
       "\n",
       "    .dataframe thead th {\n",
       "        text-align: right;\n",
       "    }\n",
       "</style>\n",
       "<table border=\"1\" class=\"dataframe\">\n",
       "  <thead>\n",
       "    <tr style=\"text-align: right;\">\n",
       "      <th></th>\n",
       "      <th>Unnamed: 0</th>\n",
       "      <th>PostalCode</th>\n",
       "      <th>Borough</th>\n",
       "      <th>Neighborhood</th>\n",
       "      <th>Latitude</th>\n",
       "      <th>Longitude</th>\n",
       "    </tr>\n",
       "  </thead>\n",
       "  <tbody>\n",
       "    <tr>\n",
       "      <th>0</th>\n",
       "      <td>37</td>\n",
       "      <td>M4E</td>\n",
       "      <td>East Toronto</td>\n",
       "      <td>The Beaches</td>\n",
       "      <td>43.676357</td>\n",
       "      <td>-79.293031</td>\n",
       "    </tr>\n",
       "    <tr>\n",
       "      <th>1</th>\n",
       "      <td>41</td>\n",
       "      <td>M4K</td>\n",
       "      <td>East Toronto</td>\n",
       "      <td>The Danforth West, Riverdale</td>\n",
       "      <td>43.679557</td>\n",
       "      <td>-79.352188</td>\n",
       "    </tr>\n",
       "    <tr>\n",
       "      <th>2</th>\n",
       "      <td>42</td>\n",
       "      <td>M4L</td>\n",
       "      <td>East Toronto</td>\n",
       "      <td>The Beaches West, India Bazaar</td>\n",
       "      <td>43.668999</td>\n",
       "      <td>-79.315572</td>\n",
       "    </tr>\n",
       "    <tr>\n",
       "      <th>3</th>\n",
       "      <td>43</td>\n",
       "      <td>M4M</td>\n",
       "      <td>East Toronto</td>\n",
       "      <td>Studio District</td>\n",
       "      <td>43.659526</td>\n",
       "      <td>-79.340923</td>\n",
       "    </tr>\n",
       "    <tr>\n",
       "      <th>4</th>\n",
       "      <td>44</td>\n",
       "      <td>M4N</td>\n",
       "      <td>Central Toronto</td>\n",
       "      <td>Lawrence Park</td>\n",
       "      <td>43.728020</td>\n",
       "      <td>-79.388790</td>\n",
       "    </tr>\n",
       "  </tbody>\n",
       "</table>\n",
       "</div>"
      ],
      "text/plain": [
       "   Unnamed: 0 PostalCode          Borough                    Neighborhood  \\\n",
       "0          37        M4E     East Toronto                     The Beaches   \n",
       "1          41        M4K     East Toronto    The Danforth West, Riverdale   \n",
       "2          42        M4L     East Toronto  The Beaches West, India Bazaar   \n",
       "3          43        M4M     East Toronto                 Studio District   \n",
       "4          44        M4N  Central Toronto                   Lawrence Park   \n",
       "\n",
       "    Latitude  Longitude  \n",
       "0  43.676357 -79.293031  \n",
       "1  43.679557 -79.352188  \n",
       "2  43.668999 -79.315572  \n",
       "3  43.659526 -79.340923  \n",
       "4  43.728020 -79.388790  "
      ]
     },
     "execution_count": 82,
     "metadata": {},
     "output_type": "execute_result"
    }
   ],
   "source": [
    "#We work with only \"Borough\" which contain the word Toronto \n",
    "df4=df3[df3['Borough'].str.contains('Toronto')]\n",
    "df5=df4.reset_index(drop=True)\n",
    "df5.head()"
   ]
  },
  {
   "cell_type": "markdown",
   "metadata": {},
   "source": [
    "#### Get the number of rows of dataframe"
   ]
  },
  {
   "cell_type": "code",
   "execution_count": 100,
   "metadata": {},
   "outputs": [
    {
     "data": {
      "text/plain": [
       "(38, 7)"
      ]
     },
     "execution_count": 100,
     "metadata": {},
     "output_type": "execute_result"
    }
   ],
   "source": [
    "df5.shape"
   ]
  },
  {
   "cell_type": "code",
   "execution_count": 97,
   "metadata": {},
   "outputs": [
    {
     "name": "stdout",
     "output_type": "stream",
     "text": [
      "Successfully Saved!\n"
     ]
    }
   ],
   "source": [
    "#Save data as'Capstone_part2.csv'\n",
    "df3.to_csv('Capstone_part2.csv', index=False)\n",
    "print('Successfully Saved!')"
   ]
  },
  {
   "cell_type": "markdown",
   "metadata": {},
   "source": [
    "\n",
    "\n",
    "#### For clustering the data, we can use the Borough as Label"
   ]
  },
  {
   "cell_type": "code",
   "execution_count": 84,
   "metadata": {},
   "outputs": [
    {
     "data": {
      "text/plain": [
       "Downtown Toronto    18\n",
       "Central Toronto      9\n",
       "West Toronto         6\n",
       "East Toronto         5\n",
       "Name: Borough, dtype: int64"
      ]
     },
     "execution_count": 84,
     "metadata": {},
     "output_type": "execute_result"
    }
   ],
   "source": [
    "# Learn the different value of Borough \n",
    "df5['Borough'].value_counts()"
   ]
  },
  {
   "cell_type": "code",
   "execution_count": 85,
   "metadata": {},
   "outputs": [
    {
     "data": {
      "text/html": [
       "<div>\n",
       "<style scoped>\n",
       "    .dataframe tbody tr th:only-of-type {\n",
       "        vertical-align: middle;\n",
       "    }\n",
       "\n",
       "    .dataframe tbody tr th {\n",
       "        vertical-align: top;\n",
       "    }\n",
       "\n",
       "    .dataframe thead th {\n",
       "        text-align: right;\n",
       "    }\n",
       "</style>\n",
       "<table border=\"1\" class=\"dataframe\">\n",
       "  <thead>\n",
       "    <tr style=\"text-align: right;\">\n",
       "      <th></th>\n",
       "      <th>Unnamed: 0</th>\n",
       "      <th>PostalCode</th>\n",
       "      <th>Borough</th>\n",
       "      <th>Neighborhood</th>\n",
       "      <th>Latitude</th>\n",
       "      <th>Longitude</th>\n",
       "      <th>Label</th>\n",
       "    </tr>\n",
       "  </thead>\n",
       "  <tbody>\n",
       "    <tr>\n",
       "      <th>0</th>\n",
       "      <td>37</td>\n",
       "      <td>M4E</td>\n",
       "      <td>East Toronto</td>\n",
       "      <td>The Beaches</td>\n",
       "      <td>43.676357</td>\n",
       "      <td>-79.293031</td>\n",
       "      <td>4</td>\n",
       "    </tr>\n",
       "    <tr>\n",
       "      <th>1</th>\n",
       "      <td>41</td>\n",
       "      <td>M4K</td>\n",
       "      <td>East Toronto</td>\n",
       "      <td>The Danforth West, Riverdale</td>\n",
       "      <td>43.679557</td>\n",
       "      <td>-79.352188</td>\n",
       "      <td>4</td>\n",
       "    </tr>\n",
       "    <tr>\n",
       "      <th>2</th>\n",
       "      <td>42</td>\n",
       "      <td>M4L</td>\n",
       "      <td>East Toronto</td>\n",
       "      <td>The Beaches West, India Bazaar</td>\n",
       "      <td>43.668999</td>\n",
       "      <td>-79.315572</td>\n",
       "      <td>4</td>\n",
       "    </tr>\n",
       "    <tr>\n",
       "      <th>3</th>\n",
       "      <td>43</td>\n",
       "      <td>M4M</td>\n",
       "      <td>East Toronto</td>\n",
       "      <td>Studio District</td>\n",
       "      <td>43.659526</td>\n",
       "      <td>-79.340923</td>\n",
       "      <td>4</td>\n",
       "    </tr>\n",
       "    <tr>\n",
       "      <th>4</th>\n",
       "      <td>44</td>\n",
       "      <td>M4N</td>\n",
       "      <td>Central Toronto</td>\n",
       "      <td>Lawrence Park</td>\n",
       "      <td>43.728020</td>\n",
       "      <td>-79.388790</td>\n",
       "      <td>2</td>\n",
       "    </tr>\n",
       "  </tbody>\n",
       "</table>\n",
       "</div>"
      ],
      "text/plain": [
       "   Unnamed: 0 PostalCode          Borough                    Neighborhood  \\\n",
       "0          37        M4E     East Toronto                     The Beaches   \n",
       "1          41        M4K     East Toronto    The Danforth West, Riverdale   \n",
       "2          42        M4L     East Toronto  The Beaches West, India Bazaar   \n",
       "3          43        M4M     East Toronto                 Studio District   \n",
       "4          44        M4N  Central Toronto                   Lawrence Park   \n",
       "\n",
       "    Latitude  Longitude  Label  \n",
       "0  43.676357 -79.293031      4  \n",
       "1  43.679557 -79.352188      4  \n",
       "2  43.668999 -79.315572      4  \n",
       "3  43.659526 -79.340923      4  \n",
       "4  43.728020 -79.388790      2  "
      ]
     },
     "execution_count": 85,
     "metadata": {},
     "output_type": "execute_result"
    }
   ],
   "source": [
    "# Create a new column as Label and get the date from 'Borough' as integer\n",
    "df5['Label']=df5['Borough'].replace(to_replace=['Downtown Toronto','Central Toronto','West Toronto','East Toronto'],value=[1,2,3,4],inplace=False)\n",
    "df5.head()"
   ]
  },
  {
   "cell_type": "markdown",
   "metadata": {},
   "source": [
    "#### Learn the coordinates of Toronto"
   ]
  },
  {
   "cell_type": "code",
   "execution_count": 86,
   "metadata": {},
   "outputs": [
    {
     "name": "stdout",
     "output_type": "stream",
     "text": [
      "The geograpical coordinate of Toronto are 43.6534817, -79.3839347.\n"
     ]
    }
   ],
   "source": [
    "address = 'Toronto'\n",
    "geolocator = Nominatim(user_agent=\"toronto_explorer\")\n",
    "location = geolocator.geocode(address)\n",
    "latitude = location.latitude\n",
    "longitude = location.longitude\n",
    "print(f'The geograpical coordinate of Toronto are {latitude}, {longitude}.')"
   ]
  },
  {
   "cell_type": "markdown",
   "metadata": {},
   "source": [
    "#### Preparing to create the clustering map of Toronto"
   ]
  },
  {
   "cell_type": "code",
   "execution_count": 88,
   "metadata": {},
   "outputs": [],
   "source": [
    "#for set the cluster number as label number\n",
    "kclusters=len(df5.Label.unique())\n",
    "\n",
    "# create map\n",
    "map_toronto = folium.Map(location=[latitude, longitude], zoom_start=11)\n",
    "\n",
    "# set color scheme for the clusters\n",
    "x = np.arange(kclusters)\n",
    "ys = [i + x + (i*x)**2 for i in range(kclusters)]\n",
    "colors_array = cm.rainbow(np.linspace(0, 1, len(ys)))\n",
    "rainbow = [colors.rgb2hex(i) for i in colors_array]\n",
    "\n",
    "# add markers to the map\n",
    "markers_colors = []\n",
    "for lat, lon, cluster in zip(df5['Latitude'], df5['Longitude'], df5['Label']):\n",
    "    label = folium.Popup(str(df5['Borough']) + ' Cluster ' + str(cluster), parse_html=True)\n",
    "    folium.CircleMarker(\n",
    "        [lat, lon],\n",
    "        radius=5,\n",
    "        popup=label,\n",
    "        color=rainbow[cluster-1],\n",
    "        fill=True,\n",
    "        fill_color=rainbow[cluster-1],\n",
    "        fill_opacity=0.7).add_to(map_toronto)\n"
   ]
  },
  {
   "cell_type": "markdown",
   "metadata": {},
   "source": [
    "#### Display the neighborhood map of Toronto with 4 clustering"
   ]
  },
  {
   "cell_type": "code",
   "execution_count": 89,
   "metadata": {},
   "outputs": [
    {
     "data": {
      "text/html": [
       "<div style=\"width:100%;\"><div style=\"position:relative;width:100%;height:0;padding-bottom:60%;\"><span style=\"color:#565656\">Make this Notebook Trusted to load map: File -> Trust Notebook</span><iframe src=\"about:blank\" style=\"position:absolute;width:100%;height:100%;left:0;top:0;border:none !important;\" data-html=%3C%21DOCTYPE%20html%3E%0A%3Chead%3E%20%20%20%20%0A%20%20%20%20%3Cmeta%20http-equiv%3D%22content-type%22%20content%3D%22text/html%3B%20charset%3DUTF-8%22%20/%3E%0A%20%20%20%20%0A%20%20%20%20%20%20%20%20%3Cscript%3E%0A%20%20%20%20%20%20%20%20%20%20%20%20L_NO_TOUCH%20%3D%20false%3B%0A%20%20%20%20%20%20%20%20%20%20%20%20L_DISABLE_3D%20%3D%20false%3B%0A%20%20%20%20%20%20%20%20%3C/script%3E%0A%20%20%20%20%0A%20%20%20%20%3Cstyle%3Ehtml%2C%20body%20%7Bwidth%3A%20100%25%3Bheight%3A%20100%25%3Bmargin%3A%200%3Bpadding%3A%200%3B%7D%3C/style%3E%0A%20%20%20%20%3Cstyle%3E%23map%20%7Bposition%3Aabsolute%3Btop%3A0%3Bbottom%3A0%3Bright%3A0%3Bleft%3A0%3B%7D%3C/style%3E%0A%20%20%20%20%3Cscript%20src%3D%22https%3A//cdn.jsdelivr.net/npm/leaflet%401.6.0/dist/leaflet.js%22%3E%3C/script%3E%0A%20%20%20%20%3Cscript%20src%3D%22https%3A//code.jquery.com/jquery-1.12.4.min.js%22%3E%3C/script%3E%0A%20%20%20%20%3Cscript%20src%3D%22https%3A//maxcdn.bootstrapcdn.com/bootstrap/3.2.0/js/bootstrap.min.js%22%3E%3C/script%3E%0A%20%20%20%20%3Cscript%20src%3D%22https%3A//cdnjs.cloudflare.com/ajax/libs/Leaflet.awesome-markers/2.0.2/leaflet.awesome-markers.js%22%3E%3C/script%3E%0A%20%20%20%20%3Clink%20rel%3D%22stylesheet%22%20href%3D%22https%3A//cdn.jsdelivr.net/npm/leaflet%401.6.0/dist/leaflet.css%22/%3E%0A%20%20%20%20%3Clink%20rel%3D%22stylesheet%22%20href%3D%22https%3A//maxcdn.bootstrapcdn.com/bootstrap/3.2.0/css/bootstrap.min.css%22/%3E%0A%20%20%20%20%3Clink%20rel%3D%22stylesheet%22%20href%3D%22https%3A//maxcdn.bootstrapcdn.com/bootstrap/3.2.0/css/bootstrap-theme.min.css%22/%3E%0A%20%20%20%20%3Clink%20rel%3D%22stylesheet%22%20href%3D%22https%3A//maxcdn.bootstrapcdn.com/font-awesome/4.6.3/css/font-awesome.min.css%22/%3E%0A%20%20%20%20%3Clink%20rel%3D%22stylesheet%22%20href%3D%22https%3A//cdnjs.cloudflare.com/ajax/libs/Leaflet.awesome-markers/2.0.2/leaflet.awesome-markers.css%22/%3E%0A%20%20%20%20%3Clink%20rel%3D%22stylesheet%22%20href%3D%22https%3A//cdn.jsdelivr.net/gh/python-visualization/folium/folium/templates/leaflet.awesome.rotate.min.css%22/%3E%0A%20%20%20%20%0A%20%20%20%20%20%20%20%20%20%20%20%20%3Cmeta%20name%3D%22viewport%22%20content%3D%22width%3Ddevice-width%2C%0A%20%20%20%20%20%20%20%20%20%20%20%20%20%20%20%20initial-scale%3D1.0%2C%20maximum-scale%3D1.0%2C%20user-scalable%3Dno%22%20/%3E%0A%20%20%20%20%20%20%20%20%20%20%20%20%3Cstyle%3E%0A%20%20%20%20%20%20%20%20%20%20%20%20%20%20%20%20%23map_48572ab121b2452292d0c49358e7f21b%20%7B%0A%20%20%20%20%20%20%20%20%20%20%20%20%20%20%20%20%20%20%20%20position%3A%20relative%3B%0A%20%20%20%20%20%20%20%20%20%20%20%20%20%20%20%20%20%20%20%20width%3A%20100.0%25%3B%0A%20%20%20%20%20%20%20%20%20%20%20%20%20%20%20%20%20%20%20%20height%3A%20100.0%25%3B%0A%20%20%20%20%20%20%20%20%20%20%20%20%20%20%20%20%20%20%20%20left%3A%200.0%25%3B%0A%20%20%20%20%20%20%20%20%20%20%20%20%20%20%20%20%20%20%20%20top%3A%200.0%25%3B%0A%20%20%20%20%20%20%20%20%20%20%20%20%20%20%20%20%7D%0A%20%20%20%20%20%20%20%20%20%20%20%20%3C/style%3E%0A%20%20%20%20%20%20%20%20%0A%3C/head%3E%0A%3Cbody%3E%20%20%20%20%0A%20%20%20%20%0A%20%20%20%20%20%20%20%20%20%20%20%20%3Cdiv%20class%3D%22folium-map%22%20id%3D%22map_48572ab121b2452292d0c49358e7f21b%22%20%3E%3C/div%3E%0A%20%20%20%20%20%20%20%20%0A%3C/body%3E%0A%3Cscript%3E%20%20%20%20%0A%20%20%20%20%0A%20%20%20%20%20%20%20%20%20%20%20%20var%20map_48572ab121b2452292d0c49358e7f21b%20%3D%20L.map%28%0A%20%20%20%20%20%20%20%20%20%20%20%20%20%20%20%20%22map_48572ab121b2452292d0c49358e7f21b%22%2C%0A%20%20%20%20%20%20%20%20%20%20%20%20%20%20%20%20%7B%0A%20%20%20%20%20%20%20%20%20%20%20%20%20%20%20%20%20%20%20%20center%3A%20%5B43.6534817%2C%20-79.3839347%5D%2C%0A%20%20%20%20%20%20%20%20%20%20%20%20%20%20%20%20%20%20%20%20crs%3A%20L.CRS.EPSG3857%2C%0A%20%20%20%20%20%20%20%20%20%20%20%20%20%20%20%20%20%20%20%20zoom%3A%2011%2C%0A%20%20%20%20%20%20%20%20%20%20%20%20%20%20%20%20%20%20%20%20zoomControl%3A%20true%2C%0A%20%20%20%20%20%20%20%20%20%20%20%20%20%20%20%20%20%20%20%20preferCanvas%3A%20false%2C%0A%20%20%20%20%20%20%20%20%20%20%20%20%20%20%20%20%7D%0A%20%20%20%20%20%20%20%20%20%20%20%20%29%3B%0A%0A%20%20%20%20%20%20%20%20%20%20%20%20%0A%0A%20%20%20%20%20%20%20%20%0A%20%20%20%20%0A%20%20%20%20%20%20%20%20%20%20%20%20var%20tile_layer_2bf16f406a8e4a7e984abd26b752ee8c%20%3D%20L.tileLayer%28%0A%20%20%20%20%20%20%20%20%20%20%20%20%20%20%20%20%22https%3A//%7Bs%7D.tile.openstreetmap.org/%7Bz%7D/%7Bx%7D/%7By%7D.png%22%2C%0A%20%20%20%20%20%20%20%20%20%20%20%20%20%20%20%20%7B%22attribution%22%3A%20%22Data%20by%20%5Cu0026copy%3B%20%5Cu003ca%20href%3D%5C%22http%3A//openstreetmap.org%5C%22%5Cu003eOpenStreetMap%5Cu003c/a%5Cu003e%2C%20under%20%5Cu003ca%20href%3D%5C%22http%3A//www.openstreetmap.org/copyright%5C%22%5Cu003eODbL%5Cu003c/a%5Cu003e.%22%2C%20%22detectRetina%22%3A%20false%2C%20%22maxNativeZoom%22%3A%2018%2C%20%22maxZoom%22%3A%2018%2C%20%22minZoom%22%3A%200%2C%20%22noWrap%22%3A%20false%2C%20%22opacity%22%3A%201%2C%20%22subdomains%22%3A%20%22abc%22%2C%20%22tms%22%3A%20false%7D%0A%20%20%20%20%20%20%20%20%20%20%20%20%29.addTo%28map_48572ab121b2452292d0c49358e7f21b%29%3B%0A%20%20%20%20%20%20%20%20%0A%20%20%20%20%0A%20%20%20%20%20%20%20%20%20%20%20%20var%20circle_marker_fcb75391c9a4436cabf7c58b26b3ee98%20%3D%20L.circleMarker%28%0A%20%20%20%20%20%20%20%20%20%20%20%20%20%20%20%20%5B43.67635739999999%2C%20-79.2930312%5D%2C%0A%20%20%20%20%20%20%20%20%20%20%20%20%20%20%20%20%7B%22bubblingMouseEvents%22%3A%20true%2C%20%22color%22%3A%20%22%23ff0000%22%2C%20%22dashArray%22%3A%20null%2C%20%22dashOffset%22%3A%20null%2C%20%22fill%22%3A%20true%2C%20%22fillColor%22%3A%20%22%23ff0000%22%2C%20%22fillOpacity%22%3A%200.7%2C%20%22fillRule%22%3A%20%22evenodd%22%2C%20%22lineCap%22%3A%20%22round%22%2C%20%22lineJoin%22%3A%20%22round%22%2C%20%22opacity%22%3A%201.0%2C%20%22radius%22%3A%205%2C%20%22stroke%22%3A%20true%2C%20%22weight%22%3A%203%7D%0A%20%20%20%20%20%20%20%20%20%20%20%20%29.addTo%28map_48572ab121b2452292d0c49358e7f21b%29%3B%0A%20%20%20%20%20%20%20%20%0A%20%20%20%20%0A%20%20%20%20%20%20%20%20var%20popup_60fab63dc7e84844a8e651825c6edce5%20%3D%20L.popup%28%7B%22maxWidth%22%3A%20%22100%25%22%7D%29%3B%0A%0A%20%20%20%20%20%20%20%20%0A%20%20%20%20%20%20%20%20%20%20%20%20var%20html_9c0f9f8a14054a19a7cd530282ad9d79%20%3D%20%24%28%60%3Cdiv%20id%3D%22html_9c0f9f8a14054a19a7cd530282ad9d79%22%20style%3D%22width%3A%20100.0%25%3B%20height%3A%20100.0%25%3B%22%3E0%20%20%20%20%20%20%20%20%20East%20Toronto%201%20%20%20%20%20%20%20%20%20East%20Toronto%202%20%20%20%20%20%20%20%20%20East%20Toronto%203%20%20%20%20%20%20%20%20%20East%20Toronto%204%20%20%20%20%20%20Central%20Toronto%205%20%20%20%20%20%20Central%20Toronto%206%20%20%20%20%20%20Central%20Toronto%207%20%20%20%20%20%20Central%20Toronto%208%20%20%20%20%20%20Central%20Toronto%209%20%20%20%20%20%20Central%20Toronto%2010%20%20%20%20Downtown%20Toronto%2011%20%20%20%20Downtown%20Toronto%2012%20%20%20%20Downtown%20Toronto%2013%20%20%20%20Downtown%20Toronto%2014%20%20%20%20Downtown%20Toronto%2015%20%20%20%20Downtown%20Toronto%2016%20%20%20%20Downtown%20Toronto%2017%20%20%20%20Downtown%20Toronto%2018%20%20%20%20Downtown%20Toronto%2019%20%20%20%20Downtown%20Toronto%2020%20%20%20%20Downtown%20Toronto%2021%20%20%20%20Downtown%20Toronto%2022%20%20%20%20%20Central%20Toronto%2023%20%20%20%20%20Central%20Toronto%2024%20%20%20%20%20Central%20Toronto%2025%20%20%20%20Downtown%20Toronto%2026%20%20%20%20Downtown%20Toronto%2027%20%20%20%20Downtown%20Toronto%2028%20%20%20%20Downtown%20Toronto%2029%20%20%20%20Downtown%20Toronto%2030%20%20%20%20Downtown%20Toronto%2031%20%20%20%20%20%20%20%20West%20Toronto%2032%20%20%20%20%20%20%20%20West%20Toronto%2033%20%20%20%20%20%20%20%20West%20Toronto%2034%20%20%20%20%20%20%20%20West%20Toronto%2035%20%20%20%20%20%20%20%20West%20Toronto%2036%20%20%20%20%20%20%20%20West%20Toronto%2037%20%20%20%20%20%20%20%20East%20Toronto%20Name%3A%20Borough%2C%20dtype%3A%20object%20Cluster%204%3C/div%3E%60%29%5B0%5D%3B%0A%20%20%20%20%20%20%20%20%20%20%20%20popup_60fab63dc7e84844a8e651825c6edce5.setContent%28html_9c0f9f8a14054a19a7cd530282ad9d79%29%3B%0A%20%20%20%20%20%20%20%20%0A%0A%20%20%20%20%20%20%20%20circle_marker_fcb75391c9a4436cabf7c58b26b3ee98.bindPopup%28popup_60fab63dc7e84844a8e651825c6edce5%29%0A%20%20%20%20%20%20%20%20%3B%0A%0A%20%20%20%20%20%20%20%20%0A%20%20%20%20%0A%20%20%20%20%0A%20%20%20%20%20%20%20%20%20%20%20%20var%20circle_marker_dee4713fa0434f80b60a14b214550575%20%3D%20L.circleMarker%28%0A%20%20%20%20%20%20%20%20%20%20%20%20%20%20%20%20%5B43.6795571%2C%20-79.352188%5D%2C%0A%20%20%20%20%20%20%20%20%20%20%20%20%20%20%20%20%7B%22bubblingMouseEvents%22%3A%20true%2C%20%22color%22%3A%20%22%23ff0000%22%2C%20%22dashArray%22%3A%20null%2C%20%22dashOffset%22%3A%20null%2C%20%22fill%22%3A%20true%2C%20%22fillColor%22%3A%20%22%23ff0000%22%2C%20%22fillOpacity%22%3A%200.7%2C%20%22fillRule%22%3A%20%22evenodd%22%2C%20%22lineCap%22%3A%20%22round%22%2C%20%22lineJoin%22%3A%20%22round%22%2C%20%22opacity%22%3A%201.0%2C%20%22radius%22%3A%205%2C%20%22stroke%22%3A%20true%2C%20%22weight%22%3A%203%7D%0A%20%20%20%20%20%20%20%20%20%20%20%20%29.addTo%28map_48572ab121b2452292d0c49358e7f21b%29%3B%0A%20%20%20%20%20%20%20%20%0A%20%20%20%20%0A%20%20%20%20%20%20%20%20var%20popup_f0d2aeab090e40939f212fad6f7d9734%20%3D%20L.popup%28%7B%22maxWidth%22%3A%20%22100%25%22%7D%29%3B%0A%0A%20%20%20%20%20%20%20%20%0A%20%20%20%20%20%20%20%20%20%20%20%20var%20html_2ddb0cb63fc345988cf9c0c4b65a316a%20%3D%20%24%28%60%3Cdiv%20id%3D%22html_2ddb0cb63fc345988cf9c0c4b65a316a%22%20style%3D%22width%3A%20100.0%25%3B%20height%3A%20100.0%25%3B%22%3E0%20%20%20%20%20%20%20%20%20East%20Toronto%201%20%20%20%20%20%20%20%20%20East%20Toronto%202%20%20%20%20%20%20%20%20%20East%20Toronto%203%20%20%20%20%20%20%20%20%20East%20Toronto%204%20%20%20%20%20%20Central%20Toronto%205%20%20%20%20%20%20Central%20Toronto%206%20%20%20%20%20%20Central%20Toronto%207%20%20%20%20%20%20Central%20Toronto%208%20%20%20%20%20%20Central%20Toronto%209%20%20%20%20%20%20Central%20Toronto%2010%20%20%20%20Downtown%20Toronto%2011%20%20%20%20Downtown%20Toronto%2012%20%20%20%20Downtown%20Toronto%2013%20%20%20%20Downtown%20Toronto%2014%20%20%20%20Downtown%20Toronto%2015%20%20%20%20Downtown%20Toronto%2016%20%20%20%20Downtown%20Toronto%2017%20%20%20%20Downtown%20Toronto%2018%20%20%20%20Downtown%20Toronto%2019%20%20%20%20Downtown%20Toronto%2020%20%20%20%20Downtown%20Toronto%2021%20%20%20%20Downtown%20Toronto%2022%20%20%20%20%20Central%20Toronto%2023%20%20%20%20%20Central%20Toronto%2024%20%20%20%20%20Central%20Toronto%2025%20%20%20%20Downtown%20Toronto%2026%20%20%20%20Downtown%20Toronto%2027%20%20%20%20Downtown%20Toronto%2028%20%20%20%20Downtown%20Toronto%2029%20%20%20%20Downtown%20Toronto%2030%20%20%20%20Downtown%20Toronto%2031%20%20%20%20%20%20%20%20West%20Toronto%2032%20%20%20%20%20%20%20%20West%20Toronto%2033%20%20%20%20%20%20%20%20West%20Toronto%2034%20%20%20%20%20%20%20%20West%20Toronto%2035%20%20%20%20%20%20%20%20West%20Toronto%2036%20%20%20%20%20%20%20%20West%20Toronto%2037%20%20%20%20%20%20%20%20East%20Toronto%20Name%3A%20Borough%2C%20dtype%3A%20object%20Cluster%204%3C/div%3E%60%29%5B0%5D%3B%0A%20%20%20%20%20%20%20%20%20%20%20%20popup_f0d2aeab090e40939f212fad6f7d9734.setContent%28html_2ddb0cb63fc345988cf9c0c4b65a316a%29%3B%0A%20%20%20%20%20%20%20%20%0A%0A%20%20%20%20%20%20%20%20circle_marker_dee4713fa0434f80b60a14b214550575.bindPopup%28popup_f0d2aeab090e40939f212fad6f7d9734%29%0A%20%20%20%20%20%20%20%20%3B%0A%0A%20%20%20%20%20%20%20%20%0A%20%20%20%20%0A%20%20%20%20%0A%20%20%20%20%20%20%20%20%20%20%20%20var%20circle_marker_f19f031906f141e1bf248e25c87f6553%20%3D%20L.circleMarker%28%0A%20%20%20%20%20%20%20%20%20%20%20%20%20%20%20%20%5B43.6689985%2C%20-79.31557159999998%5D%2C%0A%20%20%20%20%20%20%20%20%20%20%20%20%20%20%20%20%7B%22bubblingMouseEvents%22%3A%20true%2C%20%22color%22%3A%20%22%23ff0000%22%2C%20%22dashArray%22%3A%20null%2C%20%22dashOffset%22%3A%20null%2C%20%22fill%22%3A%20true%2C%20%22fillColor%22%3A%20%22%23ff0000%22%2C%20%22fillOpacity%22%3A%200.7%2C%20%22fillRule%22%3A%20%22evenodd%22%2C%20%22lineCap%22%3A%20%22round%22%2C%20%22lineJoin%22%3A%20%22round%22%2C%20%22opacity%22%3A%201.0%2C%20%22radius%22%3A%205%2C%20%22stroke%22%3A%20true%2C%20%22weight%22%3A%203%7D%0A%20%20%20%20%20%20%20%20%20%20%20%20%29.addTo%28map_48572ab121b2452292d0c49358e7f21b%29%3B%0A%20%20%20%20%20%20%20%20%0A%20%20%20%20%0A%20%20%20%20%20%20%20%20var%20popup_c9befbad0a1644048ec27ff2616fba76%20%3D%20L.popup%28%7B%22maxWidth%22%3A%20%22100%25%22%7D%29%3B%0A%0A%20%20%20%20%20%20%20%20%0A%20%20%20%20%20%20%20%20%20%20%20%20var%20html_5308f6a27d5945c99f463fc0e2469b74%20%3D%20%24%28%60%3Cdiv%20id%3D%22html_5308f6a27d5945c99f463fc0e2469b74%22%20style%3D%22width%3A%20100.0%25%3B%20height%3A%20100.0%25%3B%22%3E0%20%20%20%20%20%20%20%20%20East%20Toronto%201%20%20%20%20%20%20%20%20%20East%20Toronto%202%20%20%20%20%20%20%20%20%20East%20Toronto%203%20%20%20%20%20%20%20%20%20East%20Toronto%204%20%20%20%20%20%20Central%20Toronto%205%20%20%20%20%20%20Central%20Toronto%206%20%20%20%20%20%20Central%20Toronto%207%20%20%20%20%20%20Central%20Toronto%208%20%20%20%20%20%20Central%20Toronto%209%20%20%20%20%20%20Central%20Toronto%2010%20%20%20%20Downtown%20Toronto%2011%20%20%20%20Downtown%20Toronto%2012%20%20%20%20Downtown%20Toronto%2013%20%20%20%20Downtown%20Toronto%2014%20%20%20%20Downtown%20Toronto%2015%20%20%20%20Downtown%20Toronto%2016%20%20%20%20Downtown%20Toronto%2017%20%20%20%20Downtown%20Toronto%2018%20%20%20%20Downtown%20Toronto%2019%20%20%20%20Downtown%20Toronto%2020%20%20%20%20Downtown%20Toronto%2021%20%20%20%20Downtown%20Toronto%2022%20%20%20%20%20Central%20Toronto%2023%20%20%20%20%20Central%20Toronto%2024%20%20%20%20%20Central%20Toronto%2025%20%20%20%20Downtown%20Toronto%2026%20%20%20%20Downtown%20Toronto%2027%20%20%20%20Downtown%20Toronto%2028%20%20%20%20Downtown%20Toronto%2029%20%20%20%20Downtown%20Toronto%2030%20%20%20%20Downtown%20Toronto%2031%20%20%20%20%20%20%20%20West%20Toronto%2032%20%20%20%20%20%20%20%20West%20Toronto%2033%20%20%20%20%20%20%20%20West%20Toronto%2034%20%20%20%20%20%20%20%20West%20Toronto%2035%20%20%20%20%20%20%20%20West%20Toronto%2036%20%20%20%20%20%20%20%20West%20Toronto%2037%20%20%20%20%20%20%20%20East%20Toronto%20Name%3A%20Borough%2C%20dtype%3A%20object%20Cluster%204%3C/div%3E%60%29%5B0%5D%3B%0A%20%20%20%20%20%20%20%20%20%20%20%20popup_c9befbad0a1644048ec27ff2616fba76.setContent%28html_5308f6a27d5945c99f463fc0e2469b74%29%3B%0A%20%20%20%20%20%20%20%20%0A%0A%20%20%20%20%20%20%20%20circle_marker_f19f031906f141e1bf248e25c87f6553.bindPopup%28popup_c9befbad0a1644048ec27ff2616fba76%29%0A%20%20%20%20%20%20%20%20%3B%0A%0A%20%20%20%20%20%20%20%20%0A%20%20%20%20%0A%20%20%20%20%0A%20%20%20%20%20%20%20%20%20%20%20%20var%20circle_marker_bfddbde0a1b448c7954cb8b7e5dd05da%20%3D%20L.circleMarker%28%0A%20%20%20%20%20%20%20%20%20%20%20%20%20%20%20%20%5B43.6595255%2C%20-79.340923%5D%2C%0A%20%20%20%20%20%20%20%20%20%20%20%20%20%20%20%20%7B%22bubblingMouseEvents%22%3A%20true%2C%20%22color%22%3A%20%22%23ff0000%22%2C%20%22dashArray%22%3A%20null%2C%20%22dashOffset%22%3A%20null%2C%20%22fill%22%3A%20true%2C%20%22fillColor%22%3A%20%22%23ff0000%22%2C%20%22fillOpacity%22%3A%200.7%2C%20%22fillRule%22%3A%20%22evenodd%22%2C%20%22lineCap%22%3A%20%22round%22%2C%20%22lineJoin%22%3A%20%22round%22%2C%20%22opacity%22%3A%201.0%2C%20%22radius%22%3A%205%2C%20%22stroke%22%3A%20true%2C%20%22weight%22%3A%203%7D%0A%20%20%20%20%20%20%20%20%20%20%20%20%29.addTo%28map_48572ab121b2452292d0c49358e7f21b%29%3B%0A%20%20%20%20%20%20%20%20%0A%20%20%20%20%0A%20%20%20%20%20%20%20%20var%20popup_0370d624e87f4714bd2110e9346dce6d%20%3D%20L.popup%28%7B%22maxWidth%22%3A%20%22100%25%22%7D%29%3B%0A%0A%20%20%20%20%20%20%20%20%0A%20%20%20%20%20%20%20%20%20%20%20%20var%20html_ce093180278b4f8598585b9827163257%20%3D%20%24%28%60%3Cdiv%20id%3D%22html_ce093180278b4f8598585b9827163257%22%20style%3D%22width%3A%20100.0%25%3B%20height%3A%20100.0%25%3B%22%3E0%20%20%20%20%20%20%20%20%20East%20Toronto%201%20%20%20%20%20%20%20%20%20East%20Toronto%202%20%20%20%20%20%20%20%20%20East%20Toronto%203%20%20%20%20%20%20%20%20%20East%20Toronto%204%20%20%20%20%20%20Central%20Toronto%205%20%20%20%20%20%20Central%20Toronto%206%20%20%20%20%20%20Central%20Toronto%207%20%20%20%20%20%20Central%20Toronto%208%20%20%20%20%20%20Central%20Toronto%209%20%20%20%20%20%20Central%20Toronto%2010%20%20%20%20Downtown%20Toronto%2011%20%20%20%20Downtown%20Toronto%2012%20%20%20%20Downtown%20Toronto%2013%20%20%20%20Downtown%20Toronto%2014%20%20%20%20Downtown%20Toronto%2015%20%20%20%20Downtown%20Toronto%2016%20%20%20%20Downtown%20Toronto%2017%20%20%20%20Downtown%20Toronto%2018%20%20%20%20Downtown%20Toronto%2019%20%20%20%20Downtown%20Toronto%2020%20%20%20%20Downtown%20Toronto%2021%20%20%20%20Downtown%20Toronto%2022%20%20%20%20%20Central%20Toronto%2023%20%20%20%20%20Central%20Toronto%2024%20%20%20%20%20Central%20Toronto%2025%20%20%20%20Downtown%20Toronto%2026%20%20%20%20Downtown%20Toronto%2027%20%20%20%20Downtown%20Toronto%2028%20%20%20%20Downtown%20Toronto%2029%20%20%20%20Downtown%20Toronto%2030%20%20%20%20Downtown%20Toronto%2031%20%20%20%20%20%20%20%20West%20Toronto%2032%20%20%20%20%20%20%20%20West%20Toronto%2033%20%20%20%20%20%20%20%20West%20Toronto%2034%20%20%20%20%20%20%20%20West%20Toronto%2035%20%20%20%20%20%20%20%20West%20Toronto%2036%20%20%20%20%20%20%20%20West%20Toronto%2037%20%20%20%20%20%20%20%20East%20Toronto%20Name%3A%20Borough%2C%20dtype%3A%20object%20Cluster%204%3C/div%3E%60%29%5B0%5D%3B%0A%20%20%20%20%20%20%20%20%20%20%20%20popup_0370d624e87f4714bd2110e9346dce6d.setContent%28html_ce093180278b4f8598585b9827163257%29%3B%0A%20%20%20%20%20%20%20%20%0A%0A%20%20%20%20%20%20%20%20circle_marker_bfddbde0a1b448c7954cb8b7e5dd05da.bindPopup%28popup_0370d624e87f4714bd2110e9346dce6d%29%0A%20%20%20%20%20%20%20%20%3B%0A%0A%20%20%20%20%20%20%20%20%0A%20%20%20%20%0A%20%20%20%20%0A%20%20%20%20%20%20%20%20%20%20%20%20var%20circle_marker_3ff6835793e44b329e7c282705a2b0cd%20%3D%20L.circleMarker%28%0A%20%20%20%20%20%20%20%20%20%20%20%20%20%20%20%20%5B43.7280205%2C%20-79.3887901%5D%2C%0A%20%20%20%20%20%20%20%20%20%20%20%20%20%20%20%20%7B%22bubblingMouseEvents%22%3A%20true%2C%20%22color%22%3A%20%22%232adddd%22%2C%20%22dashArray%22%3A%20null%2C%20%22dashOffset%22%3A%20null%2C%20%22fill%22%3A%20true%2C%20%22fillColor%22%3A%20%22%232adddd%22%2C%20%22fillOpacity%22%3A%200.7%2C%20%22fillRule%22%3A%20%22evenodd%22%2C%20%22lineCap%22%3A%20%22round%22%2C%20%22lineJoin%22%3A%20%22round%22%2C%20%22opacity%22%3A%201.0%2C%20%22radius%22%3A%205%2C%20%22stroke%22%3A%20true%2C%20%22weight%22%3A%203%7D%0A%20%20%20%20%20%20%20%20%20%20%20%20%29.addTo%28map_48572ab121b2452292d0c49358e7f21b%29%3B%0A%20%20%20%20%20%20%20%20%0A%20%20%20%20%0A%20%20%20%20%20%20%20%20var%20popup_b97229eb9bc6494a9c62d6a7222e5815%20%3D%20L.popup%28%7B%22maxWidth%22%3A%20%22100%25%22%7D%29%3B%0A%0A%20%20%20%20%20%20%20%20%0A%20%20%20%20%20%20%20%20%20%20%20%20var%20html_8c8834a471b34aada7b3381ea1419eb8%20%3D%20%24%28%60%3Cdiv%20id%3D%22html_8c8834a471b34aada7b3381ea1419eb8%22%20style%3D%22width%3A%20100.0%25%3B%20height%3A%20100.0%25%3B%22%3E0%20%20%20%20%20%20%20%20%20East%20Toronto%201%20%20%20%20%20%20%20%20%20East%20Toronto%202%20%20%20%20%20%20%20%20%20East%20Toronto%203%20%20%20%20%20%20%20%20%20East%20Toronto%204%20%20%20%20%20%20Central%20Toronto%205%20%20%20%20%20%20Central%20Toronto%206%20%20%20%20%20%20Central%20Toronto%207%20%20%20%20%20%20Central%20Toronto%208%20%20%20%20%20%20Central%20Toronto%209%20%20%20%20%20%20Central%20Toronto%2010%20%20%20%20Downtown%20Toronto%2011%20%20%20%20Downtown%20Toronto%2012%20%20%20%20Downtown%20Toronto%2013%20%20%20%20Downtown%20Toronto%2014%20%20%20%20Downtown%20Toronto%2015%20%20%20%20Downtown%20Toronto%2016%20%20%20%20Downtown%20Toronto%2017%20%20%20%20Downtown%20Toronto%2018%20%20%20%20Downtown%20Toronto%2019%20%20%20%20Downtown%20Toronto%2020%20%20%20%20Downtown%20Toronto%2021%20%20%20%20Downtown%20Toronto%2022%20%20%20%20%20Central%20Toronto%2023%20%20%20%20%20Central%20Toronto%2024%20%20%20%20%20Central%20Toronto%2025%20%20%20%20Downtown%20Toronto%2026%20%20%20%20Downtown%20Toronto%2027%20%20%20%20Downtown%20Toronto%2028%20%20%20%20Downtown%20Toronto%2029%20%20%20%20Downtown%20Toronto%2030%20%20%20%20Downtown%20Toronto%2031%20%20%20%20%20%20%20%20West%20Toronto%2032%20%20%20%20%20%20%20%20West%20Toronto%2033%20%20%20%20%20%20%20%20West%20Toronto%2034%20%20%20%20%20%20%20%20West%20Toronto%2035%20%20%20%20%20%20%20%20West%20Toronto%2036%20%20%20%20%20%20%20%20West%20Toronto%2037%20%20%20%20%20%20%20%20East%20Toronto%20Name%3A%20Borough%2C%20dtype%3A%20object%20Cluster%202%3C/div%3E%60%29%5B0%5D%3B%0A%20%20%20%20%20%20%20%20%20%20%20%20popup_b97229eb9bc6494a9c62d6a7222e5815.setContent%28html_8c8834a471b34aada7b3381ea1419eb8%29%3B%0A%20%20%20%20%20%20%20%20%0A%0A%20%20%20%20%20%20%20%20circle_marker_3ff6835793e44b329e7c282705a2b0cd.bindPopup%28popup_b97229eb9bc6494a9c62d6a7222e5815%29%0A%20%20%20%20%20%20%20%20%3B%0A%0A%20%20%20%20%20%20%20%20%0A%20%20%20%20%0A%20%20%20%20%0A%20%20%20%20%20%20%20%20%20%20%20%20var%20circle_marker_b5a19790402e449ea2a1a6eea7b176f4%20%3D%20L.circleMarker%28%0A%20%20%20%20%20%20%20%20%20%20%20%20%20%20%20%20%5B43.7127511%2C%20-79.3901975%5D%2C%0A%20%20%20%20%20%20%20%20%20%20%20%20%20%20%20%20%7B%22bubblingMouseEvents%22%3A%20true%2C%20%22color%22%3A%20%22%232adddd%22%2C%20%22dashArray%22%3A%20null%2C%20%22dashOffset%22%3A%20null%2C%20%22fill%22%3A%20true%2C%20%22fillColor%22%3A%20%22%232adddd%22%2C%20%22fillOpacity%22%3A%200.7%2C%20%22fillRule%22%3A%20%22evenodd%22%2C%20%22lineCap%22%3A%20%22round%22%2C%20%22lineJoin%22%3A%20%22round%22%2C%20%22opacity%22%3A%201.0%2C%20%22radius%22%3A%205%2C%20%22stroke%22%3A%20true%2C%20%22weight%22%3A%203%7D%0A%20%20%20%20%20%20%20%20%20%20%20%20%29.addTo%28map_48572ab121b2452292d0c49358e7f21b%29%3B%0A%20%20%20%20%20%20%20%20%0A%20%20%20%20%0A%20%20%20%20%20%20%20%20var%20popup_8139dae56228445aae11a53987d937fa%20%3D%20L.popup%28%7B%22maxWidth%22%3A%20%22100%25%22%7D%29%3B%0A%0A%20%20%20%20%20%20%20%20%0A%20%20%20%20%20%20%20%20%20%20%20%20var%20html_8623d17bd1de4bc094e9062d1e637997%20%3D%20%24%28%60%3Cdiv%20id%3D%22html_8623d17bd1de4bc094e9062d1e637997%22%20style%3D%22width%3A%20100.0%25%3B%20height%3A%20100.0%25%3B%22%3E0%20%20%20%20%20%20%20%20%20East%20Toronto%201%20%20%20%20%20%20%20%20%20East%20Toronto%202%20%20%20%20%20%20%20%20%20East%20Toronto%203%20%20%20%20%20%20%20%20%20East%20Toronto%204%20%20%20%20%20%20Central%20Toronto%205%20%20%20%20%20%20Central%20Toronto%206%20%20%20%20%20%20Central%20Toronto%207%20%20%20%20%20%20Central%20Toronto%208%20%20%20%20%20%20Central%20Toronto%209%20%20%20%20%20%20Central%20Toronto%2010%20%20%20%20Downtown%20Toronto%2011%20%20%20%20Downtown%20Toronto%2012%20%20%20%20Downtown%20Toronto%2013%20%20%20%20Downtown%20Toronto%2014%20%20%20%20Downtown%20Toronto%2015%20%20%20%20Downtown%20Toronto%2016%20%20%20%20Downtown%20Toronto%2017%20%20%20%20Downtown%20Toronto%2018%20%20%20%20Downtown%20Toronto%2019%20%20%20%20Downtown%20Toronto%2020%20%20%20%20Downtown%20Toronto%2021%20%20%20%20Downtown%20Toronto%2022%20%20%20%20%20Central%20Toronto%2023%20%20%20%20%20Central%20Toronto%2024%20%20%20%20%20Central%20Toronto%2025%20%20%20%20Downtown%20Toronto%2026%20%20%20%20Downtown%20Toronto%2027%20%20%20%20Downtown%20Toronto%2028%20%20%20%20Downtown%20Toronto%2029%20%20%20%20Downtown%20Toronto%2030%20%20%20%20Downtown%20Toronto%2031%20%20%20%20%20%20%20%20West%20Toronto%2032%20%20%20%20%20%20%20%20West%20Toronto%2033%20%20%20%20%20%20%20%20West%20Toronto%2034%20%20%20%20%20%20%20%20West%20Toronto%2035%20%20%20%20%20%20%20%20West%20Toronto%2036%20%20%20%20%20%20%20%20West%20Toronto%2037%20%20%20%20%20%20%20%20East%20Toronto%20Name%3A%20Borough%2C%20dtype%3A%20object%20Cluster%202%3C/div%3E%60%29%5B0%5D%3B%0A%20%20%20%20%20%20%20%20%20%20%20%20popup_8139dae56228445aae11a53987d937fa.setContent%28html_8623d17bd1de4bc094e9062d1e637997%29%3B%0A%20%20%20%20%20%20%20%20%0A%0A%20%20%20%20%20%20%20%20circle_marker_b5a19790402e449ea2a1a6eea7b176f4.bindPopup%28popup_8139dae56228445aae11a53987d937fa%29%0A%20%20%20%20%20%20%20%20%3B%0A%0A%20%20%20%20%20%20%20%20%0A%20%20%20%20%0A%20%20%20%20%0A%20%20%20%20%20%20%20%20%20%20%20%20var%20circle_marker_46d9a6f8d89e4253a6ad97860b366eef%20%3D%20L.circleMarker%28%0A%20%20%20%20%20%20%20%20%20%20%20%20%20%20%20%20%5B43.7153834%2C%20-79.40567840000001%5D%2C%0A%20%20%20%20%20%20%20%20%20%20%20%20%20%20%20%20%7B%22bubblingMouseEvents%22%3A%20true%2C%20%22color%22%3A%20%22%232adddd%22%2C%20%22dashArray%22%3A%20null%2C%20%22dashOffset%22%3A%20null%2C%20%22fill%22%3A%20true%2C%20%22fillColor%22%3A%20%22%232adddd%22%2C%20%22fillOpacity%22%3A%200.7%2C%20%22fillRule%22%3A%20%22evenodd%22%2C%20%22lineCap%22%3A%20%22round%22%2C%20%22lineJoin%22%3A%20%22round%22%2C%20%22opacity%22%3A%201.0%2C%20%22radius%22%3A%205%2C%20%22stroke%22%3A%20true%2C%20%22weight%22%3A%203%7D%0A%20%20%20%20%20%20%20%20%20%20%20%20%29.addTo%28map_48572ab121b2452292d0c49358e7f21b%29%3B%0A%20%20%20%20%20%20%20%20%0A%20%20%20%20%0A%20%20%20%20%20%20%20%20var%20popup_ab9227297be646d4bee57a9435fed954%20%3D%20L.popup%28%7B%22maxWidth%22%3A%20%22100%25%22%7D%29%3B%0A%0A%20%20%20%20%20%20%20%20%0A%20%20%20%20%20%20%20%20%20%20%20%20var%20html_dff7246d094041008911a7959850ca4b%20%3D%20%24%28%60%3Cdiv%20id%3D%22html_dff7246d094041008911a7959850ca4b%22%20style%3D%22width%3A%20100.0%25%3B%20height%3A%20100.0%25%3B%22%3E0%20%20%20%20%20%20%20%20%20East%20Toronto%201%20%20%20%20%20%20%20%20%20East%20Toronto%202%20%20%20%20%20%20%20%20%20East%20Toronto%203%20%20%20%20%20%20%20%20%20East%20Toronto%204%20%20%20%20%20%20Central%20Toronto%205%20%20%20%20%20%20Central%20Toronto%206%20%20%20%20%20%20Central%20Toronto%207%20%20%20%20%20%20Central%20Toronto%208%20%20%20%20%20%20Central%20Toronto%209%20%20%20%20%20%20Central%20Toronto%2010%20%20%20%20Downtown%20Toronto%2011%20%20%20%20Downtown%20Toronto%2012%20%20%20%20Downtown%20Toronto%2013%20%20%20%20Downtown%20Toronto%2014%20%20%20%20Downtown%20Toronto%2015%20%20%20%20Downtown%20Toronto%2016%20%20%20%20Downtown%20Toronto%2017%20%20%20%20Downtown%20Toronto%2018%20%20%20%20Downtown%20Toronto%2019%20%20%20%20Downtown%20Toronto%2020%20%20%20%20Downtown%20Toronto%2021%20%20%20%20Downtown%20Toronto%2022%20%20%20%20%20Central%20Toronto%2023%20%20%20%20%20Central%20Toronto%2024%20%20%20%20%20Central%20Toronto%2025%20%20%20%20Downtown%20Toronto%2026%20%20%20%20Downtown%20Toronto%2027%20%20%20%20Downtown%20Toronto%2028%20%20%20%20Downtown%20Toronto%2029%20%20%20%20Downtown%20Toronto%2030%20%20%20%20Downtown%20Toronto%2031%20%20%20%20%20%20%20%20West%20Toronto%2032%20%20%20%20%20%20%20%20West%20Toronto%2033%20%20%20%20%20%20%20%20West%20Toronto%2034%20%20%20%20%20%20%20%20West%20Toronto%2035%20%20%20%20%20%20%20%20West%20Toronto%2036%20%20%20%20%20%20%20%20West%20Toronto%2037%20%20%20%20%20%20%20%20East%20Toronto%20Name%3A%20Borough%2C%20dtype%3A%20object%20Cluster%202%3C/div%3E%60%29%5B0%5D%3B%0A%20%20%20%20%20%20%20%20%20%20%20%20popup_ab9227297be646d4bee57a9435fed954.setContent%28html_dff7246d094041008911a7959850ca4b%29%3B%0A%20%20%20%20%20%20%20%20%0A%0A%20%20%20%20%20%20%20%20circle_marker_46d9a6f8d89e4253a6ad97860b366eef.bindPopup%28popup_ab9227297be646d4bee57a9435fed954%29%0A%20%20%20%20%20%20%20%20%3B%0A%0A%20%20%20%20%20%20%20%20%0A%20%20%20%20%0A%20%20%20%20%0A%20%20%20%20%20%20%20%20%20%20%20%20var%20circle_marker_25de272241e3483191690631168d2558%20%3D%20L.circleMarker%28%0A%20%20%20%20%20%20%20%20%20%20%20%20%20%20%20%20%5B43.7043244%2C%20-79.3887901%5D%2C%0A%20%20%20%20%20%20%20%20%20%20%20%20%20%20%20%20%7B%22bubblingMouseEvents%22%3A%20true%2C%20%22color%22%3A%20%22%232adddd%22%2C%20%22dashArray%22%3A%20null%2C%20%22dashOffset%22%3A%20null%2C%20%22fill%22%3A%20true%2C%20%22fillColor%22%3A%20%22%232adddd%22%2C%20%22fillOpacity%22%3A%200.7%2C%20%22fillRule%22%3A%20%22evenodd%22%2C%20%22lineCap%22%3A%20%22round%22%2C%20%22lineJoin%22%3A%20%22round%22%2C%20%22opacity%22%3A%201.0%2C%20%22radius%22%3A%205%2C%20%22stroke%22%3A%20true%2C%20%22weight%22%3A%203%7D%0A%20%20%20%20%20%20%20%20%20%20%20%20%29.addTo%28map_48572ab121b2452292d0c49358e7f21b%29%3B%0A%20%20%20%20%20%20%20%20%0A%20%20%20%20%0A%20%20%20%20%20%20%20%20var%20popup_03afd0b7cdd04b81968f514ef2f5cbef%20%3D%20L.popup%28%7B%22maxWidth%22%3A%20%22100%25%22%7D%29%3B%0A%0A%20%20%20%20%20%20%20%20%0A%20%20%20%20%20%20%20%20%20%20%20%20var%20html_fe7728bab16942d48836a48eabb9ff62%20%3D%20%24%28%60%3Cdiv%20id%3D%22html_fe7728bab16942d48836a48eabb9ff62%22%20style%3D%22width%3A%20100.0%25%3B%20height%3A%20100.0%25%3B%22%3E0%20%20%20%20%20%20%20%20%20East%20Toronto%201%20%20%20%20%20%20%20%20%20East%20Toronto%202%20%20%20%20%20%20%20%20%20East%20Toronto%203%20%20%20%20%20%20%20%20%20East%20Toronto%204%20%20%20%20%20%20Central%20Toronto%205%20%20%20%20%20%20Central%20Toronto%206%20%20%20%20%20%20Central%20Toronto%207%20%20%20%20%20%20Central%20Toronto%208%20%20%20%20%20%20Central%20Toronto%209%20%20%20%20%20%20Central%20Toronto%2010%20%20%20%20Downtown%20Toronto%2011%20%20%20%20Downtown%20Toronto%2012%20%20%20%20Downtown%20Toronto%2013%20%20%20%20Downtown%20Toronto%2014%20%20%20%20Downtown%20Toronto%2015%20%20%20%20Downtown%20Toronto%2016%20%20%20%20Downtown%20Toronto%2017%20%20%20%20Downtown%20Toronto%2018%20%20%20%20Downtown%20Toronto%2019%20%20%20%20Downtown%20Toronto%2020%20%20%20%20Downtown%20Toronto%2021%20%20%20%20Downtown%20Toronto%2022%20%20%20%20%20Central%20Toronto%2023%20%20%20%20%20Central%20Toronto%2024%20%20%20%20%20Central%20Toronto%2025%20%20%20%20Downtown%20Toronto%2026%20%20%20%20Downtown%20Toronto%2027%20%20%20%20Downtown%20Toronto%2028%20%20%20%20Downtown%20Toronto%2029%20%20%20%20Downtown%20Toronto%2030%20%20%20%20Downtown%20Toronto%2031%20%20%20%20%20%20%20%20West%20Toronto%2032%20%20%20%20%20%20%20%20West%20Toronto%2033%20%20%20%20%20%20%20%20West%20Toronto%2034%20%20%20%20%20%20%20%20West%20Toronto%2035%20%20%20%20%20%20%20%20West%20Toronto%2036%20%20%20%20%20%20%20%20West%20Toronto%2037%20%20%20%20%20%20%20%20East%20Toronto%20Name%3A%20Borough%2C%20dtype%3A%20object%20Cluster%202%3C/div%3E%60%29%5B0%5D%3B%0A%20%20%20%20%20%20%20%20%20%20%20%20popup_03afd0b7cdd04b81968f514ef2f5cbef.setContent%28html_fe7728bab16942d48836a48eabb9ff62%29%3B%0A%20%20%20%20%20%20%20%20%0A%0A%20%20%20%20%20%20%20%20circle_marker_25de272241e3483191690631168d2558.bindPopup%28popup_03afd0b7cdd04b81968f514ef2f5cbef%29%0A%20%20%20%20%20%20%20%20%3B%0A%0A%20%20%20%20%20%20%20%20%0A%20%20%20%20%0A%20%20%20%20%0A%20%20%20%20%20%20%20%20%20%20%20%20var%20circle_marker_1b1d20636cc14c9a8dc14df8a46bec3e%20%3D%20L.circleMarker%28%0A%20%20%20%20%20%20%20%20%20%20%20%20%20%20%20%20%5B43.6895743%2C%20-79.38315990000002%5D%2C%0A%20%20%20%20%20%20%20%20%20%20%20%20%20%20%20%20%7B%22bubblingMouseEvents%22%3A%20true%2C%20%22color%22%3A%20%22%232adddd%22%2C%20%22dashArray%22%3A%20null%2C%20%22dashOffset%22%3A%20null%2C%20%22fill%22%3A%20true%2C%20%22fillColor%22%3A%20%22%232adddd%22%2C%20%22fillOpacity%22%3A%200.7%2C%20%22fillRule%22%3A%20%22evenodd%22%2C%20%22lineCap%22%3A%20%22round%22%2C%20%22lineJoin%22%3A%20%22round%22%2C%20%22opacity%22%3A%201.0%2C%20%22radius%22%3A%205%2C%20%22stroke%22%3A%20true%2C%20%22weight%22%3A%203%7D%0A%20%20%20%20%20%20%20%20%20%20%20%20%29.addTo%28map_48572ab121b2452292d0c49358e7f21b%29%3B%0A%20%20%20%20%20%20%20%20%0A%20%20%20%20%0A%20%20%20%20%20%20%20%20var%20popup_be1462de30d347119d90f7dd0af50b30%20%3D%20L.popup%28%7B%22maxWidth%22%3A%20%22100%25%22%7D%29%3B%0A%0A%20%20%20%20%20%20%20%20%0A%20%20%20%20%20%20%20%20%20%20%20%20var%20html_7533618033d84c5d944fd14cd527abd6%20%3D%20%24%28%60%3Cdiv%20id%3D%22html_7533618033d84c5d944fd14cd527abd6%22%20style%3D%22width%3A%20100.0%25%3B%20height%3A%20100.0%25%3B%22%3E0%20%20%20%20%20%20%20%20%20East%20Toronto%201%20%20%20%20%20%20%20%20%20East%20Toronto%202%20%20%20%20%20%20%20%20%20East%20Toronto%203%20%20%20%20%20%20%20%20%20East%20Toronto%204%20%20%20%20%20%20Central%20Toronto%205%20%20%20%20%20%20Central%20Toronto%206%20%20%20%20%20%20Central%20Toronto%207%20%20%20%20%20%20Central%20Toronto%208%20%20%20%20%20%20Central%20Toronto%209%20%20%20%20%20%20Central%20Toronto%2010%20%20%20%20Downtown%20Toronto%2011%20%20%20%20Downtown%20Toronto%2012%20%20%20%20Downtown%20Toronto%2013%20%20%20%20Downtown%20Toronto%2014%20%20%20%20Downtown%20Toronto%2015%20%20%20%20Downtown%20Toronto%2016%20%20%20%20Downtown%20Toronto%2017%20%20%20%20Downtown%20Toronto%2018%20%20%20%20Downtown%20Toronto%2019%20%20%20%20Downtown%20Toronto%2020%20%20%20%20Downtown%20Toronto%2021%20%20%20%20Downtown%20Toronto%2022%20%20%20%20%20Central%20Toronto%2023%20%20%20%20%20Central%20Toronto%2024%20%20%20%20%20Central%20Toronto%2025%20%20%20%20Downtown%20Toronto%2026%20%20%20%20Downtown%20Toronto%2027%20%20%20%20Downtown%20Toronto%2028%20%20%20%20Downtown%20Toronto%2029%20%20%20%20Downtown%20Toronto%2030%20%20%20%20Downtown%20Toronto%2031%20%20%20%20%20%20%20%20West%20Toronto%2032%20%20%20%20%20%20%20%20West%20Toronto%2033%20%20%20%20%20%20%20%20West%20Toronto%2034%20%20%20%20%20%20%20%20West%20Toronto%2035%20%20%20%20%20%20%20%20West%20Toronto%2036%20%20%20%20%20%20%20%20West%20Toronto%2037%20%20%20%20%20%20%20%20East%20Toronto%20Name%3A%20Borough%2C%20dtype%3A%20object%20Cluster%202%3C/div%3E%60%29%5B0%5D%3B%0A%20%20%20%20%20%20%20%20%20%20%20%20popup_be1462de30d347119d90f7dd0af50b30.setContent%28html_7533618033d84c5d944fd14cd527abd6%29%3B%0A%20%20%20%20%20%20%20%20%0A%0A%20%20%20%20%20%20%20%20circle_marker_1b1d20636cc14c9a8dc14df8a46bec3e.bindPopup%28popup_be1462de30d347119d90f7dd0af50b30%29%0A%20%20%20%20%20%20%20%20%3B%0A%0A%20%20%20%20%20%20%20%20%0A%20%20%20%20%0A%20%20%20%20%0A%20%20%20%20%20%20%20%20%20%20%20%20var%20circle_marker_bae1bf5bd96b48c4aa2511c0e597ee42%20%3D%20L.circleMarker%28%0A%20%20%20%20%20%20%20%20%20%20%20%20%20%20%20%20%5B43.68641229999999%2C%20-79.4000493%5D%2C%0A%20%20%20%20%20%20%20%20%20%20%20%20%20%20%20%20%7B%22bubblingMouseEvents%22%3A%20true%2C%20%22color%22%3A%20%22%232adddd%22%2C%20%22dashArray%22%3A%20null%2C%20%22dashOffset%22%3A%20null%2C%20%22fill%22%3A%20true%2C%20%22fillColor%22%3A%20%22%232adddd%22%2C%20%22fillOpacity%22%3A%200.7%2C%20%22fillRule%22%3A%20%22evenodd%22%2C%20%22lineCap%22%3A%20%22round%22%2C%20%22lineJoin%22%3A%20%22round%22%2C%20%22opacity%22%3A%201.0%2C%20%22radius%22%3A%205%2C%20%22stroke%22%3A%20true%2C%20%22weight%22%3A%203%7D%0A%20%20%20%20%20%20%20%20%20%20%20%20%29.addTo%28map_48572ab121b2452292d0c49358e7f21b%29%3B%0A%20%20%20%20%20%20%20%20%0A%20%20%20%20%0A%20%20%20%20%20%20%20%20var%20popup_b97ce18fc6bc4425810ccc3704c7dbf1%20%3D%20L.popup%28%7B%22maxWidth%22%3A%20%22100%25%22%7D%29%3B%0A%0A%20%20%20%20%20%20%20%20%0A%20%20%20%20%20%20%20%20%20%20%20%20var%20html_666c8a4dbc1241ab86d78ec9064c12f9%20%3D%20%24%28%60%3Cdiv%20id%3D%22html_666c8a4dbc1241ab86d78ec9064c12f9%22%20style%3D%22width%3A%20100.0%25%3B%20height%3A%20100.0%25%3B%22%3E0%20%20%20%20%20%20%20%20%20East%20Toronto%201%20%20%20%20%20%20%20%20%20East%20Toronto%202%20%20%20%20%20%20%20%20%20East%20Toronto%203%20%20%20%20%20%20%20%20%20East%20Toronto%204%20%20%20%20%20%20Central%20Toronto%205%20%20%20%20%20%20Central%20Toronto%206%20%20%20%20%20%20Central%20Toronto%207%20%20%20%20%20%20Central%20Toronto%208%20%20%20%20%20%20Central%20Toronto%209%20%20%20%20%20%20Central%20Toronto%2010%20%20%20%20Downtown%20Toronto%2011%20%20%20%20Downtown%20Toronto%2012%20%20%20%20Downtown%20Toronto%2013%20%20%20%20Downtown%20Toronto%2014%20%20%20%20Downtown%20Toronto%2015%20%20%20%20Downtown%20Toronto%2016%20%20%20%20Downtown%20Toronto%2017%20%20%20%20Downtown%20Toronto%2018%20%20%20%20Downtown%20Toronto%2019%20%20%20%20Downtown%20Toronto%2020%20%20%20%20Downtown%20Toronto%2021%20%20%20%20Downtown%20Toronto%2022%20%20%20%20%20Central%20Toronto%2023%20%20%20%20%20Central%20Toronto%2024%20%20%20%20%20Central%20Toronto%2025%20%20%20%20Downtown%20Toronto%2026%20%20%20%20Downtown%20Toronto%2027%20%20%20%20Downtown%20Toronto%2028%20%20%20%20Downtown%20Toronto%2029%20%20%20%20Downtown%20Toronto%2030%20%20%20%20Downtown%20Toronto%2031%20%20%20%20%20%20%20%20West%20Toronto%2032%20%20%20%20%20%20%20%20West%20Toronto%2033%20%20%20%20%20%20%20%20West%20Toronto%2034%20%20%20%20%20%20%20%20West%20Toronto%2035%20%20%20%20%20%20%20%20West%20Toronto%2036%20%20%20%20%20%20%20%20West%20Toronto%2037%20%20%20%20%20%20%20%20East%20Toronto%20Name%3A%20Borough%2C%20dtype%3A%20object%20Cluster%202%3C/div%3E%60%29%5B0%5D%3B%0A%20%20%20%20%20%20%20%20%20%20%20%20popup_b97ce18fc6bc4425810ccc3704c7dbf1.setContent%28html_666c8a4dbc1241ab86d78ec9064c12f9%29%3B%0A%20%20%20%20%20%20%20%20%0A%0A%20%20%20%20%20%20%20%20circle_marker_bae1bf5bd96b48c4aa2511c0e597ee42.bindPopup%28popup_b97ce18fc6bc4425810ccc3704c7dbf1%29%0A%20%20%20%20%20%20%20%20%3B%0A%0A%20%20%20%20%20%20%20%20%0A%20%20%20%20%0A%20%20%20%20%0A%20%20%20%20%20%20%20%20%20%20%20%20var%20circle_marker_7eaf89560f794d27a8af6bf8755b2091%20%3D%20L.circleMarker%28%0A%20%20%20%20%20%20%20%20%20%20%20%20%20%20%20%20%5B43.6795626%2C%20-79.37752940000001%5D%2C%0A%20%20%20%20%20%20%20%20%20%20%20%20%20%20%20%20%7B%22bubblingMouseEvents%22%3A%20true%2C%20%22color%22%3A%20%22%238000ff%22%2C%20%22dashArray%22%3A%20null%2C%20%22dashOffset%22%3A%20null%2C%20%22fill%22%3A%20true%2C%20%22fillColor%22%3A%20%22%238000ff%22%2C%20%22fillOpacity%22%3A%200.7%2C%20%22fillRule%22%3A%20%22evenodd%22%2C%20%22lineCap%22%3A%20%22round%22%2C%20%22lineJoin%22%3A%20%22round%22%2C%20%22opacity%22%3A%201.0%2C%20%22radius%22%3A%205%2C%20%22stroke%22%3A%20true%2C%20%22weight%22%3A%203%7D%0A%20%20%20%20%20%20%20%20%20%20%20%20%29.addTo%28map_48572ab121b2452292d0c49358e7f21b%29%3B%0A%20%20%20%20%20%20%20%20%0A%20%20%20%20%0A%20%20%20%20%20%20%20%20var%20popup_d5cfac853f4d4e738d4e84aa2c023109%20%3D%20L.popup%28%7B%22maxWidth%22%3A%20%22100%25%22%7D%29%3B%0A%0A%20%20%20%20%20%20%20%20%0A%20%20%20%20%20%20%20%20%20%20%20%20var%20html_91263898df3549abb5592fd281329a74%20%3D%20%24%28%60%3Cdiv%20id%3D%22html_91263898df3549abb5592fd281329a74%22%20style%3D%22width%3A%20100.0%25%3B%20height%3A%20100.0%25%3B%22%3E0%20%20%20%20%20%20%20%20%20East%20Toronto%201%20%20%20%20%20%20%20%20%20East%20Toronto%202%20%20%20%20%20%20%20%20%20East%20Toronto%203%20%20%20%20%20%20%20%20%20East%20Toronto%204%20%20%20%20%20%20Central%20Toronto%205%20%20%20%20%20%20Central%20Toronto%206%20%20%20%20%20%20Central%20Toronto%207%20%20%20%20%20%20Central%20Toronto%208%20%20%20%20%20%20Central%20Toronto%209%20%20%20%20%20%20Central%20Toronto%2010%20%20%20%20Downtown%20Toronto%2011%20%20%20%20Downtown%20Toronto%2012%20%20%20%20Downtown%20Toronto%2013%20%20%20%20Downtown%20Toronto%2014%20%20%20%20Downtown%20Toronto%2015%20%20%20%20Downtown%20Toronto%2016%20%20%20%20Downtown%20Toronto%2017%20%20%20%20Downtown%20Toronto%2018%20%20%20%20Downtown%20Toronto%2019%20%20%20%20Downtown%20Toronto%2020%20%20%20%20Downtown%20Toronto%2021%20%20%20%20Downtown%20Toronto%2022%20%20%20%20%20Central%20Toronto%2023%20%20%20%20%20Central%20Toronto%2024%20%20%20%20%20Central%20Toronto%2025%20%20%20%20Downtown%20Toronto%2026%20%20%20%20Downtown%20Toronto%2027%20%20%20%20Downtown%20Toronto%2028%20%20%20%20Downtown%20Toronto%2029%20%20%20%20Downtown%20Toronto%2030%20%20%20%20Downtown%20Toronto%2031%20%20%20%20%20%20%20%20West%20Toronto%2032%20%20%20%20%20%20%20%20West%20Toronto%2033%20%20%20%20%20%20%20%20West%20Toronto%2034%20%20%20%20%20%20%20%20West%20Toronto%2035%20%20%20%20%20%20%20%20West%20Toronto%2036%20%20%20%20%20%20%20%20West%20Toronto%2037%20%20%20%20%20%20%20%20East%20Toronto%20Name%3A%20Borough%2C%20dtype%3A%20object%20Cluster%201%3C/div%3E%60%29%5B0%5D%3B%0A%20%20%20%20%20%20%20%20%20%20%20%20popup_d5cfac853f4d4e738d4e84aa2c023109.setContent%28html_91263898df3549abb5592fd281329a74%29%3B%0A%20%20%20%20%20%20%20%20%0A%0A%20%20%20%20%20%20%20%20circle_marker_7eaf89560f794d27a8af6bf8755b2091.bindPopup%28popup_d5cfac853f4d4e738d4e84aa2c023109%29%0A%20%20%20%20%20%20%20%20%3B%0A%0A%20%20%20%20%20%20%20%20%0A%20%20%20%20%0A%20%20%20%20%0A%20%20%20%20%20%20%20%20%20%20%20%20var%20circle_marker_30d42d443a884e37b615bfc6242d523e%20%3D%20L.circleMarker%28%0A%20%20%20%20%20%20%20%20%20%20%20%20%20%20%20%20%5B43.667967%2C%20-79.3676753%5D%2C%0A%20%20%20%20%20%20%20%20%20%20%20%20%20%20%20%20%7B%22bubblingMouseEvents%22%3A%20true%2C%20%22color%22%3A%20%22%238000ff%22%2C%20%22dashArray%22%3A%20null%2C%20%22dashOffset%22%3A%20null%2C%20%22fill%22%3A%20true%2C%20%22fillColor%22%3A%20%22%238000ff%22%2C%20%22fillOpacity%22%3A%200.7%2C%20%22fillRule%22%3A%20%22evenodd%22%2C%20%22lineCap%22%3A%20%22round%22%2C%20%22lineJoin%22%3A%20%22round%22%2C%20%22opacity%22%3A%201.0%2C%20%22radius%22%3A%205%2C%20%22stroke%22%3A%20true%2C%20%22weight%22%3A%203%7D%0A%20%20%20%20%20%20%20%20%20%20%20%20%29.addTo%28map_48572ab121b2452292d0c49358e7f21b%29%3B%0A%20%20%20%20%20%20%20%20%0A%20%20%20%20%0A%20%20%20%20%20%20%20%20var%20popup_07aceb2aac48455a8b758fad7c2cafc3%20%3D%20L.popup%28%7B%22maxWidth%22%3A%20%22100%25%22%7D%29%3B%0A%0A%20%20%20%20%20%20%20%20%0A%20%20%20%20%20%20%20%20%20%20%20%20var%20html_e95ad755f5744448bfa91d2136a579bb%20%3D%20%24%28%60%3Cdiv%20id%3D%22html_e95ad755f5744448bfa91d2136a579bb%22%20style%3D%22width%3A%20100.0%25%3B%20height%3A%20100.0%25%3B%22%3E0%20%20%20%20%20%20%20%20%20East%20Toronto%201%20%20%20%20%20%20%20%20%20East%20Toronto%202%20%20%20%20%20%20%20%20%20East%20Toronto%203%20%20%20%20%20%20%20%20%20East%20Toronto%204%20%20%20%20%20%20Central%20Toronto%205%20%20%20%20%20%20Central%20Toronto%206%20%20%20%20%20%20Central%20Toronto%207%20%20%20%20%20%20Central%20Toronto%208%20%20%20%20%20%20Central%20Toronto%209%20%20%20%20%20%20Central%20Toronto%2010%20%20%20%20Downtown%20Toronto%2011%20%20%20%20Downtown%20Toronto%2012%20%20%20%20Downtown%20Toronto%2013%20%20%20%20Downtown%20Toronto%2014%20%20%20%20Downtown%20Toronto%2015%20%20%20%20Downtown%20Toronto%2016%20%20%20%20Downtown%20Toronto%2017%20%20%20%20Downtown%20Toronto%2018%20%20%20%20Downtown%20Toronto%2019%20%20%20%20Downtown%20Toronto%2020%20%20%20%20Downtown%20Toronto%2021%20%20%20%20Downtown%20Toronto%2022%20%20%20%20%20Central%20Toronto%2023%20%20%20%20%20Central%20Toronto%2024%20%20%20%20%20Central%20Toronto%2025%20%20%20%20Downtown%20Toronto%2026%20%20%20%20Downtown%20Toronto%2027%20%20%20%20Downtown%20Toronto%2028%20%20%20%20Downtown%20Toronto%2029%20%20%20%20Downtown%20Toronto%2030%20%20%20%20Downtown%20Toronto%2031%20%20%20%20%20%20%20%20West%20Toronto%2032%20%20%20%20%20%20%20%20West%20Toronto%2033%20%20%20%20%20%20%20%20West%20Toronto%2034%20%20%20%20%20%20%20%20West%20Toronto%2035%20%20%20%20%20%20%20%20West%20Toronto%2036%20%20%20%20%20%20%20%20West%20Toronto%2037%20%20%20%20%20%20%20%20East%20Toronto%20Name%3A%20Borough%2C%20dtype%3A%20object%20Cluster%201%3C/div%3E%60%29%5B0%5D%3B%0A%20%20%20%20%20%20%20%20%20%20%20%20popup_07aceb2aac48455a8b758fad7c2cafc3.setContent%28html_e95ad755f5744448bfa91d2136a579bb%29%3B%0A%20%20%20%20%20%20%20%20%0A%0A%20%20%20%20%20%20%20%20circle_marker_30d42d443a884e37b615bfc6242d523e.bindPopup%28popup_07aceb2aac48455a8b758fad7c2cafc3%29%0A%20%20%20%20%20%20%20%20%3B%0A%0A%20%20%20%20%20%20%20%20%0A%20%20%20%20%0A%20%20%20%20%0A%20%20%20%20%20%20%20%20%20%20%20%20var%20circle_marker_8cec054373a9458a8981428ed5e7fe90%20%3D%20L.circleMarker%28%0A%20%20%20%20%20%20%20%20%20%20%20%20%20%20%20%20%5B43.6658599%2C%20-79.38315990000002%5D%2C%0A%20%20%20%20%20%20%20%20%20%20%20%20%20%20%20%20%7B%22bubblingMouseEvents%22%3A%20true%2C%20%22color%22%3A%20%22%238000ff%22%2C%20%22dashArray%22%3A%20null%2C%20%22dashOffset%22%3A%20null%2C%20%22fill%22%3A%20true%2C%20%22fillColor%22%3A%20%22%238000ff%22%2C%20%22fillOpacity%22%3A%200.7%2C%20%22fillRule%22%3A%20%22evenodd%22%2C%20%22lineCap%22%3A%20%22round%22%2C%20%22lineJoin%22%3A%20%22round%22%2C%20%22opacity%22%3A%201.0%2C%20%22radius%22%3A%205%2C%20%22stroke%22%3A%20true%2C%20%22weight%22%3A%203%7D%0A%20%20%20%20%20%20%20%20%20%20%20%20%29.addTo%28map_48572ab121b2452292d0c49358e7f21b%29%3B%0A%20%20%20%20%20%20%20%20%0A%20%20%20%20%0A%20%20%20%20%20%20%20%20var%20popup_e23b710834cd43889e3dcee817337c9c%20%3D%20L.popup%28%7B%22maxWidth%22%3A%20%22100%25%22%7D%29%3B%0A%0A%20%20%20%20%20%20%20%20%0A%20%20%20%20%20%20%20%20%20%20%20%20var%20html_ee2a91c46b4f4d5fae36ac0a34bb040e%20%3D%20%24%28%60%3Cdiv%20id%3D%22html_ee2a91c46b4f4d5fae36ac0a34bb040e%22%20style%3D%22width%3A%20100.0%25%3B%20height%3A%20100.0%25%3B%22%3E0%20%20%20%20%20%20%20%20%20East%20Toronto%201%20%20%20%20%20%20%20%20%20East%20Toronto%202%20%20%20%20%20%20%20%20%20East%20Toronto%203%20%20%20%20%20%20%20%20%20East%20Toronto%204%20%20%20%20%20%20Central%20Toronto%205%20%20%20%20%20%20Central%20Toronto%206%20%20%20%20%20%20Central%20Toronto%207%20%20%20%20%20%20Central%20Toronto%208%20%20%20%20%20%20Central%20Toronto%209%20%20%20%20%20%20Central%20Toronto%2010%20%20%20%20Downtown%20Toronto%2011%20%20%20%20Downtown%20Toronto%2012%20%20%20%20Downtown%20Toronto%2013%20%20%20%20Downtown%20Toronto%2014%20%20%20%20Downtown%20Toronto%2015%20%20%20%20Downtown%20Toronto%2016%20%20%20%20Downtown%20Toronto%2017%20%20%20%20Downtown%20Toronto%2018%20%20%20%20Downtown%20Toronto%2019%20%20%20%20Downtown%20Toronto%2020%20%20%20%20Downtown%20Toronto%2021%20%20%20%20Downtown%20Toronto%2022%20%20%20%20%20Central%20Toronto%2023%20%20%20%20%20Central%20Toronto%2024%20%20%20%20%20Central%20Toronto%2025%20%20%20%20Downtown%20Toronto%2026%20%20%20%20Downtown%20Toronto%2027%20%20%20%20Downtown%20Toronto%2028%20%20%20%20Downtown%20Toronto%2029%20%20%20%20Downtown%20Toronto%2030%20%20%20%20Downtown%20Toronto%2031%20%20%20%20%20%20%20%20West%20Toronto%2032%20%20%20%20%20%20%20%20West%20Toronto%2033%20%20%20%20%20%20%20%20West%20Toronto%2034%20%20%20%20%20%20%20%20West%20Toronto%2035%20%20%20%20%20%20%20%20West%20Toronto%2036%20%20%20%20%20%20%20%20West%20Toronto%2037%20%20%20%20%20%20%20%20East%20Toronto%20Name%3A%20Borough%2C%20dtype%3A%20object%20Cluster%201%3C/div%3E%60%29%5B0%5D%3B%0A%20%20%20%20%20%20%20%20%20%20%20%20popup_e23b710834cd43889e3dcee817337c9c.setContent%28html_ee2a91c46b4f4d5fae36ac0a34bb040e%29%3B%0A%20%20%20%20%20%20%20%20%0A%0A%20%20%20%20%20%20%20%20circle_marker_8cec054373a9458a8981428ed5e7fe90.bindPopup%28popup_e23b710834cd43889e3dcee817337c9c%29%0A%20%20%20%20%20%20%20%20%3B%0A%0A%20%20%20%20%20%20%20%20%0A%20%20%20%20%0A%20%20%20%20%0A%20%20%20%20%20%20%20%20%20%20%20%20var%20circle_marker_91d9268216c249598dba34482d499ce4%20%3D%20L.circleMarker%28%0A%20%20%20%20%20%20%20%20%20%20%20%20%20%20%20%20%5B43.6542599%2C%20-79.3606359%5D%2C%0A%20%20%20%20%20%20%20%20%20%20%20%20%20%20%20%20%7B%22bubblingMouseEvents%22%3A%20true%2C%20%22color%22%3A%20%22%238000ff%22%2C%20%22dashArray%22%3A%20null%2C%20%22dashOffset%22%3A%20null%2C%20%22fill%22%3A%20true%2C%20%22fillColor%22%3A%20%22%238000ff%22%2C%20%22fillOpacity%22%3A%200.7%2C%20%22fillRule%22%3A%20%22evenodd%22%2C%20%22lineCap%22%3A%20%22round%22%2C%20%22lineJoin%22%3A%20%22round%22%2C%20%22opacity%22%3A%201.0%2C%20%22radius%22%3A%205%2C%20%22stroke%22%3A%20true%2C%20%22weight%22%3A%203%7D%0A%20%20%20%20%20%20%20%20%20%20%20%20%29.addTo%28map_48572ab121b2452292d0c49358e7f21b%29%3B%0A%20%20%20%20%20%20%20%20%0A%20%20%20%20%0A%20%20%20%20%20%20%20%20var%20popup_c1c2f359be9c43c8b162d83f940ff0ab%20%3D%20L.popup%28%7B%22maxWidth%22%3A%20%22100%25%22%7D%29%3B%0A%0A%20%20%20%20%20%20%20%20%0A%20%20%20%20%20%20%20%20%20%20%20%20var%20html_11c058d1780444c7a77c296658aba348%20%3D%20%24%28%60%3Cdiv%20id%3D%22html_11c058d1780444c7a77c296658aba348%22%20style%3D%22width%3A%20100.0%25%3B%20height%3A%20100.0%25%3B%22%3E0%20%20%20%20%20%20%20%20%20East%20Toronto%201%20%20%20%20%20%20%20%20%20East%20Toronto%202%20%20%20%20%20%20%20%20%20East%20Toronto%203%20%20%20%20%20%20%20%20%20East%20Toronto%204%20%20%20%20%20%20Central%20Toronto%205%20%20%20%20%20%20Central%20Toronto%206%20%20%20%20%20%20Central%20Toronto%207%20%20%20%20%20%20Central%20Toronto%208%20%20%20%20%20%20Central%20Toronto%209%20%20%20%20%20%20Central%20Toronto%2010%20%20%20%20Downtown%20Toronto%2011%20%20%20%20Downtown%20Toronto%2012%20%20%20%20Downtown%20Toronto%2013%20%20%20%20Downtown%20Toronto%2014%20%20%20%20Downtown%20Toronto%2015%20%20%20%20Downtown%20Toronto%2016%20%20%20%20Downtown%20Toronto%2017%20%20%20%20Downtown%20Toronto%2018%20%20%20%20Downtown%20Toronto%2019%20%20%20%20Downtown%20Toronto%2020%20%20%20%20Downtown%20Toronto%2021%20%20%20%20Downtown%20Toronto%2022%20%20%20%20%20Central%20Toronto%2023%20%20%20%20%20Central%20Toronto%2024%20%20%20%20%20Central%20Toronto%2025%20%20%20%20Downtown%20Toronto%2026%20%20%20%20Downtown%20Toronto%2027%20%20%20%20Downtown%20Toronto%2028%20%20%20%20Downtown%20Toronto%2029%20%20%20%20Downtown%20Toronto%2030%20%20%20%20Downtown%20Toronto%2031%20%20%20%20%20%20%20%20West%20Toronto%2032%20%20%20%20%20%20%20%20West%20Toronto%2033%20%20%20%20%20%20%20%20West%20Toronto%2034%20%20%20%20%20%20%20%20West%20Toronto%2035%20%20%20%20%20%20%20%20West%20Toronto%2036%20%20%20%20%20%20%20%20West%20Toronto%2037%20%20%20%20%20%20%20%20East%20Toronto%20Name%3A%20Borough%2C%20dtype%3A%20object%20Cluster%201%3C/div%3E%60%29%5B0%5D%3B%0A%20%20%20%20%20%20%20%20%20%20%20%20popup_c1c2f359be9c43c8b162d83f940ff0ab.setContent%28html_11c058d1780444c7a77c296658aba348%29%3B%0A%20%20%20%20%20%20%20%20%0A%0A%20%20%20%20%20%20%20%20circle_marker_91d9268216c249598dba34482d499ce4.bindPopup%28popup_c1c2f359be9c43c8b162d83f940ff0ab%29%0A%20%20%20%20%20%20%20%20%3B%0A%0A%20%20%20%20%20%20%20%20%0A%20%20%20%20%0A%20%20%20%20%0A%20%20%20%20%20%20%20%20%20%20%20%20var%20circle_marker_25aed3707c604493bc60d03bcbc23841%20%3D%20L.circleMarker%28%0A%20%20%20%20%20%20%20%20%20%20%20%20%20%20%20%20%5B43.6571618%2C%20-79.37893709999999%5D%2C%0A%20%20%20%20%20%20%20%20%20%20%20%20%20%20%20%20%7B%22bubblingMouseEvents%22%3A%20true%2C%20%22color%22%3A%20%22%238000ff%22%2C%20%22dashArray%22%3A%20null%2C%20%22dashOffset%22%3A%20null%2C%20%22fill%22%3A%20true%2C%20%22fillColor%22%3A%20%22%238000ff%22%2C%20%22fillOpacity%22%3A%200.7%2C%20%22fillRule%22%3A%20%22evenodd%22%2C%20%22lineCap%22%3A%20%22round%22%2C%20%22lineJoin%22%3A%20%22round%22%2C%20%22opacity%22%3A%201.0%2C%20%22radius%22%3A%205%2C%20%22stroke%22%3A%20true%2C%20%22weight%22%3A%203%7D%0A%20%20%20%20%20%20%20%20%20%20%20%20%29.addTo%28map_48572ab121b2452292d0c49358e7f21b%29%3B%0A%20%20%20%20%20%20%20%20%0A%20%20%20%20%0A%20%20%20%20%20%20%20%20var%20popup_84fbea82d81b4e4099dd8fbcaeaf82f0%20%3D%20L.popup%28%7B%22maxWidth%22%3A%20%22100%25%22%7D%29%3B%0A%0A%20%20%20%20%20%20%20%20%0A%20%20%20%20%20%20%20%20%20%20%20%20var%20html_215c20c411144893b9d5939d243e2560%20%3D%20%24%28%60%3Cdiv%20id%3D%22html_215c20c411144893b9d5939d243e2560%22%20style%3D%22width%3A%20100.0%25%3B%20height%3A%20100.0%25%3B%22%3E0%20%20%20%20%20%20%20%20%20East%20Toronto%201%20%20%20%20%20%20%20%20%20East%20Toronto%202%20%20%20%20%20%20%20%20%20East%20Toronto%203%20%20%20%20%20%20%20%20%20East%20Toronto%204%20%20%20%20%20%20Central%20Toronto%205%20%20%20%20%20%20Central%20Toronto%206%20%20%20%20%20%20Central%20Toronto%207%20%20%20%20%20%20Central%20Toronto%208%20%20%20%20%20%20Central%20Toronto%209%20%20%20%20%20%20Central%20Toronto%2010%20%20%20%20Downtown%20Toronto%2011%20%20%20%20Downtown%20Toronto%2012%20%20%20%20Downtown%20Toronto%2013%20%20%20%20Downtown%20Toronto%2014%20%20%20%20Downtown%20Toronto%2015%20%20%20%20Downtown%20Toronto%2016%20%20%20%20Downtown%20Toronto%2017%20%20%20%20Downtown%20Toronto%2018%20%20%20%20Downtown%20Toronto%2019%20%20%20%20Downtown%20Toronto%2020%20%20%20%20Downtown%20Toronto%2021%20%20%20%20Downtown%20Toronto%2022%20%20%20%20%20Central%20Toronto%2023%20%20%20%20%20Central%20Toronto%2024%20%20%20%20%20Central%20Toronto%2025%20%20%20%20Downtown%20Toronto%2026%20%20%20%20Downtown%20Toronto%2027%20%20%20%20Downtown%20Toronto%2028%20%20%20%20Downtown%20Toronto%2029%20%20%20%20Downtown%20Toronto%2030%20%20%20%20Downtown%20Toronto%2031%20%20%20%20%20%20%20%20West%20Toronto%2032%20%20%20%20%20%20%20%20West%20Toronto%2033%20%20%20%20%20%20%20%20West%20Toronto%2034%20%20%20%20%20%20%20%20West%20Toronto%2035%20%20%20%20%20%20%20%20West%20Toronto%2036%20%20%20%20%20%20%20%20West%20Toronto%2037%20%20%20%20%20%20%20%20East%20Toronto%20Name%3A%20Borough%2C%20dtype%3A%20object%20Cluster%201%3C/div%3E%60%29%5B0%5D%3B%0A%20%20%20%20%20%20%20%20%20%20%20%20popup_84fbea82d81b4e4099dd8fbcaeaf82f0.setContent%28html_215c20c411144893b9d5939d243e2560%29%3B%0A%20%20%20%20%20%20%20%20%0A%0A%20%20%20%20%20%20%20%20circle_marker_25aed3707c604493bc60d03bcbc23841.bindPopup%28popup_84fbea82d81b4e4099dd8fbcaeaf82f0%29%0A%20%20%20%20%20%20%20%20%3B%0A%0A%20%20%20%20%20%20%20%20%0A%20%20%20%20%0A%20%20%20%20%0A%20%20%20%20%20%20%20%20%20%20%20%20var%20circle_marker_6484cb1b72d74696900dfaa0abf6e92b%20%3D%20L.circleMarker%28%0A%20%20%20%20%20%20%20%20%20%20%20%20%20%20%20%20%5B43.6514939%2C%20-79.3754179%5D%2C%0A%20%20%20%20%20%20%20%20%20%20%20%20%20%20%20%20%7B%22bubblingMouseEvents%22%3A%20true%2C%20%22color%22%3A%20%22%238000ff%22%2C%20%22dashArray%22%3A%20null%2C%20%22dashOffset%22%3A%20null%2C%20%22fill%22%3A%20true%2C%20%22fillColor%22%3A%20%22%238000ff%22%2C%20%22fillOpacity%22%3A%200.7%2C%20%22fillRule%22%3A%20%22evenodd%22%2C%20%22lineCap%22%3A%20%22round%22%2C%20%22lineJoin%22%3A%20%22round%22%2C%20%22opacity%22%3A%201.0%2C%20%22radius%22%3A%205%2C%20%22stroke%22%3A%20true%2C%20%22weight%22%3A%203%7D%0A%20%20%20%20%20%20%20%20%20%20%20%20%29.addTo%28map_48572ab121b2452292d0c49358e7f21b%29%3B%0A%20%20%20%20%20%20%20%20%0A%20%20%20%20%0A%20%20%20%20%20%20%20%20var%20popup_84070c5107c441b19cb56fb6a3b13150%20%3D%20L.popup%28%7B%22maxWidth%22%3A%20%22100%25%22%7D%29%3B%0A%0A%20%20%20%20%20%20%20%20%0A%20%20%20%20%20%20%20%20%20%20%20%20var%20html_0c0da4c166024622b4388e144c02e608%20%3D%20%24%28%60%3Cdiv%20id%3D%22html_0c0da4c166024622b4388e144c02e608%22%20style%3D%22width%3A%20100.0%25%3B%20height%3A%20100.0%25%3B%22%3E0%20%20%20%20%20%20%20%20%20East%20Toronto%201%20%20%20%20%20%20%20%20%20East%20Toronto%202%20%20%20%20%20%20%20%20%20East%20Toronto%203%20%20%20%20%20%20%20%20%20East%20Toronto%204%20%20%20%20%20%20Central%20Toronto%205%20%20%20%20%20%20Central%20Toronto%206%20%20%20%20%20%20Central%20Toronto%207%20%20%20%20%20%20Central%20Toronto%208%20%20%20%20%20%20Central%20Toronto%209%20%20%20%20%20%20Central%20Toronto%2010%20%20%20%20Downtown%20Toronto%2011%20%20%20%20Downtown%20Toronto%2012%20%20%20%20Downtown%20Toronto%2013%20%20%20%20Downtown%20Toronto%2014%20%20%20%20Downtown%20Toronto%2015%20%20%20%20Downtown%20Toronto%2016%20%20%20%20Downtown%20Toronto%2017%20%20%20%20Downtown%20Toronto%2018%20%20%20%20Downtown%20Toronto%2019%20%20%20%20Downtown%20Toronto%2020%20%20%20%20Downtown%20Toronto%2021%20%20%20%20Downtown%20Toronto%2022%20%20%20%20%20Central%20Toronto%2023%20%20%20%20%20Central%20Toronto%2024%20%20%20%20%20Central%20Toronto%2025%20%20%20%20Downtown%20Toronto%2026%20%20%20%20Downtown%20Toronto%2027%20%20%20%20Downtown%20Toronto%2028%20%20%20%20Downtown%20Toronto%2029%20%20%20%20Downtown%20Toronto%2030%20%20%20%20Downtown%20Toronto%2031%20%20%20%20%20%20%20%20West%20Toronto%2032%20%20%20%20%20%20%20%20West%20Toronto%2033%20%20%20%20%20%20%20%20West%20Toronto%2034%20%20%20%20%20%20%20%20West%20Toronto%2035%20%20%20%20%20%20%20%20West%20Toronto%2036%20%20%20%20%20%20%20%20West%20Toronto%2037%20%20%20%20%20%20%20%20East%20Toronto%20Name%3A%20Borough%2C%20dtype%3A%20object%20Cluster%201%3C/div%3E%60%29%5B0%5D%3B%0A%20%20%20%20%20%20%20%20%20%20%20%20popup_84070c5107c441b19cb56fb6a3b13150.setContent%28html_0c0da4c166024622b4388e144c02e608%29%3B%0A%20%20%20%20%20%20%20%20%0A%0A%20%20%20%20%20%20%20%20circle_marker_6484cb1b72d74696900dfaa0abf6e92b.bindPopup%28popup_84070c5107c441b19cb56fb6a3b13150%29%0A%20%20%20%20%20%20%20%20%3B%0A%0A%20%20%20%20%20%20%20%20%0A%20%20%20%20%0A%20%20%20%20%0A%20%20%20%20%20%20%20%20%20%20%20%20var%20circle_marker_5befea07d004444a857d1bfc40323c9f%20%3D%20L.circleMarker%28%0A%20%20%20%20%20%20%20%20%20%20%20%20%20%20%20%20%5B43.6447708%2C%20-79.3733064%5D%2C%0A%20%20%20%20%20%20%20%20%20%20%20%20%20%20%20%20%7B%22bubblingMouseEvents%22%3A%20true%2C%20%22color%22%3A%20%22%238000ff%22%2C%20%22dashArray%22%3A%20null%2C%20%22dashOffset%22%3A%20null%2C%20%22fill%22%3A%20true%2C%20%22fillColor%22%3A%20%22%238000ff%22%2C%20%22fillOpacity%22%3A%200.7%2C%20%22fillRule%22%3A%20%22evenodd%22%2C%20%22lineCap%22%3A%20%22round%22%2C%20%22lineJoin%22%3A%20%22round%22%2C%20%22opacity%22%3A%201.0%2C%20%22radius%22%3A%205%2C%20%22stroke%22%3A%20true%2C%20%22weight%22%3A%203%7D%0A%20%20%20%20%20%20%20%20%20%20%20%20%29.addTo%28map_48572ab121b2452292d0c49358e7f21b%29%3B%0A%20%20%20%20%20%20%20%20%0A%20%20%20%20%0A%20%20%20%20%20%20%20%20var%20popup_b34eeaa1598b4fa394f74b12e8f6d876%20%3D%20L.popup%28%7B%22maxWidth%22%3A%20%22100%25%22%7D%29%3B%0A%0A%20%20%20%20%20%20%20%20%0A%20%20%20%20%20%20%20%20%20%20%20%20var%20html_ba7f450dba784692b3591c927724c345%20%3D%20%24%28%60%3Cdiv%20id%3D%22html_ba7f450dba784692b3591c927724c345%22%20style%3D%22width%3A%20100.0%25%3B%20height%3A%20100.0%25%3B%22%3E0%20%20%20%20%20%20%20%20%20East%20Toronto%201%20%20%20%20%20%20%20%20%20East%20Toronto%202%20%20%20%20%20%20%20%20%20East%20Toronto%203%20%20%20%20%20%20%20%20%20East%20Toronto%204%20%20%20%20%20%20Central%20Toronto%205%20%20%20%20%20%20Central%20Toronto%206%20%20%20%20%20%20Central%20Toronto%207%20%20%20%20%20%20Central%20Toronto%208%20%20%20%20%20%20Central%20Toronto%209%20%20%20%20%20%20Central%20Toronto%2010%20%20%20%20Downtown%20Toronto%2011%20%20%20%20Downtown%20Toronto%2012%20%20%20%20Downtown%20Toronto%2013%20%20%20%20Downtown%20Toronto%2014%20%20%20%20Downtown%20Toronto%2015%20%20%20%20Downtown%20Toronto%2016%20%20%20%20Downtown%20Toronto%2017%20%20%20%20Downtown%20Toronto%2018%20%20%20%20Downtown%20Toronto%2019%20%20%20%20Downtown%20Toronto%2020%20%20%20%20Downtown%20Toronto%2021%20%20%20%20Downtown%20Toronto%2022%20%20%20%20%20Central%20Toronto%2023%20%20%20%20%20Central%20Toronto%2024%20%20%20%20%20Central%20Toronto%2025%20%20%20%20Downtown%20Toronto%2026%20%20%20%20Downtown%20Toronto%2027%20%20%20%20Downtown%20Toronto%2028%20%20%20%20Downtown%20Toronto%2029%20%20%20%20Downtown%20Toronto%2030%20%20%20%20Downtown%20Toronto%2031%20%20%20%20%20%20%20%20West%20Toronto%2032%20%20%20%20%20%20%20%20West%20Toronto%2033%20%20%20%20%20%20%20%20West%20Toronto%2034%20%20%20%20%20%20%20%20West%20Toronto%2035%20%20%20%20%20%20%20%20West%20Toronto%2036%20%20%20%20%20%20%20%20West%20Toronto%2037%20%20%20%20%20%20%20%20East%20Toronto%20Name%3A%20Borough%2C%20dtype%3A%20object%20Cluster%201%3C/div%3E%60%29%5B0%5D%3B%0A%20%20%20%20%20%20%20%20%20%20%20%20popup_b34eeaa1598b4fa394f74b12e8f6d876.setContent%28html_ba7f450dba784692b3591c927724c345%29%3B%0A%20%20%20%20%20%20%20%20%0A%0A%20%20%20%20%20%20%20%20circle_marker_5befea07d004444a857d1bfc40323c9f.bindPopup%28popup_b34eeaa1598b4fa394f74b12e8f6d876%29%0A%20%20%20%20%20%20%20%20%3B%0A%0A%20%20%20%20%20%20%20%20%0A%20%20%20%20%0A%20%20%20%20%0A%20%20%20%20%20%20%20%20%20%20%20%20var%20circle_marker_2f0ee23ac84b41e69ad59bca4d528b73%20%3D%20L.circleMarker%28%0A%20%20%20%20%20%20%20%20%20%20%20%20%20%20%20%20%5B43.6579524%2C%20-79.3873826%5D%2C%0A%20%20%20%20%20%20%20%20%20%20%20%20%20%20%20%20%7B%22bubblingMouseEvents%22%3A%20true%2C%20%22color%22%3A%20%22%238000ff%22%2C%20%22dashArray%22%3A%20null%2C%20%22dashOffset%22%3A%20null%2C%20%22fill%22%3A%20true%2C%20%22fillColor%22%3A%20%22%238000ff%22%2C%20%22fillOpacity%22%3A%200.7%2C%20%22fillRule%22%3A%20%22evenodd%22%2C%20%22lineCap%22%3A%20%22round%22%2C%20%22lineJoin%22%3A%20%22round%22%2C%20%22opacity%22%3A%201.0%2C%20%22radius%22%3A%205%2C%20%22stroke%22%3A%20true%2C%20%22weight%22%3A%203%7D%0A%20%20%20%20%20%20%20%20%20%20%20%20%29.addTo%28map_48572ab121b2452292d0c49358e7f21b%29%3B%0A%20%20%20%20%20%20%20%20%0A%20%20%20%20%0A%20%20%20%20%20%20%20%20var%20popup_18b03c0b18f6474fac79fd79eebfa679%20%3D%20L.popup%28%7B%22maxWidth%22%3A%20%22100%25%22%7D%29%3B%0A%0A%20%20%20%20%20%20%20%20%0A%20%20%20%20%20%20%20%20%20%20%20%20var%20html_ce64ab2e62384420ac9724e7e4ab31b1%20%3D%20%24%28%60%3Cdiv%20id%3D%22html_ce64ab2e62384420ac9724e7e4ab31b1%22%20style%3D%22width%3A%20100.0%25%3B%20height%3A%20100.0%25%3B%22%3E0%20%20%20%20%20%20%20%20%20East%20Toronto%201%20%20%20%20%20%20%20%20%20East%20Toronto%202%20%20%20%20%20%20%20%20%20East%20Toronto%203%20%20%20%20%20%20%20%20%20East%20Toronto%204%20%20%20%20%20%20Central%20Toronto%205%20%20%20%20%20%20Central%20Toronto%206%20%20%20%20%20%20Central%20Toronto%207%20%20%20%20%20%20Central%20Toronto%208%20%20%20%20%20%20Central%20Toronto%209%20%20%20%20%20%20Central%20Toronto%2010%20%20%20%20Downtown%20Toronto%2011%20%20%20%20Downtown%20Toronto%2012%20%20%20%20Downtown%20Toronto%2013%20%20%20%20Downtown%20Toronto%2014%20%20%20%20Downtown%20Toronto%2015%20%20%20%20Downtown%20Toronto%2016%20%20%20%20Downtown%20Toronto%2017%20%20%20%20Downtown%20Toronto%2018%20%20%20%20Downtown%20Toronto%2019%20%20%20%20Downtown%20Toronto%2020%20%20%20%20Downtown%20Toronto%2021%20%20%20%20Downtown%20Toronto%2022%20%20%20%20%20Central%20Toronto%2023%20%20%20%20%20Central%20Toronto%2024%20%20%20%20%20Central%20Toronto%2025%20%20%20%20Downtown%20Toronto%2026%20%20%20%20Downtown%20Toronto%2027%20%20%20%20Downtown%20Toronto%2028%20%20%20%20Downtown%20Toronto%2029%20%20%20%20Downtown%20Toronto%2030%20%20%20%20Downtown%20Toronto%2031%20%20%20%20%20%20%20%20West%20Toronto%2032%20%20%20%20%20%20%20%20West%20Toronto%2033%20%20%20%20%20%20%20%20West%20Toronto%2034%20%20%20%20%20%20%20%20West%20Toronto%2035%20%20%20%20%20%20%20%20West%20Toronto%2036%20%20%20%20%20%20%20%20West%20Toronto%2037%20%20%20%20%20%20%20%20East%20Toronto%20Name%3A%20Borough%2C%20dtype%3A%20object%20Cluster%201%3C/div%3E%60%29%5B0%5D%3B%0A%20%20%20%20%20%20%20%20%20%20%20%20popup_18b03c0b18f6474fac79fd79eebfa679.setContent%28html_ce64ab2e62384420ac9724e7e4ab31b1%29%3B%0A%20%20%20%20%20%20%20%20%0A%0A%20%20%20%20%20%20%20%20circle_marker_2f0ee23ac84b41e69ad59bca4d528b73.bindPopup%28popup_18b03c0b18f6474fac79fd79eebfa679%29%0A%20%20%20%20%20%20%20%20%3B%0A%0A%20%20%20%20%20%20%20%20%0A%20%20%20%20%0A%20%20%20%20%0A%20%20%20%20%20%20%20%20%20%20%20%20var%20circle_marker_493b7a76326d48379459bf8395cc08fd%20%3D%20L.circleMarker%28%0A%20%20%20%20%20%20%20%20%20%20%20%20%20%20%20%20%5B43.65057120000001%2C%20-79.3845675%5D%2C%0A%20%20%20%20%20%20%20%20%20%20%20%20%20%20%20%20%7B%22bubblingMouseEvents%22%3A%20true%2C%20%22color%22%3A%20%22%238000ff%22%2C%20%22dashArray%22%3A%20null%2C%20%22dashOffset%22%3A%20null%2C%20%22fill%22%3A%20true%2C%20%22fillColor%22%3A%20%22%238000ff%22%2C%20%22fillOpacity%22%3A%200.7%2C%20%22fillRule%22%3A%20%22evenodd%22%2C%20%22lineCap%22%3A%20%22round%22%2C%20%22lineJoin%22%3A%20%22round%22%2C%20%22opacity%22%3A%201.0%2C%20%22radius%22%3A%205%2C%20%22stroke%22%3A%20true%2C%20%22weight%22%3A%203%7D%0A%20%20%20%20%20%20%20%20%20%20%20%20%29.addTo%28map_48572ab121b2452292d0c49358e7f21b%29%3B%0A%20%20%20%20%20%20%20%20%0A%20%20%20%20%0A%20%20%20%20%20%20%20%20var%20popup_f88790a82baf46a99a104b626da1ce0b%20%3D%20L.popup%28%7B%22maxWidth%22%3A%20%22100%25%22%7D%29%3B%0A%0A%20%20%20%20%20%20%20%20%0A%20%20%20%20%20%20%20%20%20%20%20%20var%20html_44376f652dcd469487099635420a0efc%20%3D%20%24%28%60%3Cdiv%20id%3D%22html_44376f652dcd469487099635420a0efc%22%20style%3D%22width%3A%20100.0%25%3B%20height%3A%20100.0%25%3B%22%3E0%20%20%20%20%20%20%20%20%20East%20Toronto%201%20%20%20%20%20%20%20%20%20East%20Toronto%202%20%20%20%20%20%20%20%20%20East%20Toronto%203%20%20%20%20%20%20%20%20%20East%20Toronto%204%20%20%20%20%20%20Central%20Toronto%205%20%20%20%20%20%20Central%20Toronto%206%20%20%20%20%20%20Central%20Toronto%207%20%20%20%20%20%20Central%20Toronto%208%20%20%20%20%20%20Central%20Toronto%209%20%20%20%20%20%20Central%20Toronto%2010%20%20%20%20Downtown%20Toronto%2011%20%20%20%20Downtown%20Toronto%2012%20%20%20%20Downtown%20Toronto%2013%20%20%20%20Downtown%20Toronto%2014%20%20%20%20Downtown%20Toronto%2015%20%20%20%20Downtown%20Toronto%2016%20%20%20%20Downtown%20Toronto%2017%20%20%20%20Downtown%20Toronto%2018%20%20%20%20Downtown%20Toronto%2019%20%20%20%20Downtown%20Toronto%2020%20%20%20%20Downtown%20Toronto%2021%20%20%20%20Downtown%20Toronto%2022%20%20%20%20%20Central%20Toronto%2023%20%20%20%20%20Central%20Toronto%2024%20%20%20%20%20Central%20Toronto%2025%20%20%20%20Downtown%20Toronto%2026%20%20%20%20Downtown%20Toronto%2027%20%20%20%20Downtown%20Toronto%2028%20%20%20%20Downtown%20Toronto%2029%20%20%20%20Downtown%20Toronto%2030%20%20%20%20Downtown%20Toronto%2031%20%20%20%20%20%20%20%20West%20Toronto%2032%20%20%20%20%20%20%20%20West%20Toronto%2033%20%20%20%20%20%20%20%20West%20Toronto%2034%20%20%20%20%20%20%20%20West%20Toronto%2035%20%20%20%20%20%20%20%20West%20Toronto%2036%20%20%20%20%20%20%20%20West%20Toronto%2037%20%20%20%20%20%20%20%20East%20Toronto%20Name%3A%20Borough%2C%20dtype%3A%20object%20Cluster%201%3C/div%3E%60%29%5B0%5D%3B%0A%20%20%20%20%20%20%20%20%20%20%20%20popup_f88790a82baf46a99a104b626da1ce0b.setContent%28html_44376f652dcd469487099635420a0efc%29%3B%0A%20%20%20%20%20%20%20%20%0A%0A%20%20%20%20%20%20%20%20circle_marker_493b7a76326d48379459bf8395cc08fd.bindPopup%28popup_f88790a82baf46a99a104b626da1ce0b%29%0A%20%20%20%20%20%20%20%20%3B%0A%0A%20%20%20%20%20%20%20%20%0A%20%20%20%20%0A%20%20%20%20%0A%20%20%20%20%20%20%20%20%20%20%20%20var%20circle_marker_12903948463745aebda8dde79629dfc2%20%3D%20L.circleMarker%28%0A%20%20%20%20%20%20%20%20%20%20%20%20%20%20%20%20%5B43.6408157%2C%20-79.38175229999997%5D%2C%0A%20%20%20%20%20%20%20%20%20%20%20%20%20%20%20%20%7B%22bubblingMouseEvents%22%3A%20true%2C%20%22color%22%3A%20%22%238000ff%22%2C%20%22dashArray%22%3A%20null%2C%20%22dashOffset%22%3A%20null%2C%20%22fill%22%3A%20true%2C%20%22fillColor%22%3A%20%22%238000ff%22%2C%20%22fillOpacity%22%3A%200.7%2C%20%22fillRule%22%3A%20%22evenodd%22%2C%20%22lineCap%22%3A%20%22round%22%2C%20%22lineJoin%22%3A%20%22round%22%2C%20%22opacity%22%3A%201.0%2C%20%22radius%22%3A%205%2C%20%22stroke%22%3A%20true%2C%20%22weight%22%3A%203%7D%0A%20%20%20%20%20%20%20%20%20%20%20%20%29.addTo%28map_48572ab121b2452292d0c49358e7f21b%29%3B%0A%20%20%20%20%20%20%20%20%0A%20%20%20%20%0A%20%20%20%20%20%20%20%20var%20popup_ba1429209b0e4c09927ccee4e813f890%20%3D%20L.popup%28%7B%22maxWidth%22%3A%20%22100%25%22%7D%29%3B%0A%0A%20%20%20%20%20%20%20%20%0A%20%20%20%20%20%20%20%20%20%20%20%20var%20html_24012976da754097b6131fb8a428f7eb%20%3D%20%24%28%60%3Cdiv%20id%3D%22html_24012976da754097b6131fb8a428f7eb%22%20style%3D%22width%3A%20100.0%25%3B%20height%3A%20100.0%25%3B%22%3E0%20%20%20%20%20%20%20%20%20East%20Toronto%201%20%20%20%20%20%20%20%20%20East%20Toronto%202%20%20%20%20%20%20%20%20%20East%20Toronto%203%20%20%20%20%20%20%20%20%20East%20Toronto%204%20%20%20%20%20%20Central%20Toronto%205%20%20%20%20%20%20Central%20Toronto%206%20%20%20%20%20%20Central%20Toronto%207%20%20%20%20%20%20Central%20Toronto%208%20%20%20%20%20%20Central%20Toronto%209%20%20%20%20%20%20Central%20Toronto%2010%20%20%20%20Downtown%20Toronto%2011%20%20%20%20Downtown%20Toronto%2012%20%20%20%20Downtown%20Toronto%2013%20%20%20%20Downtown%20Toronto%2014%20%20%20%20Downtown%20Toronto%2015%20%20%20%20Downtown%20Toronto%2016%20%20%20%20Downtown%20Toronto%2017%20%20%20%20Downtown%20Toronto%2018%20%20%20%20Downtown%20Toronto%2019%20%20%20%20Downtown%20Toronto%2020%20%20%20%20Downtown%20Toronto%2021%20%20%20%20Downtown%20Toronto%2022%20%20%20%20%20Central%20Toronto%2023%20%20%20%20%20Central%20Toronto%2024%20%20%20%20%20Central%20Toronto%2025%20%20%20%20Downtown%20Toronto%2026%20%20%20%20Downtown%20Toronto%2027%20%20%20%20Downtown%20Toronto%2028%20%20%20%20Downtown%20Toronto%2029%20%20%20%20Downtown%20Toronto%2030%20%20%20%20Downtown%20Toronto%2031%20%20%20%20%20%20%20%20West%20Toronto%2032%20%20%20%20%20%20%20%20West%20Toronto%2033%20%20%20%20%20%20%20%20West%20Toronto%2034%20%20%20%20%20%20%20%20West%20Toronto%2035%20%20%20%20%20%20%20%20West%20Toronto%2036%20%20%20%20%20%20%20%20West%20Toronto%2037%20%20%20%20%20%20%20%20East%20Toronto%20Name%3A%20Borough%2C%20dtype%3A%20object%20Cluster%201%3C/div%3E%60%29%5B0%5D%3B%0A%20%20%20%20%20%20%20%20%20%20%20%20popup_ba1429209b0e4c09927ccee4e813f890.setContent%28html_24012976da754097b6131fb8a428f7eb%29%3B%0A%20%20%20%20%20%20%20%20%0A%0A%20%20%20%20%20%20%20%20circle_marker_12903948463745aebda8dde79629dfc2.bindPopup%28popup_ba1429209b0e4c09927ccee4e813f890%29%0A%20%20%20%20%20%20%20%20%3B%0A%0A%20%20%20%20%20%20%20%20%0A%20%20%20%20%0A%20%20%20%20%0A%20%20%20%20%20%20%20%20%20%20%20%20var%20circle_marker_7d700b49070c47d78c019ca7f5a02125%20%3D%20L.circleMarker%28%0A%20%20%20%20%20%20%20%20%20%20%20%20%20%20%20%20%5B43.6471768%2C%20-79.38157640000001%5D%2C%0A%20%20%20%20%20%20%20%20%20%20%20%20%20%20%20%20%7B%22bubblingMouseEvents%22%3A%20true%2C%20%22color%22%3A%20%22%238000ff%22%2C%20%22dashArray%22%3A%20null%2C%20%22dashOffset%22%3A%20null%2C%20%22fill%22%3A%20true%2C%20%22fillColor%22%3A%20%22%238000ff%22%2C%20%22fillOpacity%22%3A%200.7%2C%20%22fillRule%22%3A%20%22evenodd%22%2C%20%22lineCap%22%3A%20%22round%22%2C%20%22lineJoin%22%3A%20%22round%22%2C%20%22opacity%22%3A%201.0%2C%20%22radius%22%3A%205%2C%20%22stroke%22%3A%20true%2C%20%22weight%22%3A%203%7D%0A%20%20%20%20%20%20%20%20%20%20%20%20%29.addTo%28map_48572ab121b2452292d0c49358e7f21b%29%3B%0A%20%20%20%20%20%20%20%20%0A%20%20%20%20%0A%20%20%20%20%20%20%20%20var%20popup_462733fa08654936874431407c6592c1%20%3D%20L.popup%28%7B%22maxWidth%22%3A%20%22100%25%22%7D%29%3B%0A%0A%20%20%20%20%20%20%20%20%0A%20%20%20%20%20%20%20%20%20%20%20%20var%20html_3c7b14f1e331485cb568ea22fc609aa3%20%3D%20%24%28%60%3Cdiv%20id%3D%22html_3c7b14f1e331485cb568ea22fc609aa3%22%20style%3D%22width%3A%20100.0%25%3B%20height%3A%20100.0%25%3B%22%3E0%20%20%20%20%20%20%20%20%20East%20Toronto%201%20%20%20%20%20%20%20%20%20East%20Toronto%202%20%20%20%20%20%20%20%20%20East%20Toronto%203%20%20%20%20%20%20%20%20%20East%20Toronto%204%20%20%20%20%20%20Central%20Toronto%205%20%20%20%20%20%20Central%20Toronto%206%20%20%20%20%20%20Central%20Toronto%207%20%20%20%20%20%20Central%20Toronto%208%20%20%20%20%20%20Central%20Toronto%209%20%20%20%20%20%20Central%20Toronto%2010%20%20%20%20Downtown%20Toronto%2011%20%20%20%20Downtown%20Toronto%2012%20%20%20%20Downtown%20Toronto%2013%20%20%20%20Downtown%20Toronto%2014%20%20%20%20Downtown%20Toronto%2015%20%20%20%20Downtown%20Toronto%2016%20%20%20%20Downtown%20Toronto%2017%20%20%20%20Downtown%20Toronto%2018%20%20%20%20Downtown%20Toronto%2019%20%20%20%20Downtown%20Toronto%2020%20%20%20%20Downtown%20Toronto%2021%20%20%20%20Downtown%20Toronto%2022%20%20%20%20%20Central%20Toronto%2023%20%20%20%20%20Central%20Toronto%2024%20%20%20%20%20Central%20Toronto%2025%20%20%20%20Downtown%20Toronto%2026%20%20%20%20Downtown%20Toronto%2027%20%20%20%20Downtown%20Toronto%2028%20%20%20%20Downtown%20Toronto%2029%20%20%20%20Downtown%20Toronto%2030%20%20%20%20Downtown%20Toronto%2031%20%20%20%20%20%20%20%20West%20Toronto%2032%20%20%20%20%20%20%20%20West%20Toronto%2033%20%20%20%20%20%20%20%20West%20Toronto%2034%20%20%20%20%20%20%20%20West%20Toronto%2035%20%20%20%20%20%20%20%20West%20Toronto%2036%20%20%20%20%20%20%20%20West%20Toronto%2037%20%20%20%20%20%20%20%20East%20Toronto%20Name%3A%20Borough%2C%20dtype%3A%20object%20Cluster%201%3C/div%3E%60%29%5B0%5D%3B%0A%20%20%20%20%20%20%20%20%20%20%20%20popup_462733fa08654936874431407c6592c1.setContent%28html_3c7b14f1e331485cb568ea22fc609aa3%29%3B%0A%20%20%20%20%20%20%20%20%0A%0A%20%20%20%20%20%20%20%20circle_marker_7d700b49070c47d78c019ca7f5a02125.bindPopup%28popup_462733fa08654936874431407c6592c1%29%0A%20%20%20%20%20%20%20%20%3B%0A%0A%20%20%20%20%20%20%20%20%0A%20%20%20%20%0A%20%20%20%20%0A%20%20%20%20%20%20%20%20%20%20%20%20var%20circle_marker_e5342a42c9e745b7b670bca5728cea3d%20%3D%20L.circleMarker%28%0A%20%20%20%20%20%20%20%20%20%20%20%20%20%20%20%20%5B43.6481985%2C%20-79.37981690000002%5D%2C%0A%20%20%20%20%20%20%20%20%20%20%20%20%20%20%20%20%7B%22bubblingMouseEvents%22%3A%20true%2C%20%22color%22%3A%20%22%238000ff%22%2C%20%22dashArray%22%3A%20null%2C%20%22dashOffset%22%3A%20null%2C%20%22fill%22%3A%20true%2C%20%22fillColor%22%3A%20%22%238000ff%22%2C%20%22fillOpacity%22%3A%200.7%2C%20%22fillRule%22%3A%20%22evenodd%22%2C%20%22lineCap%22%3A%20%22round%22%2C%20%22lineJoin%22%3A%20%22round%22%2C%20%22opacity%22%3A%201.0%2C%20%22radius%22%3A%205%2C%20%22stroke%22%3A%20true%2C%20%22weight%22%3A%203%7D%0A%20%20%20%20%20%20%20%20%20%20%20%20%29.addTo%28map_48572ab121b2452292d0c49358e7f21b%29%3B%0A%20%20%20%20%20%20%20%20%0A%20%20%20%20%0A%20%20%20%20%20%20%20%20var%20popup_6bff1ae769914975a520f834b24613c0%20%3D%20L.popup%28%7B%22maxWidth%22%3A%20%22100%25%22%7D%29%3B%0A%0A%20%20%20%20%20%20%20%20%0A%20%20%20%20%20%20%20%20%20%20%20%20var%20html_4295188314274121805d197f66ff832f%20%3D%20%24%28%60%3Cdiv%20id%3D%22html_4295188314274121805d197f66ff832f%22%20style%3D%22width%3A%20100.0%25%3B%20height%3A%20100.0%25%3B%22%3E0%20%20%20%20%20%20%20%20%20East%20Toronto%201%20%20%20%20%20%20%20%20%20East%20Toronto%202%20%20%20%20%20%20%20%20%20East%20Toronto%203%20%20%20%20%20%20%20%20%20East%20Toronto%204%20%20%20%20%20%20Central%20Toronto%205%20%20%20%20%20%20Central%20Toronto%206%20%20%20%20%20%20Central%20Toronto%207%20%20%20%20%20%20Central%20Toronto%208%20%20%20%20%20%20Central%20Toronto%209%20%20%20%20%20%20Central%20Toronto%2010%20%20%20%20Downtown%20Toronto%2011%20%20%20%20Downtown%20Toronto%2012%20%20%20%20Downtown%20Toronto%2013%20%20%20%20Downtown%20Toronto%2014%20%20%20%20Downtown%20Toronto%2015%20%20%20%20Downtown%20Toronto%2016%20%20%20%20Downtown%20Toronto%2017%20%20%20%20Downtown%20Toronto%2018%20%20%20%20Downtown%20Toronto%2019%20%20%20%20Downtown%20Toronto%2020%20%20%20%20Downtown%20Toronto%2021%20%20%20%20Downtown%20Toronto%2022%20%20%20%20%20Central%20Toronto%2023%20%20%20%20%20Central%20Toronto%2024%20%20%20%20%20Central%20Toronto%2025%20%20%20%20Downtown%20Toronto%2026%20%20%20%20Downtown%20Toronto%2027%20%20%20%20Downtown%20Toronto%2028%20%20%20%20Downtown%20Toronto%2029%20%20%20%20Downtown%20Toronto%2030%20%20%20%20Downtown%20Toronto%2031%20%20%20%20%20%20%20%20West%20Toronto%2032%20%20%20%20%20%20%20%20West%20Toronto%2033%20%20%20%20%20%20%20%20West%20Toronto%2034%20%20%20%20%20%20%20%20West%20Toronto%2035%20%20%20%20%20%20%20%20West%20Toronto%2036%20%20%20%20%20%20%20%20West%20Toronto%2037%20%20%20%20%20%20%20%20East%20Toronto%20Name%3A%20Borough%2C%20dtype%3A%20object%20Cluster%201%3C/div%3E%60%29%5B0%5D%3B%0A%20%20%20%20%20%20%20%20%20%20%20%20popup_6bff1ae769914975a520f834b24613c0.setContent%28html_4295188314274121805d197f66ff832f%29%3B%0A%20%20%20%20%20%20%20%20%0A%0A%20%20%20%20%20%20%20%20circle_marker_e5342a42c9e745b7b670bca5728cea3d.bindPopup%28popup_6bff1ae769914975a520f834b24613c0%29%0A%20%20%20%20%20%20%20%20%3B%0A%0A%20%20%20%20%20%20%20%20%0A%20%20%20%20%0A%20%20%20%20%0A%20%20%20%20%20%20%20%20%20%20%20%20var%20circle_marker_d3d6648fa5b44e32adf66983362a718b%20%3D%20L.circleMarker%28%0A%20%20%20%20%20%20%20%20%20%20%20%20%20%20%20%20%5B43.7116948%2C%20-79.41693559999999%5D%2C%0A%20%20%20%20%20%20%20%20%20%20%20%20%20%20%20%20%7B%22bubblingMouseEvents%22%3A%20true%2C%20%22color%22%3A%20%22%232adddd%22%2C%20%22dashArray%22%3A%20null%2C%20%22dashOffset%22%3A%20null%2C%20%22fill%22%3A%20true%2C%20%22fillColor%22%3A%20%22%232adddd%22%2C%20%22fillOpacity%22%3A%200.7%2C%20%22fillRule%22%3A%20%22evenodd%22%2C%20%22lineCap%22%3A%20%22round%22%2C%20%22lineJoin%22%3A%20%22round%22%2C%20%22opacity%22%3A%201.0%2C%20%22radius%22%3A%205%2C%20%22stroke%22%3A%20true%2C%20%22weight%22%3A%203%7D%0A%20%20%20%20%20%20%20%20%20%20%20%20%29.addTo%28map_48572ab121b2452292d0c49358e7f21b%29%3B%0A%20%20%20%20%20%20%20%20%0A%20%20%20%20%0A%20%20%20%20%20%20%20%20var%20popup_f6beab0ed29a45b7a665d3bab91a4ee6%20%3D%20L.popup%28%7B%22maxWidth%22%3A%20%22100%25%22%7D%29%3B%0A%0A%20%20%20%20%20%20%20%20%0A%20%20%20%20%20%20%20%20%20%20%20%20var%20html_c3a12ec8ee554326b76e9aa1bd58de6e%20%3D%20%24%28%60%3Cdiv%20id%3D%22html_c3a12ec8ee554326b76e9aa1bd58de6e%22%20style%3D%22width%3A%20100.0%25%3B%20height%3A%20100.0%25%3B%22%3E0%20%20%20%20%20%20%20%20%20East%20Toronto%201%20%20%20%20%20%20%20%20%20East%20Toronto%202%20%20%20%20%20%20%20%20%20East%20Toronto%203%20%20%20%20%20%20%20%20%20East%20Toronto%204%20%20%20%20%20%20Central%20Toronto%205%20%20%20%20%20%20Central%20Toronto%206%20%20%20%20%20%20Central%20Toronto%207%20%20%20%20%20%20Central%20Toronto%208%20%20%20%20%20%20Central%20Toronto%209%20%20%20%20%20%20Central%20Toronto%2010%20%20%20%20Downtown%20Toronto%2011%20%20%20%20Downtown%20Toronto%2012%20%20%20%20Downtown%20Toronto%2013%20%20%20%20Downtown%20Toronto%2014%20%20%20%20Downtown%20Toronto%2015%20%20%20%20Downtown%20Toronto%2016%20%20%20%20Downtown%20Toronto%2017%20%20%20%20Downtown%20Toronto%2018%20%20%20%20Downtown%20Toronto%2019%20%20%20%20Downtown%20Toronto%2020%20%20%20%20Downtown%20Toronto%2021%20%20%20%20Downtown%20Toronto%2022%20%20%20%20%20Central%20Toronto%2023%20%20%20%20%20Central%20Toronto%2024%20%20%20%20%20Central%20Toronto%2025%20%20%20%20Downtown%20Toronto%2026%20%20%20%20Downtown%20Toronto%2027%20%20%20%20Downtown%20Toronto%2028%20%20%20%20Downtown%20Toronto%2029%20%20%20%20Downtown%20Toronto%2030%20%20%20%20Downtown%20Toronto%2031%20%20%20%20%20%20%20%20West%20Toronto%2032%20%20%20%20%20%20%20%20West%20Toronto%2033%20%20%20%20%20%20%20%20West%20Toronto%2034%20%20%20%20%20%20%20%20West%20Toronto%2035%20%20%20%20%20%20%20%20West%20Toronto%2036%20%20%20%20%20%20%20%20West%20Toronto%2037%20%20%20%20%20%20%20%20East%20Toronto%20Name%3A%20Borough%2C%20dtype%3A%20object%20Cluster%202%3C/div%3E%60%29%5B0%5D%3B%0A%20%20%20%20%20%20%20%20%20%20%20%20popup_f6beab0ed29a45b7a665d3bab91a4ee6.setContent%28html_c3a12ec8ee554326b76e9aa1bd58de6e%29%3B%0A%20%20%20%20%20%20%20%20%0A%0A%20%20%20%20%20%20%20%20circle_marker_d3d6648fa5b44e32adf66983362a718b.bindPopup%28popup_f6beab0ed29a45b7a665d3bab91a4ee6%29%0A%20%20%20%20%20%20%20%20%3B%0A%0A%20%20%20%20%20%20%20%20%0A%20%20%20%20%0A%20%20%20%20%0A%20%20%20%20%20%20%20%20%20%20%20%20var%20circle_marker_f1a3c6a71ef94ba78c62ce749f9d89b7%20%3D%20L.circleMarker%28%0A%20%20%20%20%20%20%20%20%20%20%20%20%20%20%20%20%5B43.6969476%2C%20-79.41130720000002%5D%2C%0A%20%20%20%20%20%20%20%20%20%20%20%20%20%20%20%20%7B%22bubblingMouseEvents%22%3A%20true%2C%20%22color%22%3A%20%22%232adddd%22%2C%20%22dashArray%22%3A%20null%2C%20%22dashOffset%22%3A%20null%2C%20%22fill%22%3A%20true%2C%20%22fillColor%22%3A%20%22%232adddd%22%2C%20%22fillOpacity%22%3A%200.7%2C%20%22fillRule%22%3A%20%22evenodd%22%2C%20%22lineCap%22%3A%20%22round%22%2C%20%22lineJoin%22%3A%20%22round%22%2C%20%22opacity%22%3A%201.0%2C%20%22radius%22%3A%205%2C%20%22stroke%22%3A%20true%2C%20%22weight%22%3A%203%7D%0A%20%20%20%20%20%20%20%20%20%20%20%20%29.addTo%28map_48572ab121b2452292d0c49358e7f21b%29%3B%0A%20%20%20%20%20%20%20%20%0A%20%20%20%20%0A%20%20%20%20%20%20%20%20var%20popup_b19c1ebf5f83418484448dc05cfb22cf%20%3D%20L.popup%28%7B%22maxWidth%22%3A%20%22100%25%22%7D%29%3B%0A%0A%20%20%20%20%20%20%20%20%0A%20%20%20%20%20%20%20%20%20%20%20%20var%20html_a6a06914cbd84ae7ab95b51b11a74b79%20%3D%20%24%28%60%3Cdiv%20id%3D%22html_a6a06914cbd84ae7ab95b51b11a74b79%22%20style%3D%22width%3A%20100.0%25%3B%20height%3A%20100.0%25%3B%22%3E0%20%20%20%20%20%20%20%20%20East%20Toronto%201%20%20%20%20%20%20%20%20%20East%20Toronto%202%20%20%20%20%20%20%20%20%20East%20Toronto%203%20%20%20%20%20%20%20%20%20East%20Toronto%204%20%20%20%20%20%20Central%20Toronto%205%20%20%20%20%20%20Central%20Toronto%206%20%20%20%20%20%20Central%20Toronto%207%20%20%20%20%20%20Central%20Toronto%208%20%20%20%20%20%20Central%20Toronto%209%20%20%20%20%20%20Central%20Toronto%2010%20%20%20%20Downtown%20Toronto%2011%20%20%20%20Downtown%20Toronto%2012%20%20%20%20Downtown%20Toronto%2013%20%20%20%20Downtown%20Toronto%2014%20%20%20%20Downtown%20Toronto%2015%20%20%20%20Downtown%20Toronto%2016%20%20%20%20Downtown%20Toronto%2017%20%20%20%20Downtown%20Toronto%2018%20%20%20%20Downtown%20Toronto%2019%20%20%20%20Downtown%20Toronto%2020%20%20%20%20Downtown%20Toronto%2021%20%20%20%20Downtown%20Toronto%2022%20%20%20%20%20Central%20Toronto%2023%20%20%20%20%20Central%20Toronto%2024%20%20%20%20%20Central%20Toronto%2025%20%20%20%20Downtown%20Toronto%2026%20%20%20%20Downtown%20Toronto%2027%20%20%20%20Downtown%20Toronto%2028%20%20%20%20Downtown%20Toronto%2029%20%20%20%20Downtown%20Toronto%2030%20%20%20%20Downtown%20Toronto%2031%20%20%20%20%20%20%20%20West%20Toronto%2032%20%20%20%20%20%20%20%20West%20Toronto%2033%20%20%20%20%20%20%20%20West%20Toronto%2034%20%20%20%20%20%20%20%20West%20Toronto%2035%20%20%20%20%20%20%20%20West%20Toronto%2036%20%20%20%20%20%20%20%20West%20Toronto%2037%20%20%20%20%20%20%20%20East%20Toronto%20Name%3A%20Borough%2C%20dtype%3A%20object%20Cluster%202%3C/div%3E%60%29%5B0%5D%3B%0A%20%20%20%20%20%20%20%20%20%20%20%20popup_b19c1ebf5f83418484448dc05cfb22cf.setContent%28html_a6a06914cbd84ae7ab95b51b11a74b79%29%3B%0A%20%20%20%20%20%20%20%20%0A%0A%20%20%20%20%20%20%20%20circle_marker_f1a3c6a71ef94ba78c62ce749f9d89b7.bindPopup%28popup_b19c1ebf5f83418484448dc05cfb22cf%29%0A%20%20%20%20%20%20%20%20%3B%0A%0A%20%20%20%20%20%20%20%20%0A%20%20%20%20%0A%20%20%20%20%0A%20%20%20%20%20%20%20%20%20%20%20%20var%20circle_marker_0f155dc891434ca78287cb62bfbe0075%20%3D%20L.circleMarker%28%0A%20%20%20%20%20%20%20%20%20%20%20%20%20%20%20%20%5B43.6727097%2C%20-79.40567840000001%5D%2C%0A%20%20%20%20%20%20%20%20%20%20%20%20%20%20%20%20%7B%22bubblingMouseEvents%22%3A%20true%2C%20%22color%22%3A%20%22%232adddd%22%2C%20%22dashArray%22%3A%20null%2C%20%22dashOffset%22%3A%20null%2C%20%22fill%22%3A%20true%2C%20%22fillColor%22%3A%20%22%232adddd%22%2C%20%22fillOpacity%22%3A%200.7%2C%20%22fillRule%22%3A%20%22evenodd%22%2C%20%22lineCap%22%3A%20%22round%22%2C%20%22lineJoin%22%3A%20%22round%22%2C%20%22opacity%22%3A%201.0%2C%20%22radius%22%3A%205%2C%20%22stroke%22%3A%20true%2C%20%22weight%22%3A%203%7D%0A%20%20%20%20%20%20%20%20%20%20%20%20%29.addTo%28map_48572ab121b2452292d0c49358e7f21b%29%3B%0A%20%20%20%20%20%20%20%20%0A%20%20%20%20%0A%20%20%20%20%20%20%20%20var%20popup_27b51ec1ba3246589a99a0b5c321e94f%20%3D%20L.popup%28%7B%22maxWidth%22%3A%20%22100%25%22%7D%29%3B%0A%0A%20%20%20%20%20%20%20%20%0A%20%20%20%20%20%20%20%20%20%20%20%20var%20html_3e28e20f65214faf8312b4c6153164ad%20%3D%20%24%28%60%3Cdiv%20id%3D%22html_3e28e20f65214faf8312b4c6153164ad%22%20style%3D%22width%3A%20100.0%25%3B%20height%3A%20100.0%25%3B%22%3E0%20%20%20%20%20%20%20%20%20East%20Toronto%201%20%20%20%20%20%20%20%20%20East%20Toronto%202%20%20%20%20%20%20%20%20%20East%20Toronto%203%20%20%20%20%20%20%20%20%20East%20Toronto%204%20%20%20%20%20%20Central%20Toronto%205%20%20%20%20%20%20Central%20Toronto%206%20%20%20%20%20%20Central%20Toronto%207%20%20%20%20%20%20Central%20Toronto%208%20%20%20%20%20%20Central%20Toronto%209%20%20%20%20%20%20Central%20Toronto%2010%20%20%20%20Downtown%20Toronto%2011%20%20%20%20Downtown%20Toronto%2012%20%20%20%20Downtown%20Toronto%2013%20%20%20%20Downtown%20Toronto%2014%20%20%20%20Downtown%20Toronto%2015%20%20%20%20Downtown%20Toronto%2016%20%20%20%20Downtown%20Toronto%2017%20%20%20%20Downtown%20Toronto%2018%20%20%20%20Downtown%20Toronto%2019%20%20%20%20Downtown%20Toronto%2020%20%20%20%20Downtown%20Toronto%2021%20%20%20%20Downtown%20Toronto%2022%20%20%20%20%20Central%20Toronto%2023%20%20%20%20%20Central%20Toronto%2024%20%20%20%20%20Central%20Toronto%2025%20%20%20%20Downtown%20Toronto%2026%20%20%20%20Downtown%20Toronto%2027%20%20%20%20Downtown%20Toronto%2028%20%20%20%20Downtown%20Toronto%2029%20%20%20%20Downtown%20Toronto%2030%20%20%20%20Downtown%20Toronto%2031%20%20%20%20%20%20%20%20West%20Toronto%2032%20%20%20%20%20%20%20%20West%20Toronto%2033%20%20%20%20%20%20%20%20West%20Toronto%2034%20%20%20%20%20%20%20%20West%20Toronto%2035%20%20%20%20%20%20%20%20West%20Toronto%2036%20%20%20%20%20%20%20%20West%20Toronto%2037%20%20%20%20%20%20%20%20East%20Toronto%20Name%3A%20Borough%2C%20dtype%3A%20object%20Cluster%202%3C/div%3E%60%29%5B0%5D%3B%0A%20%20%20%20%20%20%20%20%20%20%20%20popup_27b51ec1ba3246589a99a0b5c321e94f.setContent%28html_3e28e20f65214faf8312b4c6153164ad%29%3B%0A%20%20%20%20%20%20%20%20%0A%0A%20%20%20%20%20%20%20%20circle_marker_0f155dc891434ca78287cb62bfbe0075.bindPopup%28popup_27b51ec1ba3246589a99a0b5c321e94f%29%0A%20%20%20%20%20%20%20%20%3B%0A%0A%20%20%20%20%20%20%20%20%0A%20%20%20%20%0A%20%20%20%20%0A%20%20%20%20%20%20%20%20%20%20%20%20var%20circle_marker_19c80f7c2184413bb51af6e4d619bbec%20%3D%20L.circleMarker%28%0A%20%20%20%20%20%20%20%20%20%20%20%20%20%20%20%20%5B43.6626956%2C%20-79.4000493%5D%2C%0A%20%20%20%20%20%20%20%20%20%20%20%20%20%20%20%20%7B%22bubblingMouseEvents%22%3A%20true%2C%20%22color%22%3A%20%22%238000ff%22%2C%20%22dashArray%22%3A%20null%2C%20%22dashOffset%22%3A%20null%2C%20%22fill%22%3A%20true%2C%20%22fillColor%22%3A%20%22%238000ff%22%2C%20%22fillOpacity%22%3A%200.7%2C%20%22fillRule%22%3A%20%22evenodd%22%2C%20%22lineCap%22%3A%20%22round%22%2C%20%22lineJoin%22%3A%20%22round%22%2C%20%22opacity%22%3A%201.0%2C%20%22radius%22%3A%205%2C%20%22stroke%22%3A%20true%2C%20%22weight%22%3A%203%7D%0A%20%20%20%20%20%20%20%20%20%20%20%20%29.addTo%28map_48572ab121b2452292d0c49358e7f21b%29%3B%0A%20%20%20%20%20%20%20%20%0A%20%20%20%20%0A%20%20%20%20%20%20%20%20var%20popup_3a22f6f50302496a886ab83f7e130b47%20%3D%20L.popup%28%7B%22maxWidth%22%3A%20%22100%25%22%7D%29%3B%0A%0A%20%20%20%20%20%20%20%20%0A%20%20%20%20%20%20%20%20%20%20%20%20var%20html_516525728dbd4d9c9d1477e3cc829449%20%3D%20%24%28%60%3Cdiv%20id%3D%22html_516525728dbd4d9c9d1477e3cc829449%22%20style%3D%22width%3A%20100.0%25%3B%20height%3A%20100.0%25%3B%22%3E0%20%20%20%20%20%20%20%20%20East%20Toronto%201%20%20%20%20%20%20%20%20%20East%20Toronto%202%20%20%20%20%20%20%20%20%20East%20Toronto%203%20%20%20%20%20%20%20%20%20East%20Toronto%204%20%20%20%20%20%20Central%20Toronto%205%20%20%20%20%20%20Central%20Toronto%206%20%20%20%20%20%20Central%20Toronto%207%20%20%20%20%20%20Central%20Toronto%208%20%20%20%20%20%20Central%20Toronto%209%20%20%20%20%20%20Central%20Toronto%2010%20%20%20%20Downtown%20Toronto%2011%20%20%20%20Downtown%20Toronto%2012%20%20%20%20Downtown%20Toronto%2013%20%20%20%20Downtown%20Toronto%2014%20%20%20%20Downtown%20Toronto%2015%20%20%20%20Downtown%20Toronto%2016%20%20%20%20Downtown%20Toronto%2017%20%20%20%20Downtown%20Toronto%2018%20%20%20%20Downtown%20Toronto%2019%20%20%20%20Downtown%20Toronto%2020%20%20%20%20Downtown%20Toronto%2021%20%20%20%20Downtown%20Toronto%2022%20%20%20%20%20Central%20Toronto%2023%20%20%20%20%20Central%20Toronto%2024%20%20%20%20%20Central%20Toronto%2025%20%20%20%20Downtown%20Toronto%2026%20%20%20%20Downtown%20Toronto%2027%20%20%20%20Downtown%20Toronto%2028%20%20%20%20Downtown%20Toronto%2029%20%20%20%20Downtown%20Toronto%2030%20%20%20%20Downtown%20Toronto%2031%20%20%20%20%20%20%20%20West%20Toronto%2032%20%20%20%20%20%20%20%20West%20Toronto%2033%20%20%20%20%20%20%20%20West%20Toronto%2034%20%20%20%20%20%20%20%20West%20Toronto%2035%20%20%20%20%20%20%20%20West%20Toronto%2036%20%20%20%20%20%20%20%20West%20Toronto%2037%20%20%20%20%20%20%20%20East%20Toronto%20Name%3A%20Borough%2C%20dtype%3A%20object%20Cluster%201%3C/div%3E%60%29%5B0%5D%3B%0A%20%20%20%20%20%20%20%20%20%20%20%20popup_3a22f6f50302496a886ab83f7e130b47.setContent%28html_516525728dbd4d9c9d1477e3cc829449%29%3B%0A%20%20%20%20%20%20%20%20%0A%0A%20%20%20%20%20%20%20%20circle_marker_19c80f7c2184413bb51af6e4d619bbec.bindPopup%28popup_3a22f6f50302496a886ab83f7e130b47%29%0A%20%20%20%20%20%20%20%20%3B%0A%0A%20%20%20%20%20%20%20%20%0A%20%20%20%20%0A%20%20%20%20%0A%20%20%20%20%20%20%20%20%20%20%20%20var%20circle_marker_2af4aa9c6fd047fe85929c17c830e0fd%20%3D%20L.circleMarker%28%0A%20%20%20%20%20%20%20%20%20%20%20%20%20%20%20%20%5B43.6532057%2C%20-79.4000493%5D%2C%0A%20%20%20%20%20%20%20%20%20%20%20%20%20%20%20%20%7B%22bubblingMouseEvents%22%3A%20true%2C%20%22color%22%3A%20%22%238000ff%22%2C%20%22dashArray%22%3A%20null%2C%20%22dashOffset%22%3A%20null%2C%20%22fill%22%3A%20true%2C%20%22fillColor%22%3A%20%22%238000ff%22%2C%20%22fillOpacity%22%3A%200.7%2C%20%22fillRule%22%3A%20%22evenodd%22%2C%20%22lineCap%22%3A%20%22round%22%2C%20%22lineJoin%22%3A%20%22round%22%2C%20%22opacity%22%3A%201.0%2C%20%22radius%22%3A%205%2C%20%22stroke%22%3A%20true%2C%20%22weight%22%3A%203%7D%0A%20%20%20%20%20%20%20%20%20%20%20%20%29.addTo%28map_48572ab121b2452292d0c49358e7f21b%29%3B%0A%20%20%20%20%20%20%20%20%0A%20%20%20%20%0A%20%20%20%20%20%20%20%20var%20popup_65bf0dbb0b224026815abf773b236f83%20%3D%20L.popup%28%7B%22maxWidth%22%3A%20%22100%25%22%7D%29%3B%0A%0A%20%20%20%20%20%20%20%20%0A%20%20%20%20%20%20%20%20%20%20%20%20var%20html_4c079908769e4781ab99741a129af516%20%3D%20%24%28%60%3Cdiv%20id%3D%22html_4c079908769e4781ab99741a129af516%22%20style%3D%22width%3A%20100.0%25%3B%20height%3A%20100.0%25%3B%22%3E0%20%20%20%20%20%20%20%20%20East%20Toronto%201%20%20%20%20%20%20%20%20%20East%20Toronto%202%20%20%20%20%20%20%20%20%20East%20Toronto%203%20%20%20%20%20%20%20%20%20East%20Toronto%204%20%20%20%20%20%20Central%20Toronto%205%20%20%20%20%20%20Central%20Toronto%206%20%20%20%20%20%20Central%20Toronto%207%20%20%20%20%20%20Central%20Toronto%208%20%20%20%20%20%20Central%20Toronto%209%20%20%20%20%20%20Central%20Toronto%2010%20%20%20%20Downtown%20Toronto%2011%20%20%20%20Downtown%20Toronto%2012%20%20%20%20Downtown%20Toronto%2013%20%20%20%20Downtown%20Toronto%2014%20%20%20%20Downtown%20Toronto%2015%20%20%20%20Downtown%20Toronto%2016%20%20%20%20Downtown%20Toronto%2017%20%20%20%20Downtown%20Toronto%2018%20%20%20%20Downtown%20Toronto%2019%20%20%20%20Downtown%20Toronto%2020%20%20%20%20Downtown%20Toronto%2021%20%20%20%20Downtown%20Toronto%2022%20%20%20%20%20Central%20Toronto%2023%20%20%20%20%20Central%20Toronto%2024%20%20%20%20%20Central%20Toronto%2025%20%20%20%20Downtown%20Toronto%2026%20%20%20%20Downtown%20Toronto%2027%20%20%20%20Downtown%20Toronto%2028%20%20%20%20Downtown%20Toronto%2029%20%20%20%20Downtown%20Toronto%2030%20%20%20%20Downtown%20Toronto%2031%20%20%20%20%20%20%20%20West%20Toronto%2032%20%20%20%20%20%20%20%20West%20Toronto%2033%20%20%20%20%20%20%20%20West%20Toronto%2034%20%20%20%20%20%20%20%20West%20Toronto%2035%20%20%20%20%20%20%20%20West%20Toronto%2036%20%20%20%20%20%20%20%20West%20Toronto%2037%20%20%20%20%20%20%20%20East%20Toronto%20Name%3A%20Borough%2C%20dtype%3A%20object%20Cluster%201%3C/div%3E%60%29%5B0%5D%3B%0A%20%20%20%20%20%20%20%20%20%20%20%20popup_65bf0dbb0b224026815abf773b236f83.setContent%28html_4c079908769e4781ab99741a129af516%29%3B%0A%20%20%20%20%20%20%20%20%0A%0A%20%20%20%20%20%20%20%20circle_marker_2af4aa9c6fd047fe85929c17c830e0fd.bindPopup%28popup_65bf0dbb0b224026815abf773b236f83%29%0A%20%20%20%20%20%20%20%20%3B%0A%0A%20%20%20%20%20%20%20%20%0A%20%20%20%20%0A%20%20%20%20%0A%20%20%20%20%20%20%20%20%20%20%20%20var%20circle_marker_aeac1fbd1fde474982e179e6a0b87b1b%20%3D%20L.circleMarker%28%0A%20%20%20%20%20%20%20%20%20%20%20%20%20%20%20%20%5B43.6289467%2C%20-79.3944199%5D%2C%0A%20%20%20%20%20%20%20%20%20%20%20%20%20%20%20%20%7B%22bubblingMouseEvents%22%3A%20true%2C%20%22color%22%3A%20%22%238000ff%22%2C%20%22dashArray%22%3A%20null%2C%20%22dashOffset%22%3A%20null%2C%20%22fill%22%3A%20true%2C%20%22fillColor%22%3A%20%22%238000ff%22%2C%20%22fillOpacity%22%3A%200.7%2C%20%22fillRule%22%3A%20%22evenodd%22%2C%20%22lineCap%22%3A%20%22round%22%2C%20%22lineJoin%22%3A%20%22round%22%2C%20%22opacity%22%3A%201.0%2C%20%22radius%22%3A%205%2C%20%22stroke%22%3A%20true%2C%20%22weight%22%3A%203%7D%0A%20%20%20%20%20%20%20%20%20%20%20%20%29.addTo%28map_48572ab121b2452292d0c49358e7f21b%29%3B%0A%20%20%20%20%20%20%20%20%0A%20%20%20%20%0A%20%20%20%20%20%20%20%20var%20popup_d7dccfc6e8bf404c895d56d82bdd1ba9%20%3D%20L.popup%28%7B%22maxWidth%22%3A%20%22100%25%22%7D%29%3B%0A%0A%20%20%20%20%20%20%20%20%0A%20%20%20%20%20%20%20%20%20%20%20%20var%20html_4744917920034819aeaf8b2c4d858966%20%3D%20%24%28%60%3Cdiv%20id%3D%22html_4744917920034819aeaf8b2c4d858966%22%20style%3D%22width%3A%20100.0%25%3B%20height%3A%20100.0%25%3B%22%3E0%20%20%20%20%20%20%20%20%20East%20Toronto%201%20%20%20%20%20%20%20%20%20East%20Toronto%202%20%20%20%20%20%20%20%20%20East%20Toronto%203%20%20%20%20%20%20%20%20%20East%20Toronto%204%20%20%20%20%20%20Central%20Toronto%205%20%20%20%20%20%20Central%20Toronto%206%20%20%20%20%20%20Central%20Toronto%207%20%20%20%20%20%20Central%20Toronto%208%20%20%20%20%20%20Central%20Toronto%209%20%20%20%20%20%20Central%20Toronto%2010%20%20%20%20Downtown%20Toronto%2011%20%20%20%20Downtown%20Toronto%2012%20%20%20%20Downtown%20Toronto%2013%20%20%20%20Downtown%20Toronto%2014%20%20%20%20Downtown%20Toronto%2015%20%20%20%20Downtown%20Toronto%2016%20%20%20%20Downtown%20Toronto%2017%20%20%20%20Downtown%20Toronto%2018%20%20%20%20Downtown%20Toronto%2019%20%20%20%20Downtown%20Toronto%2020%20%20%20%20Downtown%20Toronto%2021%20%20%20%20Downtown%20Toronto%2022%20%20%20%20%20Central%20Toronto%2023%20%20%20%20%20Central%20Toronto%2024%20%20%20%20%20Central%20Toronto%2025%20%20%20%20Downtown%20Toronto%2026%20%20%20%20Downtown%20Toronto%2027%20%20%20%20Downtown%20Toronto%2028%20%20%20%20Downtown%20Toronto%2029%20%20%20%20Downtown%20Toronto%2030%20%20%20%20Downtown%20Toronto%2031%20%20%20%20%20%20%20%20West%20Toronto%2032%20%20%20%20%20%20%20%20West%20Toronto%2033%20%20%20%20%20%20%20%20West%20Toronto%2034%20%20%20%20%20%20%20%20West%20Toronto%2035%20%20%20%20%20%20%20%20West%20Toronto%2036%20%20%20%20%20%20%20%20West%20Toronto%2037%20%20%20%20%20%20%20%20East%20Toronto%20Name%3A%20Borough%2C%20dtype%3A%20object%20Cluster%201%3C/div%3E%60%29%5B0%5D%3B%0A%20%20%20%20%20%20%20%20%20%20%20%20popup_d7dccfc6e8bf404c895d56d82bdd1ba9.setContent%28html_4744917920034819aeaf8b2c4d858966%29%3B%0A%20%20%20%20%20%20%20%20%0A%0A%20%20%20%20%20%20%20%20circle_marker_aeac1fbd1fde474982e179e6a0b87b1b.bindPopup%28popup_d7dccfc6e8bf404c895d56d82bdd1ba9%29%0A%20%20%20%20%20%20%20%20%3B%0A%0A%20%20%20%20%20%20%20%20%0A%20%20%20%20%0A%20%20%20%20%0A%20%20%20%20%20%20%20%20%20%20%20%20var%20circle_marker_ff9784c237b543b0ab0a4a79b9771205%20%3D%20L.circleMarker%28%0A%20%20%20%20%20%20%20%20%20%20%20%20%20%20%20%20%5B43.6464352%2C%20-79.37484599999998%5D%2C%0A%20%20%20%20%20%20%20%20%20%20%20%20%20%20%20%20%7B%22bubblingMouseEvents%22%3A%20true%2C%20%22color%22%3A%20%22%238000ff%22%2C%20%22dashArray%22%3A%20null%2C%20%22dashOffset%22%3A%20null%2C%20%22fill%22%3A%20true%2C%20%22fillColor%22%3A%20%22%238000ff%22%2C%20%22fillOpacity%22%3A%200.7%2C%20%22fillRule%22%3A%20%22evenodd%22%2C%20%22lineCap%22%3A%20%22round%22%2C%20%22lineJoin%22%3A%20%22round%22%2C%20%22opacity%22%3A%201.0%2C%20%22radius%22%3A%205%2C%20%22stroke%22%3A%20true%2C%20%22weight%22%3A%203%7D%0A%20%20%20%20%20%20%20%20%20%20%20%20%29.addTo%28map_48572ab121b2452292d0c49358e7f21b%29%3B%0A%20%20%20%20%20%20%20%20%0A%20%20%20%20%0A%20%20%20%20%20%20%20%20var%20popup_3f17e9b839a44364a27a735ee75a7642%20%3D%20L.popup%28%7B%22maxWidth%22%3A%20%22100%25%22%7D%29%3B%0A%0A%20%20%20%20%20%20%20%20%0A%20%20%20%20%20%20%20%20%20%20%20%20var%20html_d0619017b3194107b69b8b0f22465a0e%20%3D%20%24%28%60%3Cdiv%20id%3D%22html_d0619017b3194107b69b8b0f22465a0e%22%20style%3D%22width%3A%20100.0%25%3B%20height%3A%20100.0%25%3B%22%3E0%20%20%20%20%20%20%20%20%20East%20Toronto%201%20%20%20%20%20%20%20%20%20East%20Toronto%202%20%20%20%20%20%20%20%20%20East%20Toronto%203%20%20%20%20%20%20%20%20%20East%20Toronto%204%20%20%20%20%20%20Central%20Toronto%205%20%20%20%20%20%20Central%20Toronto%206%20%20%20%20%20%20Central%20Toronto%207%20%20%20%20%20%20Central%20Toronto%208%20%20%20%20%20%20Central%20Toronto%209%20%20%20%20%20%20Central%20Toronto%2010%20%20%20%20Downtown%20Toronto%2011%20%20%20%20Downtown%20Toronto%2012%20%20%20%20Downtown%20Toronto%2013%20%20%20%20Downtown%20Toronto%2014%20%20%20%20Downtown%20Toronto%2015%20%20%20%20Downtown%20Toronto%2016%20%20%20%20Downtown%20Toronto%2017%20%20%20%20Downtown%20Toronto%2018%20%20%20%20Downtown%20Toronto%2019%20%20%20%20Downtown%20Toronto%2020%20%20%20%20Downtown%20Toronto%2021%20%20%20%20Downtown%20Toronto%2022%20%20%20%20%20Central%20Toronto%2023%20%20%20%20%20Central%20Toronto%2024%20%20%20%20%20Central%20Toronto%2025%20%20%20%20Downtown%20Toronto%2026%20%20%20%20Downtown%20Toronto%2027%20%20%20%20Downtown%20Toronto%2028%20%20%20%20Downtown%20Toronto%2029%20%20%20%20Downtown%20Toronto%2030%20%20%20%20Downtown%20Toronto%2031%20%20%20%20%20%20%20%20West%20Toronto%2032%20%20%20%20%20%20%20%20West%20Toronto%2033%20%20%20%20%20%20%20%20West%20Toronto%2034%20%20%20%20%20%20%20%20West%20Toronto%2035%20%20%20%20%20%20%20%20West%20Toronto%2036%20%20%20%20%20%20%20%20West%20Toronto%2037%20%20%20%20%20%20%20%20East%20Toronto%20Name%3A%20Borough%2C%20dtype%3A%20object%20Cluster%201%3C/div%3E%60%29%5B0%5D%3B%0A%20%20%20%20%20%20%20%20%20%20%20%20popup_3f17e9b839a44364a27a735ee75a7642.setContent%28html_d0619017b3194107b69b8b0f22465a0e%29%3B%0A%20%20%20%20%20%20%20%20%0A%0A%20%20%20%20%20%20%20%20circle_marker_ff9784c237b543b0ab0a4a79b9771205.bindPopup%28popup_3f17e9b839a44364a27a735ee75a7642%29%0A%20%20%20%20%20%20%20%20%3B%0A%0A%20%20%20%20%20%20%20%20%0A%20%20%20%20%0A%20%20%20%20%0A%20%20%20%20%20%20%20%20%20%20%20%20var%20circle_marker_6cd59a2368dd4e45a8f5d19acb447e83%20%3D%20L.circleMarker%28%0A%20%20%20%20%20%20%20%20%20%20%20%20%20%20%20%20%5B43.6484292%2C%20-79.3822802%5D%2C%0A%20%20%20%20%20%20%20%20%20%20%20%20%20%20%20%20%7B%22bubblingMouseEvents%22%3A%20true%2C%20%22color%22%3A%20%22%238000ff%22%2C%20%22dashArray%22%3A%20null%2C%20%22dashOffset%22%3A%20null%2C%20%22fill%22%3A%20true%2C%20%22fillColor%22%3A%20%22%238000ff%22%2C%20%22fillOpacity%22%3A%200.7%2C%20%22fillRule%22%3A%20%22evenodd%22%2C%20%22lineCap%22%3A%20%22round%22%2C%20%22lineJoin%22%3A%20%22round%22%2C%20%22opacity%22%3A%201.0%2C%20%22radius%22%3A%205%2C%20%22stroke%22%3A%20true%2C%20%22weight%22%3A%203%7D%0A%20%20%20%20%20%20%20%20%20%20%20%20%29.addTo%28map_48572ab121b2452292d0c49358e7f21b%29%3B%0A%20%20%20%20%20%20%20%20%0A%20%20%20%20%0A%20%20%20%20%20%20%20%20var%20popup_52c8357931ed45e4b5b55e84bd8526ae%20%3D%20L.popup%28%7B%22maxWidth%22%3A%20%22100%25%22%7D%29%3B%0A%0A%20%20%20%20%20%20%20%20%0A%20%20%20%20%20%20%20%20%20%20%20%20var%20html_670b0c8e708547c7a87cec676a9ece6b%20%3D%20%24%28%60%3Cdiv%20id%3D%22html_670b0c8e708547c7a87cec676a9ece6b%22%20style%3D%22width%3A%20100.0%25%3B%20height%3A%20100.0%25%3B%22%3E0%20%20%20%20%20%20%20%20%20East%20Toronto%201%20%20%20%20%20%20%20%20%20East%20Toronto%202%20%20%20%20%20%20%20%20%20East%20Toronto%203%20%20%20%20%20%20%20%20%20East%20Toronto%204%20%20%20%20%20%20Central%20Toronto%205%20%20%20%20%20%20Central%20Toronto%206%20%20%20%20%20%20Central%20Toronto%207%20%20%20%20%20%20Central%20Toronto%208%20%20%20%20%20%20Central%20Toronto%209%20%20%20%20%20%20Central%20Toronto%2010%20%20%20%20Downtown%20Toronto%2011%20%20%20%20Downtown%20Toronto%2012%20%20%20%20Downtown%20Toronto%2013%20%20%20%20Downtown%20Toronto%2014%20%20%20%20Downtown%20Toronto%2015%20%20%20%20Downtown%20Toronto%2016%20%20%20%20Downtown%20Toronto%2017%20%20%20%20Downtown%20Toronto%2018%20%20%20%20Downtown%20Toronto%2019%20%20%20%20Downtown%20Toronto%2020%20%20%20%20Downtown%20Toronto%2021%20%20%20%20Downtown%20Toronto%2022%20%20%20%20%20Central%20Toronto%2023%20%20%20%20%20Central%20Toronto%2024%20%20%20%20%20Central%20Toronto%2025%20%20%20%20Downtown%20Toronto%2026%20%20%20%20Downtown%20Toronto%2027%20%20%20%20Downtown%20Toronto%2028%20%20%20%20Downtown%20Toronto%2029%20%20%20%20Downtown%20Toronto%2030%20%20%20%20Downtown%20Toronto%2031%20%20%20%20%20%20%20%20West%20Toronto%2032%20%20%20%20%20%20%20%20West%20Toronto%2033%20%20%20%20%20%20%20%20West%20Toronto%2034%20%20%20%20%20%20%20%20West%20Toronto%2035%20%20%20%20%20%20%20%20West%20Toronto%2036%20%20%20%20%20%20%20%20West%20Toronto%2037%20%20%20%20%20%20%20%20East%20Toronto%20Name%3A%20Borough%2C%20dtype%3A%20object%20Cluster%201%3C/div%3E%60%29%5B0%5D%3B%0A%20%20%20%20%20%20%20%20%20%20%20%20popup_52c8357931ed45e4b5b55e84bd8526ae.setContent%28html_670b0c8e708547c7a87cec676a9ece6b%29%3B%0A%20%20%20%20%20%20%20%20%0A%0A%20%20%20%20%20%20%20%20circle_marker_6cd59a2368dd4e45a8f5d19acb447e83.bindPopup%28popup_52c8357931ed45e4b5b55e84bd8526ae%29%0A%20%20%20%20%20%20%20%20%3B%0A%0A%20%20%20%20%20%20%20%20%0A%20%20%20%20%0A%20%20%20%20%0A%20%20%20%20%20%20%20%20%20%20%20%20var%20circle_marker_9ac6410290414a869b6bcab9f87f63c4%20%3D%20L.circleMarker%28%0A%20%20%20%20%20%20%20%20%20%20%20%20%20%20%20%20%5B43.669542%2C%20-79.4225637%5D%2C%0A%20%20%20%20%20%20%20%20%20%20%20%20%20%20%20%20%7B%22bubblingMouseEvents%22%3A%20true%2C%20%22color%22%3A%20%22%238000ff%22%2C%20%22dashArray%22%3A%20null%2C%20%22dashOffset%22%3A%20null%2C%20%22fill%22%3A%20true%2C%20%22fillColor%22%3A%20%22%238000ff%22%2C%20%22fillOpacity%22%3A%200.7%2C%20%22fillRule%22%3A%20%22evenodd%22%2C%20%22lineCap%22%3A%20%22round%22%2C%20%22lineJoin%22%3A%20%22round%22%2C%20%22opacity%22%3A%201.0%2C%20%22radius%22%3A%205%2C%20%22stroke%22%3A%20true%2C%20%22weight%22%3A%203%7D%0A%20%20%20%20%20%20%20%20%20%20%20%20%29.addTo%28map_48572ab121b2452292d0c49358e7f21b%29%3B%0A%20%20%20%20%20%20%20%20%0A%20%20%20%20%0A%20%20%20%20%20%20%20%20var%20popup_9c79d79f8b86458f9d447cfccd668530%20%3D%20L.popup%28%7B%22maxWidth%22%3A%20%22100%25%22%7D%29%3B%0A%0A%20%20%20%20%20%20%20%20%0A%20%20%20%20%20%20%20%20%20%20%20%20var%20html_eca24aa7bd1841b2a407107a5c165cfd%20%3D%20%24%28%60%3Cdiv%20id%3D%22html_eca24aa7bd1841b2a407107a5c165cfd%22%20style%3D%22width%3A%20100.0%25%3B%20height%3A%20100.0%25%3B%22%3E0%20%20%20%20%20%20%20%20%20East%20Toronto%201%20%20%20%20%20%20%20%20%20East%20Toronto%202%20%20%20%20%20%20%20%20%20East%20Toronto%203%20%20%20%20%20%20%20%20%20East%20Toronto%204%20%20%20%20%20%20Central%20Toronto%205%20%20%20%20%20%20Central%20Toronto%206%20%20%20%20%20%20Central%20Toronto%207%20%20%20%20%20%20Central%20Toronto%208%20%20%20%20%20%20Central%20Toronto%209%20%20%20%20%20%20Central%20Toronto%2010%20%20%20%20Downtown%20Toronto%2011%20%20%20%20Downtown%20Toronto%2012%20%20%20%20Downtown%20Toronto%2013%20%20%20%20Downtown%20Toronto%2014%20%20%20%20Downtown%20Toronto%2015%20%20%20%20Downtown%20Toronto%2016%20%20%20%20Downtown%20Toronto%2017%20%20%20%20Downtown%20Toronto%2018%20%20%20%20Downtown%20Toronto%2019%20%20%20%20Downtown%20Toronto%2020%20%20%20%20Downtown%20Toronto%2021%20%20%20%20Downtown%20Toronto%2022%20%20%20%20%20Central%20Toronto%2023%20%20%20%20%20Central%20Toronto%2024%20%20%20%20%20Central%20Toronto%2025%20%20%20%20Downtown%20Toronto%2026%20%20%20%20Downtown%20Toronto%2027%20%20%20%20Downtown%20Toronto%2028%20%20%20%20Downtown%20Toronto%2029%20%20%20%20Downtown%20Toronto%2030%20%20%20%20Downtown%20Toronto%2031%20%20%20%20%20%20%20%20West%20Toronto%2032%20%20%20%20%20%20%20%20West%20Toronto%2033%20%20%20%20%20%20%20%20West%20Toronto%2034%20%20%20%20%20%20%20%20West%20Toronto%2035%20%20%20%20%20%20%20%20West%20Toronto%2036%20%20%20%20%20%20%20%20West%20Toronto%2037%20%20%20%20%20%20%20%20East%20Toronto%20Name%3A%20Borough%2C%20dtype%3A%20object%20Cluster%201%3C/div%3E%60%29%5B0%5D%3B%0A%20%20%20%20%20%20%20%20%20%20%20%20popup_9c79d79f8b86458f9d447cfccd668530.setContent%28html_eca24aa7bd1841b2a407107a5c165cfd%29%3B%0A%20%20%20%20%20%20%20%20%0A%0A%20%20%20%20%20%20%20%20circle_marker_9ac6410290414a869b6bcab9f87f63c4.bindPopup%28popup_9c79d79f8b86458f9d447cfccd668530%29%0A%20%20%20%20%20%20%20%20%3B%0A%0A%20%20%20%20%20%20%20%20%0A%20%20%20%20%0A%20%20%20%20%0A%20%20%20%20%20%20%20%20%20%20%20%20var%20circle_marker_5928353cd26a4bff91acca81826a06ec%20%3D%20L.circleMarker%28%0A%20%20%20%20%20%20%20%20%20%20%20%20%20%20%20%20%5B43.66900510000001%2C%20-79.4422593%5D%2C%0A%20%20%20%20%20%20%20%20%20%20%20%20%20%20%20%20%7B%22bubblingMouseEvents%22%3A%20true%2C%20%22color%22%3A%20%22%23d4dd80%22%2C%20%22dashArray%22%3A%20null%2C%20%22dashOffset%22%3A%20null%2C%20%22fill%22%3A%20true%2C%20%22fillColor%22%3A%20%22%23d4dd80%22%2C%20%22fillOpacity%22%3A%200.7%2C%20%22fillRule%22%3A%20%22evenodd%22%2C%20%22lineCap%22%3A%20%22round%22%2C%20%22lineJoin%22%3A%20%22round%22%2C%20%22opacity%22%3A%201.0%2C%20%22radius%22%3A%205%2C%20%22stroke%22%3A%20true%2C%20%22weight%22%3A%203%7D%0A%20%20%20%20%20%20%20%20%20%20%20%20%29.addTo%28map_48572ab121b2452292d0c49358e7f21b%29%3B%0A%20%20%20%20%20%20%20%20%0A%20%20%20%20%0A%20%20%20%20%20%20%20%20var%20popup_fc452a6b2607481284186eb7fc1a2a09%20%3D%20L.popup%28%7B%22maxWidth%22%3A%20%22100%25%22%7D%29%3B%0A%0A%20%20%20%20%20%20%20%20%0A%20%20%20%20%20%20%20%20%20%20%20%20var%20html_4d2641340a0c4b0da9bda3527bafe5b0%20%3D%20%24%28%60%3Cdiv%20id%3D%22html_4d2641340a0c4b0da9bda3527bafe5b0%22%20style%3D%22width%3A%20100.0%25%3B%20height%3A%20100.0%25%3B%22%3E0%20%20%20%20%20%20%20%20%20East%20Toronto%201%20%20%20%20%20%20%20%20%20East%20Toronto%202%20%20%20%20%20%20%20%20%20East%20Toronto%203%20%20%20%20%20%20%20%20%20East%20Toronto%204%20%20%20%20%20%20Central%20Toronto%205%20%20%20%20%20%20Central%20Toronto%206%20%20%20%20%20%20Central%20Toronto%207%20%20%20%20%20%20Central%20Toronto%208%20%20%20%20%20%20Central%20Toronto%209%20%20%20%20%20%20Central%20Toronto%2010%20%20%20%20Downtown%20Toronto%2011%20%20%20%20Downtown%20Toronto%2012%20%20%20%20Downtown%20Toronto%2013%20%20%20%20Downtown%20Toronto%2014%20%20%20%20Downtown%20Toronto%2015%20%20%20%20Downtown%20Toronto%2016%20%20%20%20Downtown%20Toronto%2017%20%20%20%20Downtown%20Toronto%2018%20%20%20%20Downtown%20Toronto%2019%20%20%20%20Downtown%20Toronto%2020%20%20%20%20Downtown%20Toronto%2021%20%20%20%20Downtown%20Toronto%2022%20%20%20%20%20Central%20Toronto%2023%20%20%20%20%20Central%20Toronto%2024%20%20%20%20%20Central%20Toronto%2025%20%20%20%20Downtown%20Toronto%2026%20%20%20%20Downtown%20Toronto%2027%20%20%20%20Downtown%20Toronto%2028%20%20%20%20Downtown%20Toronto%2029%20%20%20%20Downtown%20Toronto%2030%20%20%20%20Downtown%20Toronto%2031%20%20%20%20%20%20%20%20West%20Toronto%2032%20%20%20%20%20%20%20%20West%20Toronto%2033%20%20%20%20%20%20%20%20West%20Toronto%2034%20%20%20%20%20%20%20%20West%20Toronto%2035%20%20%20%20%20%20%20%20West%20Toronto%2036%20%20%20%20%20%20%20%20West%20Toronto%2037%20%20%20%20%20%20%20%20East%20Toronto%20Name%3A%20Borough%2C%20dtype%3A%20object%20Cluster%203%3C/div%3E%60%29%5B0%5D%3B%0A%20%20%20%20%20%20%20%20%20%20%20%20popup_fc452a6b2607481284186eb7fc1a2a09.setContent%28html_4d2641340a0c4b0da9bda3527bafe5b0%29%3B%0A%20%20%20%20%20%20%20%20%0A%0A%20%20%20%20%20%20%20%20circle_marker_5928353cd26a4bff91acca81826a06ec.bindPopup%28popup_fc452a6b2607481284186eb7fc1a2a09%29%0A%20%20%20%20%20%20%20%20%3B%0A%0A%20%20%20%20%20%20%20%20%0A%20%20%20%20%0A%20%20%20%20%0A%20%20%20%20%20%20%20%20%20%20%20%20var%20circle_marker_7ce72e99b2ce4c08868744b30979c3cc%20%3D%20L.circleMarker%28%0A%20%20%20%20%20%20%20%20%20%20%20%20%20%20%20%20%5B43.647926700000006%2C%20-79.4197497%5D%2C%0A%20%20%20%20%20%20%20%20%20%20%20%20%20%20%20%20%7B%22bubblingMouseEvents%22%3A%20true%2C%20%22color%22%3A%20%22%23d4dd80%22%2C%20%22dashArray%22%3A%20null%2C%20%22dashOffset%22%3A%20null%2C%20%22fill%22%3A%20true%2C%20%22fillColor%22%3A%20%22%23d4dd80%22%2C%20%22fillOpacity%22%3A%200.7%2C%20%22fillRule%22%3A%20%22evenodd%22%2C%20%22lineCap%22%3A%20%22round%22%2C%20%22lineJoin%22%3A%20%22round%22%2C%20%22opacity%22%3A%201.0%2C%20%22radius%22%3A%205%2C%20%22stroke%22%3A%20true%2C%20%22weight%22%3A%203%7D%0A%20%20%20%20%20%20%20%20%20%20%20%20%29.addTo%28map_48572ab121b2452292d0c49358e7f21b%29%3B%0A%20%20%20%20%20%20%20%20%0A%20%20%20%20%0A%20%20%20%20%20%20%20%20var%20popup_3c4a7e697dca4353a56ae986fdb31717%20%3D%20L.popup%28%7B%22maxWidth%22%3A%20%22100%25%22%7D%29%3B%0A%0A%20%20%20%20%20%20%20%20%0A%20%20%20%20%20%20%20%20%20%20%20%20var%20html_4b810fc59f25456ab13db705794c8122%20%3D%20%24%28%60%3Cdiv%20id%3D%22html_4b810fc59f25456ab13db705794c8122%22%20style%3D%22width%3A%20100.0%25%3B%20height%3A%20100.0%25%3B%22%3E0%20%20%20%20%20%20%20%20%20East%20Toronto%201%20%20%20%20%20%20%20%20%20East%20Toronto%202%20%20%20%20%20%20%20%20%20East%20Toronto%203%20%20%20%20%20%20%20%20%20East%20Toronto%204%20%20%20%20%20%20Central%20Toronto%205%20%20%20%20%20%20Central%20Toronto%206%20%20%20%20%20%20Central%20Toronto%207%20%20%20%20%20%20Central%20Toronto%208%20%20%20%20%20%20Central%20Toronto%209%20%20%20%20%20%20Central%20Toronto%2010%20%20%20%20Downtown%20Toronto%2011%20%20%20%20Downtown%20Toronto%2012%20%20%20%20Downtown%20Toronto%2013%20%20%20%20Downtown%20Toronto%2014%20%20%20%20Downtown%20Toronto%2015%20%20%20%20Downtown%20Toronto%2016%20%20%20%20Downtown%20Toronto%2017%20%20%20%20Downtown%20Toronto%2018%20%20%20%20Downtown%20Toronto%2019%20%20%20%20Downtown%20Toronto%2020%20%20%20%20Downtown%20Toronto%2021%20%20%20%20Downtown%20Toronto%2022%20%20%20%20%20Central%20Toronto%2023%20%20%20%20%20Central%20Toronto%2024%20%20%20%20%20Central%20Toronto%2025%20%20%20%20Downtown%20Toronto%2026%20%20%20%20Downtown%20Toronto%2027%20%20%20%20Downtown%20Toronto%2028%20%20%20%20Downtown%20Toronto%2029%20%20%20%20Downtown%20Toronto%2030%20%20%20%20Downtown%20Toronto%2031%20%20%20%20%20%20%20%20West%20Toronto%2032%20%20%20%20%20%20%20%20West%20Toronto%2033%20%20%20%20%20%20%20%20West%20Toronto%2034%20%20%20%20%20%20%20%20West%20Toronto%2035%20%20%20%20%20%20%20%20West%20Toronto%2036%20%20%20%20%20%20%20%20West%20Toronto%2037%20%20%20%20%20%20%20%20East%20Toronto%20Name%3A%20Borough%2C%20dtype%3A%20object%20Cluster%203%3C/div%3E%60%29%5B0%5D%3B%0A%20%20%20%20%20%20%20%20%20%20%20%20popup_3c4a7e697dca4353a56ae986fdb31717.setContent%28html_4b810fc59f25456ab13db705794c8122%29%3B%0A%20%20%20%20%20%20%20%20%0A%0A%20%20%20%20%20%20%20%20circle_marker_7ce72e99b2ce4c08868744b30979c3cc.bindPopup%28popup_3c4a7e697dca4353a56ae986fdb31717%29%0A%20%20%20%20%20%20%20%20%3B%0A%0A%20%20%20%20%20%20%20%20%0A%20%20%20%20%0A%20%20%20%20%0A%20%20%20%20%20%20%20%20%20%20%20%20var%20circle_marker_da5a4efc48bb47fb959f256f9ab05092%20%3D%20L.circleMarker%28%0A%20%20%20%20%20%20%20%20%20%20%20%20%20%20%20%20%5B43.6368472%2C%20-79.42819140000002%5D%2C%0A%20%20%20%20%20%20%20%20%20%20%20%20%20%20%20%20%7B%22bubblingMouseEvents%22%3A%20true%2C%20%22color%22%3A%20%22%23d4dd80%22%2C%20%22dashArray%22%3A%20null%2C%20%22dashOffset%22%3A%20null%2C%20%22fill%22%3A%20true%2C%20%22fillColor%22%3A%20%22%23d4dd80%22%2C%20%22fillOpacity%22%3A%200.7%2C%20%22fillRule%22%3A%20%22evenodd%22%2C%20%22lineCap%22%3A%20%22round%22%2C%20%22lineJoin%22%3A%20%22round%22%2C%20%22opacity%22%3A%201.0%2C%20%22radius%22%3A%205%2C%20%22stroke%22%3A%20true%2C%20%22weight%22%3A%203%7D%0A%20%20%20%20%20%20%20%20%20%20%20%20%29.addTo%28map_48572ab121b2452292d0c49358e7f21b%29%3B%0A%20%20%20%20%20%20%20%20%0A%20%20%20%20%0A%20%20%20%20%20%20%20%20var%20popup_f2291198dbcc459f9a2425a49dd5b5ca%20%3D%20L.popup%28%7B%22maxWidth%22%3A%20%22100%25%22%7D%29%3B%0A%0A%20%20%20%20%20%20%20%20%0A%20%20%20%20%20%20%20%20%20%20%20%20var%20html_4e9b3889c89f4b12a8ee999ab6c07f96%20%3D%20%24%28%60%3Cdiv%20id%3D%22html_4e9b3889c89f4b12a8ee999ab6c07f96%22%20style%3D%22width%3A%20100.0%25%3B%20height%3A%20100.0%25%3B%22%3E0%20%20%20%20%20%20%20%20%20East%20Toronto%201%20%20%20%20%20%20%20%20%20East%20Toronto%202%20%20%20%20%20%20%20%20%20East%20Toronto%203%20%20%20%20%20%20%20%20%20East%20Toronto%204%20%20%20%20%20%20Central%20Toronto%205%20%20%20%20%20%20Central%20Toronto%206%20%20%20%20%20%20Central%20Toronto%207%20%20%20%20%20%20Central%20Toronto%208%20%20%20%20%20%20Central%20Toronto%209%20%20%20%20%20%20Central%20Toronto%2010%20%20%20%20Downtown%20Toronto%2011%20%20%20%20Downtown%20Toronto%2012%20%20%20%20Downtown%20Toronto%2013%20%20%20%20Downtown%20Toronto%2014%20%20%20%20Downtown%20Toronto%2015%20%20%20%20Downtown%20Toronto%2016%20%20%20%20Downtown%20Toronto%2017%20%20%20%20Downtown%20Toronto%2018%20%20%20%20Downtown%20Toronto%2019%20%20%20%20Downtown%20Toronto%2020%20%20%20%20Downtown%20Toronto%2021%20%20%20%20Downtown%20Toronto%2022%20%20%20%20%20Central%20Toronto%2023%20%20%20%20%20Central%20Toronto%2024%20%20%20%20%20Central%20Toronto%2025%20%20%20%20Downtown%20Toronto%2026%20%20%20%20Downtown%20Toronto%2027%20%20%20%20Downtown%20Toronto%2028%20%20%20%20Downtown%20Toronto%2029%20%20%20%20Downtown%20Toronto%2030%20%20%20%20Downtown%20Toronto%2031%20%20%20%20%20%20%20%20West%20Toronto%2032%20%20%20%20%20%20%20%20West%20Toronto%2033%20%20%20%20%20%20%20%20West%20Toronto%2034%20%20%20%20%20%20%20%20West%20Toronto%2035%20%20%20%20%20%20%20%20West%20Toronto%2036%20%20%20%20%20%20%20%20West%20Toronto%2037%20%20%20%20%20%20%20%20East%20Toronto%20Name%3A%20Borough%2C%20dtype%3A%20object%20Cluster%203%3C/div%3E%60%29%5B0%5D%3B%0A%20%20%20%20%20%20%20%20%20%20%20%20popup_f2291198dbcc459f9a2425a49dd5b5ca.setContent%28html_4e9b3889c89f4b12a8ee999ab6c07f96%29%3B%0A%20%20%20%20%20%20%20%20%0A%0A%20%20%20%20%20%20%20%20circle_marker_da5a4efc48bb47fb959f256f9ab05092.bindPopup%28popup_f2291198dbcc459f9a2425a49dd5b5ca%29%0A%20%20%20%20%20%20%20%20%3B%0A%0A%20%20%20%20%20%20%20%20%0A%20%20%20%20%0A%20%20%20%20%0A%20%20%20%20%20%20%20%20%20%20%20%20var%20circle_marker_79471946784c4db686f6d01bc7b3c58b%20%3D%20L.circleMarker%28%0A%20%20%20%20%20%20%20%20%20%20%20%20%20%20%20%20%5B43.6616083%2C%20-79.46476329999999%5D%2C%0A%20%20%20%20%20%20%20%20%20%20%20%20%20%20%20%20%7B%22bubblingMouseEvents%22%3A%20true%2C%20%22color%22%3A%20%22%23d4dd80%22%2C%20%22dashArray%22%3A%20null%2C%20%22dashOffset%22%3A%20null%2C%20%22fill%22%3A%20true%2C%20%22fillColor%22%3A%20%22%23d4dd80%22%2C%20%22fillOpacity%22%3A%200.7%2C%20%22fillRule%22%3A%20%22evenodd%22%2C%20%22lineCap%22%3A%20%22round%22%2C%20%22lineJoin%22%3A%20%22round%22%2C%20%22opacity%22%3A%201.0%2C%20%22radius%22%3A%205%2C%20%22stroke%22%3A%20true%2C%20%22weight%22%3A%203%7D%0A%20%20%20%20%20%20%20%20%20%20%20%20%29.addTo%28map_48572ab121b2452292d0c49358e7f21b%29%3B%0A%20%20%20%20%20%20%20%20%0A%20%20%20%20%0A%20%20%20%20%20%20%20%20var%20popup_36c352c5226f457fa5c9c2038884d46b%20%3D%20L.popup%28%7B%22maxWidth%22%3A%20%22100%25%22%7D%29%3B%0A%0A%20%20%20%20%20%20%20%20%0A%20%20%20%20%20%20%20%20%20%20%20%20var%20html_b12ab4e23eb94c7194e8104709cc9e7a%20%3D%20%24%28%60%3Cdiv%20id%3D%22html_b12ab4e23eb94c7194e8104709cc9e7a%22%20style%3D%22width%3A%20100.0%25%3B%20height%3A%20100.0%25%3B%22%3E0%20%20%20%20%20%20%20%20%20East%20Toronto%201%20%20%20%20%20%20%20%20%20East%20Toronto%202%20%20%20%20%20%20%20%20%20East%20Toronto%203%20%20%20%20%20%20%20%20%20East%20Toronto%204%20%20%20%20%20%20Central%20Toronto%205%20%20%20%20%20%20Central%20Toronto%206%20%20%20%20%20%20Central%20Toronto%207%20%20%20%20%20%20Central%20Toronto%208%20%20%20%20%20%20Central%20Toronto%209%20%20%20%20%20%20Central%20Toronto%2010%20%20%20%20Downtown%20Toronto%2011%20%20%20%20Downtown%20Toronto%2012%20%20%20%20Downtown%20Toronto%2013%20%20%20%20Downtown%20Toronto%2014%20%20%20%20Downtown%20Toronto%2015%20%20%20%20Downtown%20Toronto%2016%20%20%20%20Downtown%20Toronto%2017%20%20%20%20Downtown%20Toronto%2018%20%20%20%20Downtown%20Toronto%2019%20%20%20%20Downtown%20Toronto%2020%20%20%20%20Downtown%20Toronto%2021%20%20%20%20Downtown%20Toronto%2022%20%20%20%20%20Central%20Toronto%2023%20%20%20%20%20Central%20Toronto%2024%20%20%20%20%20Central%20Toronto%2025%20%20%20%20Downtown%20Toronto%2026%20%20%20%20Downtown%20Toronto%2027%20%20%20%20Downtown%20Toronto%2028%20%20%20%20Downtown%20Toronto%2029%20%20%20%20Downtown%20Toronto%2030%20%20%20%20Downtown%20Toronto%2031%20%20%20%20%20%20%20%20West%20Toronto%2032%20%20%20%20%20%20%20%20West%20Toronto%2033%20%20%20%20%20%20%20%20West%20Toronto%2034%20%20%20%20%20%20%20%20West%20Toronto%2035%20%20%20%20%20%20%20%20West%20Toronto%2036%20%20%20%20%20%20%20%20West%20Toronto%2037%20%20%20%20%20%20%20%20East%20Toronto%20Name%3A%20Borough%2C%20dtype%3A%20object%20Cluster%203%3C/div%3E%60%29%5B0%5D%3B%0A%20%20%20%20%20%20%20%20%20%20%20%20popup_36c352c5226f457fa5c9c2038884d46b.setContent%28html_b12ab4e23eb94c7194e8104709cc9e7a%29%3B%0A%20%20%20%20%20%20%20%20%0A%0A%20%20%20%20%20%20%20%20circle_marker_79471946784c4db686f6d01bc7b3c58b.bindPopup%28popup_36c352c5226f457fa5c9c2038884d46b%29%0A%20%20%20%20%20%20%20%20%3B%0A%0A%20%20%20%20%20%20%20%20%0A%20%20%20%20%0A%20%20%20%20%0A%20%20%20%20%20%20%20%20%20%20%20%20var%20circle_marker_9c35279c34cf4257aaef53881ce3337c%20%3D%20L.circleMarker%28%0A%20%20%20%20%20%20%20%20%20%20%20%20%20%20%20%20%5B43.6489597%2C%20-79.456325%5D%2C%0A%20%20%20%20%20%20%20%20%20%20%20%20%20%20%20%20%7B%22bubblingMouseEvents%22%3A%20true%2C%20%22color%22%3A%20%22%23d4dd80%22%2C%20%22dashArray%22%3A%20null%2C%20%22dashOffset%22%3A%20null%2C%20%22fill%22%3A%20true%2C%20%22fillColor%22%3A%20%22%23d4dd80%22%2C%20%22fillOpacity%22%3A%200.7%2C%20%22fillRule%22%3A%20%22evenodd%22%2C%20%22lineCap%22%3A%20%22round%22%2C%20%22lineJoin%22%3A%20%22round%22%2C%20%22opacity%22%3A%201.0%2C%20%22radius%22%3A%205%2C%20%22stroke%22%3A%20true%2C%20%22weight%22%3A%203%7D%0A%20%20%20%20%20%20%20%20%20%20%20%20%29.addTo%28map_48572ab121b2452292d0c49358e7f21b%29%3B%0A%20%20%20%20%20%20%20%20%0A%20%20%20%20%0A%20%20%20%20%20%20%20%20var%20popup_ce9fa28527964d64bebd34ec63826ea3%20%3D%20L.popup%28%7B%22maxWidth%22%3A%20%22100%25%22%7D%29%3B%0A%0A%20%20%20%20%20%20%20%20%0A%20%20%20%20%20%20%20%20%20%20%20%20var%20html_61b9f061eaac48c1a66a101592f8f78b%20%3D%20%24%28%60%3Cdiv%20id%3D%22html_61b9f061eaac48c1a66a101592f8f78b%22%20style%3D%22width%3A%20100.0%25%3B%20height%3A%20100.0%25%3B%22%3E0%20%20%20%20%20%20%20%20%20East%20Toronto%201%20%20%20%20%20%20%20%20%20East%20Toronto%202%20%20%20%20%20%20%20%20%20East%20Toronto%203%20%20%20%20%20%20%20%20%20East%20Toronto%204%20%20%20%20%20%20Central%20Toronto%205%20%20%20%20%20%20Central%20Toronto%206%20%20%20%20%20%20Central%20Toronto%207%20%20%20%20%20%20Central%20Toronto%208%20%20%20%20%20%20Central%20Toronto%209%20%20%20%20%20%20Central%20Toronto%2010%20%20%20%20Downtown%20Toronto%2011%20%20%20%20Downtown%20Toronto%2012%20%20%20%20Downtown%20Toronto%2013%20%20%20%20Downtown%20Toronto%2014%20%20%20%20Downtown%20Toronto%2015%20%20%20%20Downtown%20Toronto%2016%20%20%20%20Downtown%20Toronto%2017%20%20%20%20Downtown%20Toronto%2018%20%20%20%20Downtown%20Toronto%2019%20%20%20%20Downtown%20Toronto%2020%20%20%20%20Downtown%20Toronto%2021%20%20%20%20Downtown%20Toronto%2022%20%20%20%20%20Central%20Toronto%2023%20%20%20%20%20Central%20Toronto%2024%20%20%20%20%20Central%20Toronto%2025%20%20%20%20Downtown%20Toronto%2026%20%20%20%20Downtown%20Toronto%2027%20%20%20%20Downtown%20Toronto%2028%20%20%20%20Downtown%20Toronto%2029%20%20%20%20Downtown%20Toronto%2030%20%20%20%20Downtown%20Toronto%2031%20%20%20%20%20%20%20%20West%20Toronto%2032%20%20%20%20%20%20%20%20West%20Toronto%2033%20%20%20%20%20%20%20%20West%20Toronto%2034%20%20%20%20%20%20%20%20West%20Toronto%2035%20%20%20%20%20%20%20%20West%20Toronto%2036%20%20%20%20%20%20%20%20West%20Toronto%2037%20%20%20%20%20%20%20%20East%20Toronto%20Name%3A%20Borough%2C%20dtype%3A%20object%20Cluster%203%3C/div%3E%60%29%5B0%5D%3B%0A%20%20%20%20%20%20%20%20%20%20%20%20popup_ce9fa28527964d64bebd34ec63826ea3.setContent%28html_61b9f061eaac48c1a66a101592f8f78b%29%3B%0A%20%20%20%20%20%20%20%20%0A%0A%20%20%20%20%20%20%20%20circle_marker_9c35279c34cf4257aaef53881ce3337c.bindPopup%28popup_ce9fa28527964d64bebd34ec63826ea3%29%0A%20%20%20%20%20%20%20%20%3B%0A%0A%20%20%20%20%20%20%20%20%0A%20%20%20%20%0A%20%20%20%20%0A%20%20%20%20%20%20%20%20%20%20%20%20var%20circle_marker_d91c1e686d204421b002b5647fe85dbe%20%3D%20L.circleMarker%28%0A%20%20%20%20%20%20%20%20%20%20%20%20%20%20%20%20%5B43.6515706%2C%20-79.4844499%5D%2C%0A%20%20%20%20%20%20%20%20%20%20%20%20%20%20%20%20%7B%22bubblingMouseEvents%22%3A%20true%2C%20%22color%22%3A%20%22%23d4dd80%22%2C%20%22dashArray%22%3A%20null%2C%20%22dashOffset%22%3A%20null%2C%20%22fill%22%3A%20true%2C%20%22fillColor%22%3A%20%22%23d4dd80%22%2C%20%22fillOpacity%22%3A%200.7%2C%20%22fillRule%22%3A%20%22evenodd%22%2C%20%22lineCap%22%3A%20%22round%22%2C%20%22lineJoin%22%3A%20%22round%22%2C%20%22opacity%22%3A%201.0%2C%20%22radius%22%3A%205%2C%20%22stroke%22%3A%20true%2C%20%22weight%22%3A%203%7D%0A%20%20%20%20%20%20%20%20%20%20%20%20%29.addTo%28map_48572ab121b2452292d0c49358e7f21b%29%3B%0A%20%20%20%20%20%20%20%20%0A%20%20%20%20%0A%20%20%20%20%20%20%20%20var%20popup_46d626bc96b140148695c53c2759a0b7%20%3D%20L.popup%28%7B%22maxWidth%22%3A%20%22100%25%22%7D%29%3B%0A%0A%20%20%20%20%20%20%20%20%0A%20%20%20%20%20%20%20%20%20%20%20%20var%20html_8de10716c482487284a2ee5e33c6af35%20%3D%20%24%28%60%3Cdiv%20id%3D%22html_8de10716c482487284a2ee5e33c6af35%22%20style%3D%22width%3A%20100.0%25%3B%20height%3A%20100.0%25%3B%22%3E0%20%20%20%20%20%20%20%20%20East%20Toronto%201%20%20%20%20%20%20%20%20%20East%20Toronto%202%20%20%20%20%20%20%20%20%20East%20Toronto%203%20%20%20%20%20%20%20%20%20East%20Toronto%204%20%20%20%20%20%20Central%20Toronto%205%20%20%20%20%20%20Central%20Toronto%206%20%20%20%20%20%20Central%20Toronto%207%20%20%20%20%20%20Central%20Toronto%208%20%20%20%20%20%20Central%20Toronto%209%20%20%20%20%20%20Central%20Toronto%2010%20%20%20%20Downtown%20Toronto%2011%20%20%20%20Downtown%20Toronto%2012%20%20%20%20Downtown%20Toronto%2013%20%20%20%20Downtown%20Toronto%2014%20%20%20%20Downtown%20Toronto%2015%20%20%20%20Downtown%20Toronto%2016%20%20%20%20Downtown%20Toronto%2017%20%20%20%20Downtown%20Toronto%2018%20%20%20%20Downtown%20Toronto%2019%20%20%20%20Downtown%20Toronto%2020%20%20%20%20Downtown%20Toronto%2021%20%20%20%20Downtown%20Toronto%2022%20%20%20%20%20Central%20Toronto%2023%20%20%20%20%20Central%20Toronto%2024%20%20%20%20%20Central%20Toronto%2025%20%20%20%20Downtown%20Toronto%2026%20%20%20%20Downtown%20Toronto%2027%20%20%20%20Downtown%20Toronto%2028%20%20%20%20Downtown%20Toronto%2029%20%20%20%20Downtown%20Toronto%2030%20%20%20%20Downtown%20Toronto%2031%20%20%20%20%20%20%20%20West%20Toronto%2032%20%20%20%20%20%20%20%20West%20Toronto%2033%20%20%20%20%20%20%20%20West%20Toronto%2034%20%20%20%20%20%20%20%20West%20Toronto%2035%20%20%20%20%20%20%20%20West%20Toronto%2036%20%20%20%20%20%20%20%20West%20Toronto%2037%20%20%20%20%20%20%20%20East%20Toronto%20Name%3A%20Borough%2C%20dtype%3A%20object%20Cluster%203%3C/div%3E%60%29%5B0%5D%3B%0A%20%20%20%20%20%20%20%20%20%20%20%20popup_46d626bc96b140148695c53c2759a0b7.setContent%28html_8de10716c482487284a2ee5e33c6af35%29%3B%0A%20%20%20%20%20%20%20%20%0A%0A%20%20%20%20%20%20%20%20circle_marker_d91c1e686d204421b002b5647fe85dbe.bindPopup%28popup_46d626bc96b140148695c53c2759a0b7%29%0A%20%20%20%20%20%20%20%20%3B%0A%0A%20%20%20%20%20%20%20%20%0A%20%20%20%20%0A%20%20%20%20%0A%20%20%20%20%20%20%20%20%20%20%20%20var%20circle_marker_da130f403ca94d649d2220b18e6a2883%20%3D%20L.circleMarker%28%0A%20%20%20%20%20%20%20%20%20%20%20%20%20%20%20%20%5B43.6627439%2C%20-79.321558%5D%2C%0A%20%20%20%20%20%20%20%20%20%20%20%20%20%20%20%20%7B%22bubblingMouseEvents%22%3A%20true%2C%20%22color%22%3A%20%22%23ff0000%22%2C%20%22dashArray%22%3A%20null%2C%20%22dashOffset%22%3A%20null%2C%20%22fill%22%3A%20true%2C%20%22fillColor%22%3A%20%22%23ff0000%22%2C%20%22fillOpacity%22%3A%200.7%2C%20%22fillRule%22%3A%20%22evenodd%22%2C%20%22lineCap%22%3A%20%22round%22%2C%20%22lineJoin%22%3A%20%22round%22%2C%20%22opacity%22%3A%201.0%2C%20%22radius%22%3A%205%2C%20%22stroke%22%3A%20true%2C%20%22weight%22%3A%203%7D%0A%20%20%20%20%20%20%20%20%20%20%20%20%29.addTo%28map_48572ab121b2452292d0c49358e7f21b%29%3B%0A%20%20%20%20%20%20%20%20%0A%20%20%20%20%0A%20%20%20%20%20%20%20%20var%20popup_af44338bbf3041099d4cb74f1c927e08%20%3D%20L.popup%28%7B%22maxWidth%22%3A%20%22100%25%22%7D%29%3B%0A%0A%20%20%20%20%20%20%20%20%0A%20%20%20%20%20%20%20%20%20%20%20%20var%20html_68597340613f4cb08ed9491b7a447ae1%20%3D%20%24%28%60%3Cdiv%20id%3D%22html_68597340613f4cb08ed9491b7a447ae1%22%20style%3D%22width%3A%20100.0%25%3B%20height%3A%20100.0%25%3B%22%3E0%20%20%20%20%20%20%20%20%20East%20Toronto%201%20%20%20%20%20%20%20%20%20East%20Toronto%202%20%20%20%20%20%20%20%20%20East%20Toronto%203%20%20%20%20%20%20%20%20%20East%20Toronto%204%20%20%20%20%20%20Central%20Toronto%205%20%20%20%20%20%20Central%20Toronto%206%20%20%20%20%20%20Central%20Toronto%207%20%20%20%20%20%20Central%20Toronto%208%20%20%20%20%20%20Central%20Toronto%209%20%20%20%20%20%20Central%20Toronto%2010%20%20%20%20Downtown%20Toronto%2011%20%20%20%20Downtown%20Toronto%2012%20%20%20%20Downtown%20Toronto%2013%20%20%20%20Downtown%20Toronto%2014%20%20%20%20Downtown%20Toronto%2015%20%20%20%20Downtown%20Toronto%2016%20%20%20%20Downtown%20Toronto%2017%20%20%20%20Downtown%20Toronto%2018%20%20%20%20Downtown%20Toronto%2019%20%20%20%20Downtown%20Toronto%2020%20%20%20%20Downtown%20Toronto%2021%20%20%20%20Downtown%20Toronto%2022%20%20%20%20%20Central%20Toronto%2023%20%20%20%20%20Central%20Toronto%2024%20%20%20%20%20Central%20Toronto%2025%20%20%20%20Downtown%20Toronto%2026%20%20%20%20Downtown%20Toronto%2027%20%20%20%20Downtown%20Toronto%2028%20%20%20%20Downtown%20Toronto%2029%20%20%20%20Downtown%20Toronto%2030%20%20%20%20Downtown%20Toronto%2031%20%20%20%20%20%20%20%20West%20Toronto%2032%20%20%20%20%20%20%20%20West%20Toronto%2033%20%20%20%20%20%20%20%20West%20Toronto%2034%20%20%20%20%20%20%20%20West%20Toronto%2035%20%20%20%20%20%20%20%20West%20Toronto%2036%20%20%20%20%20%20%20%20West%20Toronto%2037%20%20%20%20%20%20%20%20East%20Toronto%20Name%3A%20Borough%2C%20dtype%3A%20object%20Cluster%204%3C/div%3E%60%29%5B0%5D%3B%0A%20%20%20%20%20%20%20%20%20%20%20%20popup_af44338bbf3041099d4cb74f1c927e08.setContent%28html_68597340613f4cb08ed9491b7a447ae1%29%3B%0A%20%20%20%20%20%20%20%20%0A%0A%20%20%20%20%20%20%20%20circle_marker_da130f403ca94d649d2220b18e6a2883.bindPopup%28popup_af44338bbf3041099d4cb74f1c927e08%29%0A%20%20%20%20%20%20%20%20%3B%0A%0A%20%20%20%20%20%20%20%20%0A%20%20%20%20%0A%3C/script%3E onload=\"this.contentDocument.open();this.contentDocument.write(    decodeURIComponent(this.getAttribute('data-html')));this.contentDocument.close();\" allowfullscreen webkitallowfullscreen mozallowfullscreen></iframe></div></div>"
      ],
      "text/plain": [
       "<folium.folium.Map at 0xaf0de50>"
      ]
     },
     "execution_count": 89,
     "metadata": {},
     "output_type": "execute_result"
    }
   ],
   "source": [
    "map_toronto"
   ]
  },
  {
   "cell_type": "code",
   "execution_count": 92,
   "metadata": {},
   "outputs": [
    {
     "name": "stdout",
     "output_type": "stream",
     "text": [
      "finish\n"
     ]
    }
   ],
   "source": [
    "print (\"finish\")"
   ]
  },
  {
   "cell_type": "code",
   "execution_count": null,
   "metadata": {},
   "outputs": [],
   "source": []
  },
  {
   "cell_type": "code",
   "execution_count": null,
   "metadata": {},
   "outputs": [],
   "source": []
  }
 ],
 "metadata": {
  "kernelspec": {
   "display_name": "Python 3",
   "language": "python",
   "name": "python3"
  },
  "language_info": {
   "codemirror_mode": {
    "name": "ipython",
    "version": 3
   },
   "file_extension": ".py",
   "mimetype": "text/x-python",
   "name": "python",
   "nbconvert_exporter": "python",
   "pygments_lexer": "ipython3",
   "version": "3.8.5"
  }
 },
 "nbformat": 4,
 "nbformat_minor": 4
}
