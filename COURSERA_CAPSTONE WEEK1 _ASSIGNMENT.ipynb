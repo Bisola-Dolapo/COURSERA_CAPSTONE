{
 "cells": [
  {
   "cell_type": "markdown",
   "id": "27eec147",
   "metadata": {},
   "source": [
    "#### Coursera Capstone Project"
   ]
  },
  {
   "cell_type": "markdown",
   "id": "8e9b91f4",
   "metadata": {},
   "source": [
    "###### Week 1 - Assignment Details\n",
    "###### Write some markdown to explain that this notebook will be mainly used for the capstone project.\n",
    "###### Import the pandas library as pd.\n",
    "###### Import the Numpy library as np.\n",
    "###### Print the following the statement: Hello Capstone Project Course!"
   ]
  },
  {
   "cell_type": "code",
   "execution_count": 1,
   "id": "f8e44aae",
   "metadata": {},
   "outputs": [],
   "source": [
    "import pandas as pd\n",
    "import numpy as np"
   ]
  },
  {
   "cell_type": "code",
   "execution_count": 2,
   "id": "ddac1f60",
   "metadata": {},
   "outputs": [
    {
     "name": "stdout",
     "output_type": "stream",
     "text": [
      "Hello Capstone Project Course!\n"
     ]
    }
   ],
   "source": [
    "print(\"Hello Capstone Project Course!\")"
   ]
  },
  {
   "cell_type": "code",
   "execution_count": null,
   "id": "bfd7c802",
   "metadata": {},
   "outputs": [],
   "source": []
  }
 ],
 "metadata": {
  "kernelspec": {
   "display_name": "Python",
   "language": "python",
   "name": "conda-env-python-py"
  },
  "language_info": {
   "codemirror_mode": {
    "name": "ipython",
    "version": 3
   },
   "file_extension": ".py",
   "mimetype": "text/x-python",
   "name": "python",
   "nbconvert_exporter": "python",
   "pygments_lexer": "ipython3",
   "version": "3.6.13"
  }
 },
 "nbformat": 4,
 "nbformat_minor": 5
}
